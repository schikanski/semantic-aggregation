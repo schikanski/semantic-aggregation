{
 "cells": [
  {
   "cell_type": "code",
   "execution_count": 65,
   "metadata": {},
   "outputs": [],
   "source": [
    "import numpy as np\n",
    "import scipy as sp\n",
    "import pandas as pd\n",
    "import matplotlib.pyplot as plt\n",
    "import seaborn as sns\n",
    "\n",
    "from fiz_lernmodule.preprocessing import PreProcessor\n",
    "\n",
    "import pickle\n",
    "import re\n",
    "\n",
    "# for clustering\n",
    "from sklearn.cluster import *\n",
    "from sklearn.feature_extraction.text import TfidfVectorizer\n",
    "\n",
    "from sklearn.metrics import pairwise_distances\n",
    "\n",
    "from ipc_tools import read_ipc\n",
    "ipc_dict = read_ipc('data/EN_ipc_title_list_20190101')\n",
    "\n",
    "from utilities import *"
   ]
  },
  {
   "cell_type": "code",
   "execution_count": 66,
   "metadata": {},
   "outputs": [],
   "source": [
    "seed_list = ['hair_dryer', 'video_codec', 'diesel', \"contact_lens\", \"contact_lens_us_c\", \"3d_printer\"]\n",
    "src_dir = '.'\n",
    "seeds = [seed_list[1]]\n",
    "seed_name = seeds[0]\n",
    "\n",
    "with open(src_dir + \"/data/\" + seed_name + \"/clustered.pkl\", 'rb') as infile:\n",
    "    df = pickle.load(infile)"
   ]
  },
  {
   "cell_type": "markdown",
   "metadata": {},
   "source": [
    "# Concept cluster"
   ]
  },
  {
   "cell_type": "markdown",
   "metadata": {},
   "source": [
    "### Configuration variables"
   ]
  },
  {
   "cell_type": "code",
   "execution_count": 6,
   "metadata": {},
   "outputs": [],
   "source": [
    "# Configuration variables\n",
    "\n",
    "stem = False\n",
    "remove_duplicates = False\n",
    "min_ngram_length = 1\n",
    "max_ngram_length = 2\n",
    "max_sent_cluster_fraction = 0.3\n",
    "filter_diversity = False\n",
    "cluster_diversity = 0.33"
   ]
  },
  {
   "cell_type": "code",
   "execution_count": 7,
   "metadata": {},
   "outputs": [],
   "source": [
    "def filter_text(text, join=True, return_joined=False, remove_duplicates=False, remove_short_long=True, stem=True):\n",
    "    pre = PreProcessor()\n",
    "    if join:\n",
    "        filtered_text = pre.preprocess_text(' '.join(text), remove_short_long=remove_short_long, stem=stem)\n",
    "    else:\n",
    "        filtered_text = pre.preprocess_text(text, remove_short_long=remove_short_long, stem=stem)\n",
    "    # index = []\n",
    "    # next_pos = 0\n",
    "    # for word in filtered_text:\n",
    "    #     for idx in range(next_pos, len(text)):\n",
    "    #         if word == text[idx]:\n",
    "    #             index.append(idx)\n",
    "    #             next_pos = idx + 1\n",
    "    #             break\n",
    "\n",
    "    if remove_duplicates:\n",
    "        filtered_text = list(set(filtered_text))\n",
    "\n",
    "    if return_joined:\n",
    "        return [' '.join(filtered_text)]\n",
    "    else:\n",
    "        return filtered_text\n",
    "\n",
    "vectorizer = TfidfVectorizer(sublinear_tf=True, min_df=1, max_df=1.0, norm='l2', ngram_range=(min_ngram_length, max_ngram_length))\n",
    "\n",
    "all_filtered_documents = df['abstract_text'].apply(lambda x: filter_text(x, join=False, return_joined=True, stem=stem, remove_duplicates=remove_duplicates)).apply(lambda x: x[0]).to_list()\n",
    "\n",
    "vectorizer.fit(all_filtered_documents)\n",
    "features = np.array(vectorizer.get_feature_names())\n",
    "\n",
    "def tfidf_on_document(doc, vectorizer, features, end=None):\n",
    "    if type(doc) != list:\n",
    "        doc = [doc]\n",
    "    transformed = vectorizer.transform(doc)\n",
    "    tfidf_sorting = np.argsort(transformed.toarray().flatten())[::-1] % features.shape[0]\n",
    "    sorted_terms = features[tfidf_sorting]\n",
    "    return sorted_terms[:end]"
   ]
  },
  {
   "cell_type": "markdown",
   "metadata": {},
   "source": [
    "## helper functions"
   ]
  },
  {
   "cell_type": "code",
   "execution_count": 8,
   "metadata": {},
   "outputs": [],
   "source": [
    "def generate_ngrams(words_list, n=max_ngram_length):\n",
    "    \"Helper function, mainly for extract_ipc_keywords\"\n",
    "    ngrams_list = []\n",
    " \n",
    "    for num in range(0, len(words_list)):\n",
    "        ngram = ' '.join(words_list[num:num + n])\n",
    "        ngrams_list.append(ngram)\n",
    " \n",
    "    return ngrams_list\n",
    "\n",
    "def parenthesis_remover(text_string):\n",
    "    return re.sub(r'\\([^)]*\\)', '', text_string)\n",
    "\n",
    "def symbol_remover(text_string):\n",
    "    text_string = re.sub(r'[,|.|;]', '', text_string)\n",
    "    text_string = re.sub('[ |\\n]+', ' ', text_string)\n",
    "    return text_string\n",
    "\n",
    "def plot_ipc_dist(df, threshold=0.0, reduce_hierarchy=False, sort=False):\n",
    "    codes, frequency = get_common_ipc(df, threshold=threshold, reduce_hierarchy=reduce_hierarchy, sort=sort)\n",
    "    fig = plt.figure(figsize=(25,6))\n",
    "    ax = fig.gca()\n",
    "    ax.set_xticklabels(ax.get_xticks(), rotation = 45)\n",
    "    sns.barplot(x=codes, y=frequency)\n",
    "    plt.show()\n",
    "\n",
    "def get_common_ipc(df, threshold=0.33, reduce_hierarchy=False, sort=True):\n",
    "    if not reduce_hierarchy:\n",
    "        ipc_classes = [y for x in df['ipc_classes'] for y in x]\n",
    "    else:\n",
    "        ipc_classes = [y for x in df['before_slash'] for y in x]\n",
    "        ipc_classes = list(map(lambda x: x + '/00', ipc_classes))\n",
    "    codes, frequency = np.unique(ipc_classes, return_counts=True)\n",
    "    if sort:\n",
    "        ranking = np.argsort(frequency)[::-1]\n",
    "        codes, frequency = codes[ranking], frequency[ranking]\n",
    "    mask = frequency/len(df) > threshold\n",
    "    return codes[mask], np.round(frequency[mask]/len(df), 2)\n",
    "\n",
    "def get_common_ipc_descriptions(df, threshold=0.33, reduce_hierarchy=False, remove_parenthesis=True, remove_symbols=True):\n",
    "    ipc_codes, _ = get_common_ipc(df, threshold=threshold, reduce_hierarchy=reduce_hierarchy)\n",
    "    ipc_descriptions = []\n",
    "    for code in ipc_codes:\n",
    "        if code in list(ipc_dict.keys()):\n",
    "            ipc_descriptions.append(ipc_dict[code])\n",
    "    if remove_parenthesis:\n",
    "        ipc_descriptions = list(map(parenthesis_remover, ipc_descriptions))\n",
    "    if remove_symbols:\n",
    "        ipc_descriptions = list(map(symbol_remover, ipc_descriptions))\n",
    "    return ipc_descriptions\n",
    "\n",
    "def print_common_ipc(df, threshold=0.33, reduce_hierarchy=False):\n",
    "    codes, frequency = get_common_ipc(df, threshold, reduce_hierarchy)\n",
    "    for code, fraction in zip(codes, frequency):\n",
    "        try:\n",
    "            print(f'{code}, {fraction}:\\t', ipc_dict[code])\n",
    "        except:\n",
    "            print(f'!No entry for {code}, {fraction}!')"
   ]
  },
  {
   "cell_type": "code",
   "execution_count": 9,
   "metadata": {},
   "outputs": [
    {
     "name": "stdout",
     "output_type": "stream",
     "text": [
      "[0.18 0.15 0.15 0.12 0.11 0.07 0.05 0.05 0.04 0.03 0.03 0.03]\n",
      "[0.18 0.32 0.47 0.59 0.7  0.77 0.82 0.88 0.92 0.95 0.97 1.  ]\n",
      "------------------------------------------------------------------------------------------------------------------------\n",
      "[0.24 0.24 0.17 0.1  0.09 0.05 0.03 0.02 0.02 0.02 0.02]\n",
      "[0.24 0.48 0.66 0.76 0.84 0.9  0.93 0.95 0.97 0.98 1.  ]\n",
      "------------------------------------------------------------------------------------------------------------------------\n",
      "[0.22 0.12 0.1  0.1  0.09 0.07 0.07 0.06 0.06 0.04 0.01 0.01 0.01]\n",
      "[0.22 0.34 0.45 0.55 0.64 0.72 0.79 0.85 0.91 0.96 0.97 0.99 1.  ]\n",
      "------------------------------------------------------------------------------------------------------------------------\n",
      "[0.14 0.11 0.11 0.09 0.06 0.05 0.04 0.04 0.04 0.03 0.03 0.03 0.03 0.03\n",
      " 0.03 0.02 0.02 0.02 0.02 0.02 0.02 0.01 0.01 0.01 0.01 0.01 0.01 0.01]\n",
      "[0.14 0.25 0.36 0.45 0.5  0.55 0.59 0.62 0.66 0.69 0.72 0.74 0.77 0.8\n",
      " 0.83 0.84 0.86 0.88 0.9  0.92 0.94 0.94 0.95 0.96 0.97 0.98 0.99 1.  ]\n",
      "------------------------------------------------------------------------------------------------------------------------\n",
      "[0.14 0.11 0.09 0.07 0.06 0.05 0.05 0.05 0.04 0.03 0.03 0.03 0.03 0.03\n",
      " 0.03 0.02 0.02 0.02 0.02 0.02 0.02 0.02 0.01 0.01 0.01 0.01 0.01 0.01]\n",
      "[0.14 0.25 0.34 0.41 0.48 0.53 0.58 0.62 0.66 0.68 0.71 0.74 0.77 0.79\n",
      " 0.82 0.84 0.86 0.87 0.89 0.91 0.93 0.95 0.95 0.96 0.97 0.98 0.99 1.  ]\n",
      "------------------------------------------------------------------------------------------------------------------------\n",
      "[0.2  0.14 0.13 0.12 0.12 0.09 0.07 0.04 0.04 0.03 0.01]\n",
      "[0.2  0.35 0.48 0.59 0.71 0.8  0.87 0.91 0.96 0.99 1.  ]\n",
      "------------------------------------------------------------------------------------------------------------------------\n",
      "[0.21 0.18 0.1  0.1  0.08 0.07 0.07 0.04 0.04 0.03 0.03 0.01 0.01 0.01]\n",
      "[0.21 0.39 0.49 0.59 0.68 0.75 0.82 0.86 0.9  0.93 0.96 0.97 0.99 1.  ]\n",
      "------------------------------------------------------------------------------------------------------------------------\n",
      "[0.35 0.33 0.19 0.05 0.02 0.02 0.02 0.02]\n",
      "[0.35 0.67 0.86 0.91 0.93 0.95 0.98 1.  ]\n",
      "------------------------------------------------------------------------------------------------------------------------\n",
      "[0.18 0.16 0.16 0.16 0.16 0.05 0.04 0.02 0.02 0.02 0.02 0.02 0.02]\n",
      "[0.18 0.33 0.49 0.65 0.81 0.86 0.89 0.91 0.93 0.95 0.96 0.98 1.  ]\n",
      "------------------------------------------------------------------------------------------------------------------------\n",
      "[0.2  0.16 0.1  0.1  0.1  0.09 0.07 0.06 0.04 0.04 0.03 0.01]\n",
      "[0.2  0.36 0.46 0.56 0.66 0.74 0.81 0.87 0.91 0.96 0.99 1.  ]\n",
      "------------------------------------------------------------------------------------------------------------------------\n",
      "[0.15 0.15 0.15 0.12 0.12 0.1  0.08 0.06 0.06 0.02]\n",
      "[0.15 0.31 0.46 0.58 0.69 0.79 0.87 0.92 0.98 1.  ]\n",
      "------------------------------------------------------------------------------------------------------------------------\n",
      "[0.36 0.15 0.15 0.15 0.09 0.06 0.03]\n",
      "[0.36 0.52 0.67 0.82 0.91 0.97 1.  ]\n",
      "------------------------------------------------------------------------------------------------------------------------\n",
      "[0.25 0.17 0.11 0.11 0.11 0.06 0.04 0.04 0.03 0.03 0.03 0.03]\n",
      "[0.25 0.42 0.53 0.64 0.75 0.81 0.85 0.89 0.92 0.94 0.97 1.  ]\n",
      "------------------------------------------------------------------------------------------------------------------------\n",
      "[0.18 0.17 0.11 0.1  0.08 0.07 0.06 0.06 0.04 0.03 0.03 0.01 0.01 0.01\n",
      " 0.01 0.01]\n",
      "[0.18 0.35 0.46 0.56 0.65 0.72 0.77 0.83 0.87 0.9  0.93 0.94 0.96 0.97\n",
      " 0.99 1.  ]\n",
      "------------------------------------------------------------------------------------------------------------------------\n"
     ]
    }
   ],
   "source": [
    "# Sentence clustering happens here\n",
    "\n",
    "grouped = df.groupby('cluster')\n",
    "decoded_sentences_from_all_document_clusters = []\n",
    "doc_idxs_from_all_doc_clusters = []\n",
    "for cluster_idx in np.unique(df['cluster']):\n",
    "    selected_group = grouped.get_group(cluster_idx)\n",
    "    all_sentence_embeddings = np.concatenate(selected_group['sentence_embeddings'].tolist())\n",
    "    all_decoded_sentences = [y for x in selected_group['decoded_sentences'] for y in x] # debug len 52\n",
    "    \n",
    "    lengths = selected_group['decoded_sentences'].apply(len)\n",
    "    document_idxs = np.zeros(lengths.cumsum().iloc[-1], dtype=np.int64)\n",
    "    past = 0\n",
    "    for idx, amount in lengths.iteritems():\n",
    "        document_idxs[past:(past+amount)] = idx\n",
    "        past += amount\n",
    "\n",
    "    cluster = cak(all_sentence_embeddings)\n",
    "    unique, count = np.unique(cluster.labels_, return_counts=True)\n",
    "    print(np.round(np.sort(count)[::-1]/len(all_sentence_embeddings), 2))\n",
    "    print(np.round(np.cumsum(np.sort(count)[::-1]/len(all_sentence_embeddings)), 2))\n",
    "    print(120*'-')\n",
    "    num_dominant_clusters = np.where(np.cumsum(np.sort(count)[::-1]/len(all_sentence_embeddings)) >= max_sent_cluster_fraction)[0][0] + 1  # amount of clusters which acumulate to at least 50%\n",
    "    dominant_clusters = unique[np.argsort(count)[::-1][:num_dominant_clusters]]\n",
    "    \n",
    "    decoded_sentences_of_document_cluster = []\n",
    "    doc_idx_of_sentences_of_doc_cluster = []\n",
    "    for cluster_idx, cluster_center in zip(dominant_clusters, cluster.cluster_centers_[dominant_clusters]):\n",
    "        idx_of_sentences = np.where(cluster.labels_ == cluster_idx)[0]\n",
    "        sentences_of_cluster = all_sentence_embeddings[idx_of_sentences]\n",
    "        nearest_sentences = np.argsort(pairwise_distances(cluster_center.reshape(1, -1), sentences_of_cluster))[0]#[:5] #can limit the amount of sentences of a sentence cluster\n",
    "        nearest_sentences = idx_of_sentences[nearest_sentences]\n",
    "        decoded_sentences_of_sentence_cluster = []\n",
    "        for i in nearest_sentences:\n",
    "            decoded_sentences_of_sentence_cluster.append(' '.join(filter_text(all_decoded_sentences[i], stem=stem)))\n",
    "        decoded_sentences_of_document_cluster.append(list(set(decoded_sentences_of_sentence_cluster)))\n",
    "        doc_idx_of_sentences_of_doc_cluster.append(document_idxs[nearest_sentences])\n",
    "    if not decoded_sentences_of_document_cluster:\n",
    "        print(\"It's empty!\")\n",
    "        break\n",
    "    decoded_sentences_from_all_document_clusters.append(decoded_sentences_of_document_cluster)\n",
    "    doc_idxs_from_all_doc_clusters.append(doc_idx_of_sentences_of_doc_cluster)\n",
    "del all_sentence_embeddings, all_decoded_sentences, lengths, document_idxs, past, cluster, unique, count, num_dominant_clusters, dominant_clusters, nearest_sentences\n",
    "del decoded_sentences_of_sentence_cluster, decoded_sentences_of_document_cluster, doc_idx_of_sentences_of_doc_cluster, sentences_of_cluster, selected_group, amount, idx"
   ]
  },
  {
   "cell_type": "code",
   "execution_count": 10,
   "metadata": {},
   "outputs": [],
   "source": [
    "import pickle\n",
    "\n",
    "# with open('data/saved_variables/decoded_sentences_from_all_document_clusters.pkl', 'wb') as f:\n",
    "#     pickle.dump(decoded_sentences_from_all_document_clusters, f)\n",
    "# with open('data/saved_variables/doc_idxs_from_all_doc_clusters.pkl', 'wb') as f:\n",
    "#     pickle.dump(doc_idxs_from_all_doc_clusters, f)\n",
    "\n",
    "with open('data/saved_variables/decoded_sentences_from_all_document_clusters.pkl', 'rb') as f:\n",
    "    decoded_sentences_from_all_document_clusters = pickle.load(f)\n",
    "with open('data/saved_variables/doc_idxs_from_all_doc_clusters.pkl', 'rb') as f:\n",
    "    doc_idxs_from_all_doc_clusters = pickle.load(f)"
   ]
  },
  {
   "cell_type": "markdown",
   "metadata": {},
   "source": [
    "## Filter sentence cluster in document cluster which diversity is less than 0cluster_diversity. If no sentence cluster is left, the one with highest diversity is chosen."
   ]
  },
  {
   "cell_type": "code",
   "execution_count": 11,
   "metadata": {},
   "outputs": [],
   "source": [
    "# Filter sentence cluster in document cluster which diversity is less than 0.33. If no sentence cluster is left, the one with highest diversity is chosen.\n",
    "\n",
    "def calc_diversity(array):\n",
    "    return np.unique(array).shape[0]/array.shape[0]\n",
    "\n",
    "if filter_diversity:\n",
    "    new_decoded_sentences_from_all_document_clusters = []\n",
    "    new_doc_idxs_from_all_doc_clusters = []\n",
    "    for idx, cluster in enumerate(doc_idxs_from_all_doc_clusters):\n",
    "        diversity = list(map(calc_diversity, cluster))\n",
    "        print(diversity)\n",
    "        target = [i for i, val in enumerate(diversity) if val > cluster_diversity]\n",
    "        if target:\n",
    "            decoded_sentences_of_document_cluster = [decoded_sentences_from_all_document_clusters[idx][x] for x in target]\n",
    "            doc_idx_of_sentences_of_doc_cluster = [doc_idxs_from_all_doc_clusters[idx][x] for x in target]\n",
    "            pass\n",
    "        else:\n",
    "            decoded_sentences_of_document_cluster = [decoded_sentences_from_all_document_clusters[idx][np.argmax(diversity)]]\n",
    "            doc_idx_of_sentences_of_doc_cluster = [doc_idxs_from_all_doc_clusters[idx][np.argmax(diversity)]]\n",
    "        new_decoded_sentences_from_all_document_clusters.append(decoded_sentences_of_document_cluster)\n",
    "        new_doc_idxs_from_all_doc_clusters.append(doc_idx_of_sentences_of_doc_cluster)\n",
    "    del decoded_sentences_of_document_cluster, doc_idx_of_sentences_of_doc_cluster, target, diversity, idx, cluster\n",
    "\n",
    "    decoded_sentences_from_all_document_clusters = new_decoded_sentences_from_all_document_clusters\n",
    "    doc_idxs_from_all_doc_clusters = new_doc_idxs_from_all_doc_clusters"
   ]
  },
  {
   "cell_type": "markdown",
   "metadata": {},
   "source": [
    "## New vectorizer which has been fitted on all sentences from all dominant sentence clusters from all document clusters"
   ]
  },
  {
   "cell_type": "code",
   "execution_count": 12,
   "metadata": {},
   "outputs": [],
   "source": [
    "vectorizer = vectorizer.fit(sorted([' '.join(z) for y in decoded_sentences_from_all_document_clusters for z in y])) # treat sentences of sentence cluster as one document\n",
    "features = np.array(vectorizer.get_feature_names())"
   ]
  },
  {
   "cell_type": "markdown",
   "metadata": {},
   "source": [
    "# Keyword extraction of sentence clusters"
   ]
  },
  {
   "cell_type": "code",
   "execution_count": 13,
   "metadata": {},
   "outputs": [],
   "source": [
    "def filter_redundant_words(output, allow_n_grams=True, new_output_size=20, init_filter_list=None, limit_input=200):\n",
    "    new_output = []\n",
    "    for extract in output[:limit_input]:\n",
    "        if isinstance(init_filter_list, list) and init_filter_list:\n",
    "            filter_list = ' '.join(init_filter_list.copy()).split(' ')\n",
    "        else:\n",
    "            filter_list = []\n",
    "        for extract2 in new_output:\n",
    "            filter_list.extend(extract2.split(' '))\n",
    "        skip = False\n",
    "        if allow_n_grams:\n",
    "            splitted_extract = extract.split(' ')     # allows single words from n-gram if new\n",
    "        for word in extract.split(' '):\n",
    "            if word in filter_list:\n",
    "                skip = True\n",
    "                if allow_n_grams:\n",
    "                    splitted_extract.remove(word)     # allows single words from n-gram if new\n",
    "        if not skip:\n",
    "            new_output.append(extract)\n",
    "        elif allow_n_grams:                                     # allows single words from n-gram if new\n",
    "            new_output.extend(splitted_extract)   # allows single words from n-gram if new\n",
    "    return new_output[:new_output_size]\n",
    "\n",
    "def calc_share(doc_cluster):\n",
    "    share = np.empty(len(doc_cluster))\n",
    "    sentence_amount = len(flatten(doc_cluster))\n",
    "    for i in range(len(doc_cluster)):\n",
    "        share[i] = len(doc_cluster[i])/sentence_amount\n",
    "    return np.round(share, 1)\n",
    "\n",
    "# Extract keywords from sentence cluster of a document cluster\n",
    "def extract_keywords(doc_cluster, kw_amount=20):\n",
    "    share = calc_share(doc_cluster)\n",
    "    keywords = []\n",
    "    for i, cluster in enumerate(doc_cluster):\n",
    "        output = filter_redundant_words(list(tfidf_on_document(cluster, vectorizer=vectorizer, features=features)), new_output_size=kw_amount, init_filter_list=keywords)\n",
    "        keywords.extend(output[:int(share[i]*kw_amount)])\n",
    "    return keywords\n",
    "\n",
    "def extract_ipc_keywords(df, max_ngram_length=max_ngram_length, threshold=0.33, reduce_hierarchy=False, remove_parenthesis=True, remove_symbols=True):\n",
    "    \"For evaluation purpose.\"\n",
    "    descriptions = get_common_ipc_descriptions(df, threshold=threshold, reduce_hierarchy=False, remove_parenthesis=remove_parenthesis, remove_symbols=remove_symbols)\n",
    "    descriptions = ' '.join(descriptions)\n",
    "    keywords = descriptions.split(' ')\n",
    "\n",
    "    if max_ngram_length > 1:\n",
    "        for i in range(2, max_ngram_length+1):\n",
    "            keywords.extend(generate_ngrams(descriptions.split(' '), i))\n",
    "\n",
    "    return sorted(list(set(keywords)))"
   ]
  },
  {
   "cell_type": "markdown",
   "metadata": {},
   "source": [
    "## Keyword extraction and evaluation for all clusters"
   ]
  },
  {
   "cell_type": "code",
   "execution_count": 18,
   "metadata": {},
   "outputs": [
    {
     "name": "stdout",
     "output_type": "stream",
     "text": [
      "Cluster: 0 \n",
      "\n",
      "Unique keywords among all document clusters: ['block type', 'collocated current', 'differential motion', 'vector encoder', 'pmv', 'provided encoding', 'vectors', 'ordered', 'multiple reference', 'ordinary', 'prediction number', 'spatial', 'virtual', 'differences']\n",
      "Extracted keywords: ['block type', 'collocated current', 'differential motion', 'vector encoder', 'predictor', 'pmv', 'signal', 'provided encoding', 'vectors', 'image', 'ordered', 'multiple reference', 'ordinary', 'information', 'prediction number', 'encoded', 'temporal', 'spatial', 'virtual', 'differences']\n",
      "TF-IDF keywords: ['block type', 'motion image', 'ordered', 'vector', 'collocated current', 'encoder', 'differential', 'predictor', 'multiple reference', 'ordinary', 'pmv', 'information', 'vectors', 'candidate', 'signal', 'provided encoding', 'prediction number', 'encoded', 'optimum', 'temporal']\n",
      "IPC words: ['', ' Motion', 'Embedding', 'Embedding additional', 'Motion', 'Motion compensation', 'Motion estimation', 'Processing', 'Processing of', 'Selection', 'Selection of', 'Systems', 'Systems in', 'a', 'a block', 'a chosen', 'a good', 'a macroblock', 'a plurality', 'a search', 'adaptive', 'adaptive choice', 'additional', 'additional information', 'and', 'and number', 'b-pictures', 'b-pictures Motion', 'bandwidth', 'bandwidth of', 'being', 'being a', 'being less', 'bidirectional', 'bidirectional frame', 'block', 'block eg', 'by', 'by predictive', 'candidate', 'candidate to', 'channel', 'channel being', 'channel or', 'channels', 'channels the', 'choice', 'choice of', 'chosen', 'chosen coding', 'coding', 'coding or', 'coding the', 'combination', 'combination with', 'compensation', 'compensation in', 'compensation with', 'compression', 'compression process', 'during', 'during the', 'each', 'each channel', 'eg', 'eg a', 'eg adaptive', 'eg estimating', 'encoding', 'encoding Systems', 'estimating', 'estimating a', 'estimation', 'estimation or', 'estimation with', 'for', 'for prediction', 'frame', 'frame interpolation', 'good', 'good candidate', 'ie', 'ie using', 'in', 'in combination', 'in the', 'in which', 'information', 'information in', 'initialisation', 'initialisation of', 'initiate', 'initiate a', 'interpolation', 'interpolation ie', 'is', 'is transmitted', 'less', 'less than', 'macroblock', 'macroblock Selection', 'mode', 'mode eg', 'motion', 'motion compensation', 'motion vectors', 'number', 'number of', 'of', 'of each', 'of motion', 'of parallel', 'of pixels', 'of position', 'of the', 'one', 'one channel', 'or', 'or a', 'or motion', 'or prediction', 'parallel', 'parallel channels', 'pixels', 'pixels used', 'plurality', 'plurality of', 'position', 'position and', 'prediction', 'prediction Processing', 'prediction mode', 'prediction within', 'predictive', 'predictive coding', 'predictive encoding', 'process', 'process ', 'reference', 'reference unit', 'region', 'region being', 'search', 'search eg', 'signal', 'signal ', 'signal during', 'signal is', 'television', 'television signal', 'than', 'than the', 'the', 'the bandwidth', 'the compression', 'the reference', 'the region', 'the television', 'the vector', 'the video', 'to', 'to initiate', 'transmitted', 'transmitted via', 'unit', 'unit for', 'used', 'used for', 'using', 'using b-pictures', 'vector', 'vector search', 'vectors', 'vectors Embedding', 'via', 'via one', 'video', 'video signal', 'which', 'which the', 'with', 'with bidirectional', 'with initialisation', 'with predictive', 'within', 'within a']\n",
      "------------------------------------------------------------\n",
      "Intersection between concept and TF-IDF: ['block type', 'collocated current', 'predictor', 'pmv', 'signal', 'provided encoding', 'vectors', 'ordered', 'multiple reference', 'ordinary', 'information', 'prediction number', 'encoded', 'temporal']\n",
      "Complement of extracted keywords: ['differential motion', 'vector encoder', 'image', 'spatial', 'virtual', 'differences']\n",
      "Complement of TF-IDF: ['motion image', 'vector', 'encoder', 'differential', 'candidate', 'optimum']\n",
      "------------------------------------------------------------\n",
      "Intersection between concept and IPC: ['signal', 'vectors', 'information']\n",
      "Complement of extracted keywords: ['block type', 'collocated current', 'differential motion', 'vector encoder', 'predictor', 'pmv', 'provided encoding', 'image', 'ordered', 'multiple reference', 'ordinary', 'prediction number', 'encoded', 'temporal', 'spatial', 'virtual', 'differences']\n",
      "Complement of IPC: ['', ' Motion', 'Embedding', 'Embedding additional', 'Motion', 'Motion compensation', 'Motion estimation', 'Processing', 'Processing of', 'Selection', 'Selection of', 'Systems', 'Systems in', 'a', 'a block', 'a chosen', 'a good', 'a macroblock', 'a plurality', 'a search', 'adaptive', 'adaptive choice', 'additional', 'additional information', 'and', 'and number', 'b-pictures', 'b-pictures Motion', 'bandwidth', 'bandwidth of', 'being', 'being a', 'being less', 'bidirectional', 'bidirectional frame', 'block', 'block eg', 'by', 'by predictive', 'candidate', 'candidate to', 'channel', 'channel being', 'channel or', 'channels', 'channels the', 'choice', 'choice of', 'chosen', 'chosen coding', 'coding', 'coding or', 'coding the', 'combination', 'combination with', 'compensation', 'compensation in', 'compensation with', 'compression', 'compression process', 'during', 'during the', 'each', 'each channel', 'eg', 'eg a', 'eg adaptive', 'eg estimating', 'encoding', 'encoding Systems', 'estimating', 'estimating a', 'estimation', 'estimation or', 'estimation with', 'for', 'for prediction', 'frame', 'frame interpolation', 'good', 'good candidate', 'ie', 'ie using', 'in', 'in combination', 'in the', 'in which', 'information in', 'initialisation', 'initialisation of', 'initiate', 'initiate a', 'interpolation', 'interpolation ie', 'is', 'is transmitted', 'less', 'less than', 'macroblock', 'macroblock Selection', 'mode', 'mode eg', 'motion', 'motion compensation', 'motion vectors', 'number', 'number of', 'of', 'of each', 'of motion', 'of parallel', 'of pixels', 'of position', 'of the', 'one', 'one channel', 'or', 'or a', 'or motion', 'or prediction', 'parallel', 'parallel channels', 'pixels', 'pixels used', 'plurality', 'plurality of', 'position', 'position and', 'prediction', 'prediction Processing', 'prediction mode', 'prediction within', 'predictive', 'predictive coding', 'predictive encoding', 'process', 'process ', 'reference', 'reference unit', 'region', 'region being', 'search', 'search eg', 'signal ', 'signal during', 'signal is', 'television', 'television signal', 'than', 'than the', 'the', 'the bandwidth', 'the compression', 'the reference', 'the region', 'the television', 'the vector', 'the video', 'to', 'to initiate', 'transmitted', 'transmitted via', 'unit', 'unit for', 'used', 'used for', 'using', 'using b-pictures', 'vector', 'vector search', 'vectors Embedding', 'via', 'via one', 'video', 'video signal', 'which', 'which the', 'with', 'with bidirectional', 'with initialisation', 'with predictive', 'within', 'within a']\n",
      "------------------------------------------------------------\n",
      "Percentual share of concept and TF-IDF: 0.7\n",
      "Percentual share of concept and IPC: 0.15\n",
      "Percentual share of unique keywords: 0.7\n",
      "\n",
      "------------------------------------------------------------------------------------------------------------------------------------------------------------------------------------------------------------------------------------------------\n",
      "Cluster: 1 \n",
      "\n",
      "Unique keywords among all document clusters: ['current prediction', 'generates', 'process executed', 'inter', 'vector', 'calculated motion', 'computed', 'difference', 'merge', 'region', 'neighboring', 'mpm group', 'target regions']\n",
      "Extracted keywords: ['current prediction', 'generates', 'process executed', 'image', 'inter', 'vector', 'calculated motion', 'computed', 'difference', 'encoding', 'merge', 'candidate', 'temporal', 'merging', 'region', 'information', 'neighboring', 'mpm group', 'target regions', 'reference']\n",
      "TF-IDF keywords: ['merge', 'candidate', 'temporal', 'merging', 'current prediction', 'region', 'neighboring', 'information', 'generates', 'vector inter', 'calculated motion', 'image', 'process executed', 'computed', 'difference', 'encoding', 'encodes', 'error', 'pixels', 'interpolation filter']\n",
      "IPC words: ['', ' Processing', ' Selection', ' Systems', ' characterised', 'Adaptive', 'Adaptive subdivision', 'Analysis', 'Analysis of', 'Embedding', 'Embedding additional', 'Motion', 'Motion estimation', 'Processing', 'Processing of', 'Selection', 'Selection of', 'Systems', 'Systems in', 'a', 'a block', 'a chosen', 'a macroblock', 'a picture', 'a plurality', 'adaptive', 'adaptive choice', 'additional', 'additional information', 'and', 'and number', 'aspects', 'aspects eg', 'aspects related', 'bandwidth', 'bandwidth of', 'before', 'before transmission', 'being', 'being a', 'being less', 'block', 'block eg', 'blocks', 'blocks using', 'by', 'by compressing', 'by predictive', 'by syntax', 'channel', 'channel being', 'channel or', 'channels', 'channels the', 'characterised', 'characterised by', 'choice', 'choice of', 'chosen', 'chosen coding', 'coding', 'coding ', 'coding Adaptive', 'coding blocks', 'coding eg', 'coding or', 'combination', 'combination with', 'compensation', 'compensation the', 'compressing', 'compressing encoding', 'compression', 'compression process', 'direction', 'direction variance', 'during', 'during the', 'each', 'each channel', 'eg', 'eg a', 'eg adaptive', 'eg related', 'eg subdivision', 'eg their', 'encoding', 'encoding Motion', 'encoding parameters', 'estimation', 'estimation or', 'for', 'for prediction', 'in', 'in combination', 'in the', 'in which', 'information', 'information in', 'into', 'into rectangular', 'involving', 'involving spatial', 'involving temporal', 'is', 'is transmitted', 'less', 'less than', 'macroblock', 'macroblock involving', 'magnitude', 'magnitude direction', 'mode', 'mode eg', 'motion', 'motion compensation', 'motion vectors', 'non-rectangular', 'non-rectangular coding', 'number', 'number of', 'of', 'of a', 'of each', 'of motion', 'of parallel', 'of pixels', 'of position', 'of the', 'one', 'one channel', 'or', 'or a', 'or motion', 'or non-rectangular', 'or prediction', 'or reliability', 'parallel', 'parallel channels', 'parameters', 'parameters before', 'picture', 'picture into', 'pixels', 'pixels used', 'plurality', 'plurality of', 'position', 'position and', 'prediction', 'prediction ', 'prediction in', 'prediction mode', 'prediction techniques', 'prediction within', 'predictive', 'predictive coding', 'predictive encoding', 'process', 'process ', 'rectangular', 'rectangular or', 'reference', 'reference unit', 'region', 'region being', 'related', 'related to', 'related to\\xa0compression', 'reliability', 'reliability Embedding', 'signal', 'signal ', 'signal during', 'signal is', 'spatial', 'spatial prediction', 'standards', 'subdivision', 'subdivision aspects', 'subdivision of', 'syntax', 'syntax aspects', 'techniques', 'techniques by', 'television', 'television signal', 'temporal', 'temporal prediction', 'than', 'than the', 'the', 'the bandwidth', 'the compression', 'the reference', 'the region', 'the television', 'the video', 'their', 'their magnitude', 'to', 'to video', 'to\\xa0compression', 'to\\xa0compression standards', 'transmission', 'transmission involving', 'transmitted', 'transmitted via', 'unit', 'unit for', 'used', 'used for', 'using', 'using predictive', 'variance', 'variance or', 'vectors', 'vectors Analysis', 'vectors eg', 'via', 'via one', 'video', 'video coding', 'video signal', 'which', 'which the', 'with', 'with predictive', 'within', 'within a']\n",
      "------------------------------------------------------------\n",
      "Intersection between concept and TF-IDF: ['current prediction', 'generates', 'process executed', 'image', 'calculated motion', 'computed', 'difference', 'encoding', 'merge', 'candidate', 'temporal', 'merging', 'region', 'information', 'neighboring']\n",
      "Complement of extracted keywords: ['inter', 'vector', 'mpm group', 'target regions', 'reference']\n",
      "Complement of TF-IDF: ['vector inter', 'encodes', 'error', 'pixels', 'interpolation filter']\n",
      "------------------------------------------------------------\n",
      "Intersection between concept and IPC: ['encoding', 'temporal', 'region', 'information', 'reference']\n",
      "Complement of extracted keywords: ['current prediction', 'generates', 'process executed', 'image', 'inter', 'vector', 'calculated motion', 'computed', 'difference', 'merge', 'candidate', 'merging', 'neighboring', 'mpm group', 'target regions']\n",
      "Complement of IPC: ['', ' Processing', ' Selection', ' Systems', ' characterised', 'Adaptive', 'Adaptive subdivision', 'Analysis', 'Analysis of', 'Embedding', 'Embedding additional', 'Motion', 'Motion estimation', 'Processing', 'Processing of', 'Selection', 'Selection of', 'Systems', 'Systems in', 'a', 'a block', 'a chosen', 'a macroblock', 'a picture', 'a plurality', 'adaptive', 'adaptive choice', 'additional', 'additional information', 'and', 'and number', 'aspects', 'aspects eg', 'aspects related', 'bandwidth', 'bandwidth of', 'before', 'before transmission', 'being', 'being a', 'being less', 'block', 'block eg', 'blocks', 'blocks using', 'by', 'by compressing', 'by predictive', 'by syntax', 'channel', 'channel being', 'channel or', 'channels', 'channels the', 'characterised', 'characterised by', 'choice', 'choice of', 'chosen', 'chosen coding', 'coding', 'coding ', 'coding Adaptive', 'coding blocks', 'coding eg', 'coding or', 'combination', 'combination with', 'compensation', 'compensation the', 'compressing', 'compressing encoding', 'compression', 'compression process', 'direction', 'direction variance', 'during', 'during the', 'each', 'each channel', 'eg', 'eg a', 'eg adaptive', 'eg related', 'eg subdivision', 'eg their', 'encoding Motion', 'encoding parameters', 'estimation', 'estimation or', 'for', 'for prediction', 'in', 'in combination', 'in the', 'in which', 'information in', 'into', 'into rectangular', 'involving', 'involving spatial', 'involving temporal', 'is', 'is transmitted', 'less', 'less than', 'macroblock', 'macroblock involving', 'magnitude', 'magnitude direction', 'mode', 'mode eg', 'motion', 'motion compensation', 'motion vectors', 'non-rectangular', 'non-rectangular coding', 'number', 'number of', 'of', 'of a', 'of each', 'of motion', 'of parallel', 'of pixels', 'of position', 'of the', 'one', 'one channel', 'or', 'or a', 'or motion', 'or non-rectangular', 'or prediction', 'or reliability', 'parallel', 'parallel channels', 'parameters', 'parameters before', 'picture', 'picture into', 'pixels', 'pixels used', 'plurality', 'plurality of', 'position', 'position and', 'prediction', 'prediction ', 'prediction in', 'prediction mode', 'prediction techniques', 'prediction within', 'predictive', 'predictive coding', 'predictive encoding', 'process', 'process ', 'rectangular', 'rectangular or', 'reference unit', 'region being', 'related', 'related to', 'related to\\xa0compression', 'reliability', 'reliability Embedding', 'signal', 'signal ', 'signal during', 'signal is', 'spatial', 'spatial prediction', 'standards', 'subdivision', 'subdivision aspects', 'subdivision of', 'syntax', 'syntax aspects', 'techniques', 'techniques by', 'television', 'television signal', 'temporal prediction', 'than', 'than the', 'the', 'the bandwidth', 'the compression', 'the reference', 'the region', 'the television', 'the video', 'their', 'their magnitude', 'to', 'to video', 'to\\xa0compression', 'to\\xa0compression standards', 'transmission', 'transmission involving', 'transmitted', 'transmitted via', 'unit', 'unit for', 'used', 'used for', 'using', 'using predictive', 'variance', 'variance or', 'vectors', 'vectors Analysis', 'vectors eg', 'via', 'via one', 'video', 'video coding', 'video signal', 'which', 'which the', 'with', 'with predictive', 'within', 'within a']\n",
      "------------------------------------------------------------\n",
      "Percentual share of concept and TF-IDF: 0.75\n",
      "Percentual share of concept and IPC: 0.25\n",
      "Percentual share of unique keywords: 0.65\n",
      "\n",
      "------------------------------------------------------------------------------------------------------------------------------------------------------------------------------------------------------------------------------------------------\n",
      "Cluster: 2 \n",
      "\n",
      "Unique keywords among all document clusters: ['encoding residual', 'block generating', 'generate', 'video prediction', 'quantization type', 'transforming quantizing', 'object', 'partition', 'coding picture', 'effective', 'band', 'frequency', 'transformation', 'transformer', 'splitting', 'performing', 'selected size']\n",
      "Extracted keywords: ['encoding residual', 'block generating', 'generate', 'video prediction', 'quantization type', 'transforming quantizing', 'transform', 'object', 'unit', 'partition', 'coding picture', 'effective', 'band', 'frequency', 'data', 'transformation', 'transformer', 'splitting', 'performing', 'selected size']\n",
      "TF-IDF keywords: ['coding data', 'block', 'transformation', 'transform', 'encoding residual', 'generating', 'video prediction', 'generate', 'transformer', 'frequency', 'splitting', 'quantizing', 'quantization type', 'transforming', 'object', 'unit', 'performing', 'selected size', 'orthogonal', 'partition']\n",
      "IPC words: ['', ' Filters', ' Systems', ' among', ' being', ' involving', ' the', 'Embedding', 'Embedding additional', 'Filters', 'Filters eg', 'Systems', 'Systems in', 'a', 'a block', 'a macroblock', 'a plurality', 'adapted', 'adapted for', 'additional', 'additional information', 'among', 'among a', 'aspects', 'aspects related', 'averaging', 'averaging previously', 'bandwidth', 'bandwidth of', 'bandwidth reduction', 'being', 'being a', 'being less', 'being specially', 'block', 'block eg', 'by', 'by averaging', 'by syntax', 'channel', 'channel being', 'channel or', 'channels', 'channels the', 'characterised', 'characterised by', 'coding', 'coding ', 'coding eg', 'coding modes', 'coding with', 'combination', 'combination with', 'compression', 'compression process', 'computation', 'computation of', 'computed', 'computed encoding', 'during', 'during the', 'each', 'each channel', 'eg', 'eg a', 'eg by', 'eg for', 'eg related', 'encoding', 'encoding parameters', 'for', 'for pre-processing', 'for the', 'in', 'in combination', 'in the', 'in which', 'information', 'information in', 'involving', 'involving spatial', 'involving temporal', 'is', 'is transmitted', 'less', 'less than', 'macroblock', 'macroblock in', 'modes', 'modes characterised', 'of', 'of each', 'of encoding', 'of parallel', 'of spatial', 'of the', 'one', 'one channel', 'or', 'or a', 'or post-processing', 'parallel', 'parallel channels', 'parameters', 'parameters ', 'parameters eg', 'plurality', 'plurality of', 'post-processing', 'post-processing ', 'pre-processing', 'pre-processing or', 'prediction', 'prediction ', 'prediction techniques', 'predictive', 'predictive coding', 'previously', 'previously computed', 'process', 'process ', 'reduction', 'reduction ', 'region', 'region being', 'related', 'related to', 'related to\\xa0compression', 'signal', 'signal ', 'signal during', 'signal is', 'spatial', 'spatial prediction', 'spatial predictive', 'specially', 'specially adapted', 'standards', 'standards Embedding', 'syntax', 'syntax aspects', 'techniques', 'techniques using', 'television', 'television signal', 'temporal', 'temporal prediction', 'than', 'than the', 'the', 'the bandwidth', 'the compression', 'the computation', 'the region', 'the television', 'the video', 'to', 'to video', 'to\\xa0compression', 'to\\xa0compression standards', 'transmitted', 'transmitted via', 'using', 'using predictive', 'via', 'via one', 'video', 'video coding', 'video signal', 'which', 'which the', 'with', 'with bandwidth', 'with predictive']\n",
      "------------------------------------------------------------\n",
      "Intersection between concept and TF-IDF: ['encoding residual', 'generate', 'video prediction', 'quantization type', 'transform', 'object', 'unit', 'partition', 'frequency', 'transformation', 'transformer', 'splitting', 'performing', 'selected size']\n",
      "Complement of extracted keywords: ['block generating', 'transforming quantizing', 'coding picture', 'effective', 'band', 'data']\n",
      "Complement of TF-IDF: ['coding data', 'block', 'generating', 'quantizing', 'transforming', 'orthogonal']\n",
      "------------------------------------------------------------\n",
      "Intersection between concept and IPC: []\n",
      "Complement of extracted keywords: ['encoding residual', 'block generating', 'generate', 'video prediction', 'quantization type', 'transforming quantizing', 'transform', 'object', 'unit', 'partition', 'coding picture', 'effective', 'band', 'frequency', 'data', 'transformation', 'transformer', 'splitting', 'performing', 'selected size']\n",
      "Complement of IPC: ['', ' Filters', ' Systems', ' among', ' being', ' involving', ' the', 'Embedding', 'Embedding additional', 'Filters', 'Filters eg', 'Systems', 'Systems in', 'a', 'a block', 'a macroblock', 'a plurality', 'adapted', 'adapted for', 'additional', 'additional information', 'among', 'among a', 'aspects', 'aspects related', 'averaging', 'averaging previously', 'bandwidth', 'bandwidth of', 'bandwidth reduction', 'being', 'being a', 'being less', 'being specially', 'block', 'block eg', 'by', 'by averaging', 'by syntax', 'channel', 'channel being', 'channel or', 'channels', 'channels the', 'characterised', 'characterised by', 'coding', 'coding ', 'coding eg', 'coding modes', 'coding with', 'combination', 'combination with', 'compression', 'compression process', 'computation', 'computation of', 'computed', 'computed encoding', 'during', 'during the', 'each', 'each channel', 'eg', 'eg a', 'eg by', 'eg for', 'eg related', 'encoding', 'encoding parameters', 'for', 'for pre-processing', 'for the', 'in', 'in combination', 'in the', 'in which', 'information', 'information in', 'involving', 'involving spatial', 'involving temporal', 'is', 'is transmitted', 'less', 'less than', 'macroblock', 'macroblock in', 'modes', 'modes characterised', 'of', 'of each', 'of encoding', 'of parallel', 'of spatial', 'of the', 'one', 'one channel', 'or', 'or a', 'or post-processing', 'parallel', 'parallel channels', 'parameters', 'parameters ', 'parameters eg', 'plurality', 'plurality of', 'post-processing', 'post-processing ', 'pre-processing', 'pre-processing or', 'prediction', 'prediction ', 'prediction techniques', 'predictive', 'predictive coding', 'previously', 'previously computed', 'process', 'process ', 'reduction', 'reduction ', 'region', 'region being', 'related', 'related to', 'related to\\xa0compression', 'signal', 'signal ', 'signal during', 'signal is', 'spatial', 'spatial prediction', 'spatial predictive', 'specially', 'specially adapted', 'standards', 'standards Embedding', 'syntax', 'syntax aspects', 'techniques', 'techniques using', 'television', 'television signal', 'temporal', 'temporal prediction', 'than', 'than the', 'the', 'the bandwidth', 'the compression', 'the computation', 'the region', 'the television', 'the video', 'to', 'to video', 'to\\xa0compression', 'to\\xa0compression standards', 'transmitted', 'transmitted via', 'using', 'using predictive', 'via', 'via one', 'video', 'video coding', 'video signal', 'which', 'which the', 'with', 'with bandwidth', 'with predictive']\n",
      "------------------------------------------------------------\n",
      "Percentual share of concept and TF-IDF: 0.7\n",
      "Percentual share of concept and IPC: 0.0\n",
      "Percentual share of unique keywords: 0.85\n",
      "\n",
      "------------------------------------------------------------------------------------------------------------------------------------------------------------------------------------------------------------------------------------------------\n",
      "Cluster: 3 \n",
      "\n",
      "Unique keywords among all document clusters: ['picture region', 'hybrid', 'weighting', 'values', 'motion information', 'resolution', 'value pixel', 'interpolation unequal', 'quantizer', 'required macro', 'blocks', 'treated', 'grouped', 'fields', 'macroblocks', 'macroblock', 'embodiment adjacent']\n",
      "Extracted keywords: ['picture region', 'hybrid', 'interpolated', 'weighting', 'values', 'motion information', 'resolution', 'value pixel', 'interpolation unequal', 'encoding', 'quantizer', 'required macro', 'blocks', 'treated', 'grouped', 'fields', 'image', 'macroblocks', 'macroblock', 'embodiment adjacent']\n",
      "TF-IDF keywords: ['picture region', 'unequal', 'encoding interpolation', 'weighting', 'hybrid', 'grouped', 'fields', 'image', 'quantizer', 'treated', 'blocks', 'macro', 'required', 'macroblock', 'macroblocks', 'groups', 'embodiment adjacent', 'interpolated', 'values', 'motion information']\n",
      "IPC words: ['', ' Image', ' Systems', 'Image', 'Image coding', 'Image preprocessing', 'Systems', 'Systems in', 'a', 'a plurality', 'about', 'about the', 'bandwidth', 'bandwidth of', 'being', 'being less', 'channel', 'channel being', 'channel or', 'channels', 'channels the', 'coding', 'coding ', 'deciding', 'deciding about', 'each', 'each channel', 'identity', 'identity of', 'ie', 'ie processing', 'image', 'image information', 'in', 'in which', 'information', 'information without', 'is', 'is transmitted', 'less', 'less than', 'of', 'of each', 'of parallel', 'of the', 'one', 'one channel', 'or', 'or a', 'parallel', 'parallel channels', 'plurality', 'plurality of', 'preprocessing', 'preprocessing ie', 'processing', 'processing the', 'signal', 'signal ', 'signal is', 'television', 'television signal', 'than', 'than the', 'the', 'the bandwidth', 'the identity', 'the image', 'the television', 'transmitted', 'transmitted via', 'via', 'via one', 'which', 'which the', 'without', 'without deciding']\n",
      "------------------------------------------------------------\n",
      "Intersection between concept and TF-IDF: ['picture region', 'hybrid', 'interpolated', 'weighting', 'values', 'motion information', 'quantizer', 'blocks', 'treated', 'grouped', 'fields', 'image', 'macroblocks', 'macroblock', 'embodiment adjacent']\n",
      "Complement of extracted keywords: ['resolution', 'value pixel', 'interpolation unequal', 'encoding', 'required macro']\n",
      "Complement of TF-IDF: ['unequal', 'encoding interpolation', 'macro', 'required', 'groups']\n",
      "------------------------------------------------------------\n",
      "Intersection between concept and IPC: ['image']\n",
      "Complement of extracted keywords: ['picture region', 'hybrid', 'interpolated', 'weighting', 'values', 'motion information', 'resolution', 'value pixel', 'interpolation unequal', 'encoding', 'quantizer', 'required macro', 'blocks', 'treated', 'grouped', 'fields', 'macroblocks', 'macroblock', 'embodiment adjacent']\n",
      "Complement of IPC: ['', ' Image', ' Systems', 'Image', 'Image coding', 'Image preprocessing', 'Systems', 'Systems in', 'a', 'a plurality', 'about', 'about the', 'bandwidth', 'bandwidth of', 'being', 'being less', 'channel', 'channel being', 'channel or', 'channels', 'channels the', 'coding', 'coding ', 'deciding', 'deciding about', 'each', 'each channel', 'identity', 'identity of', 'ie', 'ie processing', 'image information', 'in', 'in which', 'information', 'information without', 'is', 'is transmitted', 'less', 'less than', 'of', 'of each', 'of parallel', 'of the', 'one', 'one channel', 'or', 'or a', 'parallel', 'parallel channels', 'plurality', 'plurality of', 'preprocessing', 'preprocessing ie', 'processing', 'processing the', 'signal', 'signal ', 'signal is', 'television', 'television signal', 'than', 'than the', 'the', 'the bandwidth', 'the identity', 'the image', 'the television', 'transmitted', 'transmitted via', 'via', 'via one', 'which', 'which the', 'without', 'without deciding']\n",
      "------------------------------------------------------------\n",
      "Percentual share of concept and TF-IDF: 0.75\n",
      "Percentual share of concept and IPC: 0.05\n",
      "Percentual share of unique keywords: 0.85\n",
      "\n",
      "------------------------------------------------------------------------------------------------------------------------------------------------------------------------------------------------------------------------------------------------\n",
      "Cluster: 4 \n",
      "\n",
      "Unique keywords among all document clusters: ['frames encoded', 'video signals', 'decoder decodes', 'form', 'bit plane', 'embodiment system', 'concealing', 'errors', 'transmitted stored', 'display', 'time difference', 'skip', 'modes']\n",
      "Extracted keywords: ['frames encoded', 'reference', 'video signals', 'decoder decodes', 'signal', 'interpolated', 'form', 'information', 'bit plane', 'embodiment system', 'concealing', 'errors', 'transmitted stored', 'picture', 'image', 'display', 'time difference', 'area', 'skip', 'modes']\n",
      "TF-IDF keywords: ['frames encoded', 'reference', 'video signals', 'signal', 'decodes', 'decoder', 'information form', 'interpolated', 'picture', 'predicting', 'error', 'dependent', 'frame', 'plane', 'bit', 'embodiment system', 'concealing', 'errors', 'fields detected', 'duplicate']\n",
      "IPC words: ['', ' Image', 'Compression', 'Compression Expansion', 'Expansion', 'Expansion Suppression', 'Image', 'Image coding', 'Image preprocessing', 'Methods', 'Methods or', 'Suppression', 'Suppression of', 'about', 'about the', 'arrangements', 'arrangements for', 'coding', 'coding ', 'coding decoding', 'compressing', 'compressing or', 'data', 'data eg', 'deciding', 'deciding about', 'decoding', 'decoding compressing', 'decompressing', 'decompressing digital', 'digital', 'digital video', 'eg', 'eg redundancy', 'for', 'for coding', 'identity', 'identity of', 'ie', 'ie processing', 'image', 'image Methods', 'image information', 'information', 'information without', 'involving', 'involving spatial', 'of', 'of the', 'of unnecessary', 'or', 'or arrangements', 'or decompressing', 'prediction', 'prediction techniques', 'preprocessing', 'preprocessing ie', 'processing', 'processing the', 'reduction', 'reduction involving', 'redundancy', 'redundancy reduction', 'signals', 'signals Compression', 'spatial', 'spatial prediction', 'techniques', 'the', 'the identity', 'the image', 'unnecessary', 'unnecessary data', 'video', 'video signals', 'without', 'without deciding']\n",
      "------------------------------------------------------------\n",
      "Intersection between concept and TF-IDF: ['frames encoded', 'reference', 'video signals', 'signal', 'interpolated', 'embodiment system', 'concealing', 'errors', 'picture']\n",
      "Complement of extracted keywords: ['decoder decodes', 'form', 'information', 'bit plane', 'transmitted stored', 'image', 'display', 'time difference', 'area', 'skip', 'modes']\n",
      "Complement of TF-IDF: ['decodes', 'decoder', 'information form', 'predicting', 'error', 'dependent', 'frame', 'plane', 'bit', 'fields detected', 'duplicate']\n",
      "------------------------------------------------------------\n",
      "Intersection between concept and IPC: ['video signals', 'information', 'image']\n",
      "Complement of extracted keywords: ['frames encoded', 'reference', 'decoder decodes', 'signal', 'interpolated', 'form', 'bit plane', 'embodiment system', 'concealing', 'errors', 'transmitted stored', 'picture', 'display', 'time difference', 'area', 'skip', 'modes']\n",
      "Complement of IPC: ['', ' Image', 'Compression', 'Compression Expansion', 'Expansion', 'Expansion Suppression', 'Image', 'Image coding', 'Image preprocessing', 'Methods', 'Methods or', 'Suppression', 'Suppression of', 'about', 'about the', 'arrangements', 'arrangements for', 'coding', 'coding ', 'coding decoding', 'compressing', 'compressing or', 'data', 'data eg', 'deciding', 'deciding about', 'decoding', 'decoding compressing', 'decompressing', 'decompressing digital', 'digital', 'digital video', 'eg', 'eg redundancy', 'for', 'for coding', 'identity', 'identity of', 'ie', 'ie processing', 'image Methods', 'image information', 'information without', 'involving', 'involving spatial', 'of', 'of the', 'of unnecessary', 'or', 'or arrangements', 'or decompressing', 'prediction', 'prediction techniques', 'preprocessing', 'preprocessing ie', 'processing', 'processing the', 'reduction', 'reduction involving', 'redundancy', 'redundancy reduction', 'signals', 'signals Compression', 'spatial', 'spatial prediction', 'techniques', 'the', 'the identity', 'the image', 'unnecessary', 'unnecessary data', 'video', 'without', 'without deciding']\n",
      "------------------------------------------------------------\n",
      "Percentual share of concept and TF-IDF: 0.45\n",
      "Percentual share of concept and IPC: 0.15\n",
      "Percentual share of unique keywords: 0.65\n",
      "\n",
      "------------------------------------------------------------------------------------------------------------------------------------------------------------------------------------------------------------------------------------------------\n",
      "Cluster: 5 \n",
      "\n",
      "Unique keywords among all document clusters: ['quantization size', 'prediction encoding', 'predictive residual', 'parameter', 'string', 'selector outputting', 'blocks encoded', 'amvp', 'differential', 'interpolated reference', 'motion vector', 'offset', 'generated']\n",
      "Extracted keywords: ['quantization size', 'prediction encoding', 'predictor', 'predictive residual', 'parameter', 'string', 'bit', 'signal', 'selector outputting', 'mode', 'apparatus', 'blocks encoded', 'amvp', 'differential', 'interpolated reference', 'block', 'motion vector', 'candidate', 'offset', 'generated']\n",
      "TF-IDF keywords: ['quantization size', 'amvp', 'parameter', 'prediction encoding', 'predictor', 'predictive residual', 'differential', 'interpolated reference', 'block mode', 'motion vector', 'candidate', 'bit string', 'signal', 'offset', 'apparatus', 'selector', 'outputting', 'inter', 'encoded selectively', 'blocks']\n",
      "IPC words: ['Details', 'Details of', 'Entropy', 'Entropy coding', 'Selection', 'Selection of', '[vlc]', '[vlc] or', 'a', 'a block', 'a chosen', 'a macroblock', 'adaptive', 'adaptive choice', 'and', 'and number', 'arithmetic', 'arithmetic coding', 'before', 'before transmission', 'being', 'being a', 'block', 'block eg', 'by', 'by compressing', 'choice', 'choice of', 'chosen', 'chosen coding', 'coding', 'coding Selection', 'coding [vlc]', 'coding eg', 'coding involving', 'coding or', 'combination', 'combination with', 'compressing', 'compressing encoding', 'eg', 'eg a', 'eg adaptive', 'eg normalisation', 'eg variable', 'encoding', 'encoding parameters', 'for', 'for prediction', 'functions', 'functions eg', 'in', 'in combination', 'involving', 'involving spatial', 'length', 'length coding', 'macroblock', 'macroblock Details', 'matrices', 'matrices or', 'mode', 'mode eg', 'normalisation', 'normalisation matrices', 'normalisation or', 'number', 'number of', 'of', 'of normalisation', 'of pixels', 'of position', 'of the', 'or', 'or arithmetic', 'or prediction', 'or variable', 'or weighting', 'parameters', 'parameters before', 'pixels', 'pixels used', 'position', 'position and', 'prediction', 'prediction by', 'prediction mode', 'prediction techniques', 'prediction within', 'predictive', 'predictive coding', 'quantisers', 'quantisers Entropy', 'reference', 'reference unit', 'region', 'region being', 'spatial', 'spatial prediction', 'techniques', 'the', 'the reference', 'the region', 'transmission', 'transmission in', 'uniform', 'uniform quantisers', 'unit', 'unit for', 'used', 'used for', 'variable', 'variable length', 'variable uniform', 'weighting', 'weighting functions', 'with', 'with predictive', 'within', 'within a']\n",
      "------------------------------------------------------------\n",
      "Intersection between concept and TF-IDF: ['quantization size', 'prediction encoding', 'predictor', 'predictive residual', 'parameter', 'signal', 'apparatus', 'amvp', 'differential', 'interpolated reference', 'motion vector', 'candidate', 'offset']\n",
      "Complement of extracted keywords: ['string', 'bit', 'selector outputting', 'mode', 'blocks encoded', 'block', 'generated']\n",
      "Complement of TF-IDF: ['block mode', 'bit string', 'selector', 'outputting', 'inter', 'encoded selectively', 'blocks']\n",
      "------------------------------------------------------------\n",
      "Intersection between concept and IPC: ['mode', 'block']\n",
      "Complement of extracted keywords: ['quantization size', 'prediction encoding', 'predictor', 'predictive residual', 'parameter', 'string', 'bit', 'signal', 'selector outputting', 'apparatus', 'blocks encoded', 'amvp', 'differential', 'interpolated reference', 'motion vector', 'candidate', 'offset', 'generated']\n",
      "Complement of IPC: ['Details', 'Details of', 'Entropy', 'Entropy coding', 'Selection', 'Selection of', '[vlc]', '[vlc] or', 'a', 'a block', 'a chosen', 'a macroblock', 'adaptive', 'adaptive choice', 'and', 'and number', 'arithmetic', 'arithmetic coding', 'before', 'before transmission', 'being', 'being a', 'block eg', 'by', 'by compressing', 'choice', 'choice of', 'chosen', 'chosen coding', 'coding', 'coding Selection', 'coding [vlc]', 'coding eg', 'coding involving', 'coding or', 'combination', 'combination with', 'compressing', 'compressing encoding', 'eg', 'eg a', 'eg adaptive', 'eg normalisation', 'eg variable', 'encoding', 'encoding parameters', 'for', 'for prediction', 'functions', 'functions eg', 'in', 'in combination', 'involving', 'involving spatial', 'length', 'length coding', 'macroblock', 'macroblock Details', 'matrices', 'matrices or', 'mode eg', 'normalisation', 'normalisation matrices', 'normalisation or', 'number', 'number of', 'of', 'of normalisation', 'of pixels', 'of position', 'of the', 'or', 'or arithmetic', 'or prediction', 'or variable', 'or weighting', 'parameters', 'parameters before', 'pixels', 'pixels used', 'position', 'position and', 'prediction', 'prediction by', 'prediction mode', 'prediction techniques', 'prediction within', 'predictive', 'predictive coding', 'quantisers', 'quantisers Entropy', 'reference', 'reference unit', 'region', 'region being', 'spatial', 'spatial prediction', 'techniques', 'the', 'the reference', 'the region', 'transmission', 'transmission in', 'uniform', 'uniform quantisers', 'unit', 'unit for', 'used', 'used for', 'variable', 'variable length', 'variable uniform', 'weighting', 'weighting functions', 'with', 'with predictive', 'within', 'within a']\n",
      "------------------------------------------------------------\n",
      "Percentual share of concept and TF-IDF: 0.65\n",
      "Percentual share of concept and IPC: 0.1\n",
      "Percentual share of unique keywords: 0.65\n",
      "\n",
      "------------------------------------------------------------------------------------------------------------------------------------------------------------------------------------------------------------------------------------------------\n",
      "Cluster: 6 \n",
      "\n",
      "Unique keywords among all document clusters: ['encoding system', 'prediction image', 'motion abundant', 'based', 'variable macro', 'difference data', '_number_', 'transform size', 'macroblock type', 'frame', 'flag', 'decoding', 'coding encode', 'methods', 'output', 'processed subjected']\n",
      "Extracted keywords: ['encoding system', 'prediction image', 'motion abundant', 'slice', 'mode', 'based', 'variable macro', 'block', 'difference data', 'temporal', '_number_', 'transform size', 'macroblock type', 'frame', 'flag', 'decoding', 'coding encode', 'methods', 'output', 'processed subjected']\n",
      "TF-IDF keywords: ['_number_', 'encoding system', 'prediction image', 'transform size', 'motion abundant', 'macroblock type', 'frame based', 'flag', 'slice', 'mode', 'macro block', 'variable', 'decoding', 'difference data', 'temporal', 'spatial', 'coding encode', 'methods', 'output', 'sao']\n",
      "IPC words: ['', ' Entropy', ' Prediction', ' being', ' by', ' the', ' using', 'Embedding', 'Embedding additional', 'Entropy', 'Entropy coding', 'Image', 'Image coding', 'Incoming', 'Incoming video', 'Motion', 'Motion estimation', 'Prediction', 'Prediction type', 'Systems', 'Systems in', '[DCT]', '[DCT] involving', '[vlc]', '[vlc] or', 'a', 'a block', 'a macroblock', 'a plurality', 'adapted', 'adapted for', 'additional', 'additional information', 'arithmetic', 'arithmetic coding', 'aspects', 'aspects related', 'averaging', 'averaging previously', 'bandwidth', 'bandwidth of', 'before', 'before transmission', 'being', 'being a', 'being less', 'being specially', 'bidirectional', 'bidirectional frame', 'block', 'block eg', 'by', 'by averaging', 'by compressing', 'by syntax', 'channel', 'channel being', 'channel or', 'channels', 'channels the', 'characterised', 'characterised by', 'characteristics', 'characteristics or', 'coding', 'coding ', 'coding Embedding', 'coding Motion', 'coding [vlc]', 'coding eg', 'coding in', 'combination', 'combination with', 'compensation', 'compensation involving', 'compressing', 'compressing encoding', 'compression', 'compression process', 'computation', 'computation of', 'computed', 'computed encoding', 'cosine', 'cosine transform', 'discrete', 'discrete cosine', 'during', 'during the', 'each', 'each channel', 'eg', 'eg a', 'eg by', 'eg intra-frame', 'eg related', 'eg variable', 'encoding', 'encoding parameters', 'estimation', 'estimation or', 'for', 'for the', 'frame', 'frame prediction', 'in', 'in combination', 'in the', 'in which', 'information', 'information in', 'inter-frame', 'inter-frame or', 'intra-frame', 'intra-frame inter-frame', 'involving', 'involving spatial', 'involving temporal', 'is', 'is transmitted', 'length', 'length coding', 'less', 'less than', 'macroblock', 'macroblock using', 'motion', 'motion compensation', 'of', 'of each', 'of encoding', 'of parallel', 'of the', 'one', 'one channel', 'or', 'or a', 'or arithmetic', 'or bidirectional', 'or motion', 'or properties', 'parallel', 'parallel channels', 'parameters', 'parameters ', 'parameters before', 'parameters eg', 'plurality', 'plurality of', 'prediction', 'prediction ', 'prediction techniques', 'predictive', 'predictive coding', 'previously', 'previously computed', 'process', 'process ', 'properties', 'properties Systems', 'region', 'region being', 'related', 'related to', 'related to\\xa0compression', 'signal', 'signal ', 'signal characteristics', 'signal during', 'signal is', 'spatial', 'spatial prediction', 'specially', 'specially adapted', 'standards', 'standards using', 'syntax', 'syntax aspects', 'techniques', 'techniques Image', 'television', 'television signal', 'temporal', 'temporal prediction', 'than', 'than the', 'the', 'the bandwidth', 'the compression', 'the computation', 'the region', 'the television', 'the video', 'to', 'to video', 'to\\xa0compression', 'to\\xa0compression standards', 'transform', 'transform [DCT]', 'transform coding', 'transmission', 'transmission characterised', 'transmitted', 'transmitted via', 'type', 'type eg', 'using', 'using discrete', 'using predictive', 'using transform', 'variable', 'variable length', 'via', 'via one', 'video', 'video coding', 'video signal', 'which', 'which the', 'with', 'with predictive']\n",
      "------------------------------------------------------------\n",
      "Intersection between concept and TF-IDF: ['encoding system', 'prediction image', 'motion abundant', 'slice', 'mode', 'difference data', 'temporal', '_number_', 'transform size', 'macroblock type', 'flag', 'decoding', 'coding encode', 'methods', 'output']\n",
      "Complement of extracted keywords: ['based', 'variable macro', 'block', 'frame', 'processed subjected']\n",
      "Complement of TF-IDF: ['frame based', 'macro block', 'variable', 'spatial', 'sao']\n",
      "------------------------------------------------------------\n",
      "Intersection between concept and IPC: ['block', 'temporal', 'frame']\n",
      "Complement of extracted keywords: ['encoding system', 'prediction image', 'motion abundant', 'slice', 'mode', 'based', 'variable macro', 'difference data', '_number_', 'transform size', 'macroblock type', 'flag', 'decoding', 'coding encode', 'methods', 'output', 'processed subjected']\n",
      "Complement of IPC: ['', ' Entropy', ' Prediction', ' being', ' by', ' the', ' using', 'Embedding', 'Embedding additional', 'Entropy', 'Entropy coding', 'Image', 'Image coding', 'Incoming', 'Incoming video', 'Motion', 'Motion estimation', 'Prediction', 'Prediction type', 'Systems', 'Systems in', '[DCT]', '[DCT] involving', '[vlc]', '[vlc] or', 'a', 'a block', 'a macroblock', 'a plurality', 'adapted', 'adapted for', 'additional', 'additional information', 'arithmetic', 'arithmetic coding', 'aspects', 'aspects related', 'averaging', 'averaging previously', 'bandwidth', 'bandwidth of', 'before', 'before transmission', 'being', 'being a', 'being less', 'being specially', 'bidirectional', 'bidirectional frame', 'block eg', 'by', 'by averaging', 'by compressing', 'by syntax', 'channel', 'channel being', 'channel or', 'channels', 'channels the', 'characterised', 'characterised by', 'characteristics', 'characteristics or', 'coding', 'coding ', 'coding Embedding', 'coding Motion', 'coding [vlc]', 'coding eg', 'coding in', 'combination', 'combination with', 'compensation', 'compensation involving', 'compressing', 'compressing encoding', 'compression', 'compression process', 'computation', 'computation of', 'computed', 'computed encoding', 'cosine', 'cosine transform', 'discrete', 'discrete cosine', 'during', 'during the', 'each', 'each channel', 'eg', 'eg a', 'eg by', 'eg intra-frame', 'eg related', 'eg variable', 'encoding', 'encoding parameters', 'estimation', 'estimation or', 'for', 'for the', 'frame prediction', 'in', 'in combination', 'in the', 'in which', 'information', 'information in', 'inter-frame', 'inter-frame or', 'intra-frame', 'intra-frame inter-frame', 'involving', 'involving spatial', 'involving temporal', 'is', 'is transmitted', 'length', 'length coding', 'less', 'less than', 'macroblock', 'macroblock using', 'motion', 'motion compensation', 'of', 'of each', 'of encoding', 'of parallel', 'of the', 'one', 'one channel', 'or', 'or a', 'or arithmetic', 'or bidirectional', 'or motion', 'or properties', 'parallel', 'parallel channels', 'parameters', 'parameters ', 'parameters before', 'parameters eg', 'plurality', 'plurality of', 'prediction', 'prediction ', 'prediction techniques', 'predictive', 'predictive coding', 'previously', 'previously computed', 'process', 'process ', 'properties', 'properties Systems', 'region', 'region being', 'related', 'related to', 'related to\\xa0compression', 'signal', 'signal ', 'signal characteristics', 'signal during', 'signal is', 'spatial', 'spatial prediction', 'specially', 'specially adapted', 'standards', 'standards using', 'syntax', 'syntax aspects', 'techniques', 'techniques Image', 'television', 'television signal', 'temporal prediction', 'than', 'than the', 'the', 'the bandwidth', 'the compression', 'the computation', 'the region', 'the television', 'the video', 'to', 'to video', 'to\\xa0compression', 'to\\xa0compression standards', 'transform', 'transform [DCT]', 'transform coding', 'transmission', 'transmission characterised', 'transmitted', 'transmitted via', 'type', 'type eg', 'using', 'using discrete', 'using predictive', 'using transform', 'variable', 'variable length', 'via', 'via one', 'video', 'video coding', 'video signal', 'which', 'which the', 'with', 'with predictive']\n",
      "------------------------------------------------------------\n",
      "Percentual share of concept and TF-IDF: 0.75\n",
      "Percentual share of concept and IPC: 0.15\n",
      "Percentual share of unique keywords: 0.8\n",
      "\n",
      "------------------------------------------------------------------------------------------------------------------------------------------------------------------------------------------------------------------------------------------------\n",
      "Cluster: 7 \n",
      "\n",
      "Unique keywords among all document clusters: ['direction direction', 'neighboring block', 'anchor', 'current', 'neighbouring', 'motion', 'a_number_', 'steps judging', 'judgment', 'mv_number_', 'acquired', 'determining occurrence', 'adjacent blocks', 'future', 'coded', 'multiple']\n",
      "Extracted keywords: ['direction direction', 'neighboring block', 'anchor', 'current', 'neighbouring', 'motion', 'a_number_', 'pictures', 'steps judging', 'judgment', 'mv_number_', 'acquired', 'determining occurrence', 'merging', 'data', 'adjacent blocks', 'future', 'coded', 'reference', 'multiple']\n",
      "TF-IDF keywords: ['direction direction', 'neighboring block', 'anchor', 'current', 'neighbouring', 'motion', 'a_number_', 'pictures', 'steps judging', 'judgment', 'mv_number_', 'acquired', 'determining occurrence', 'merging', 'data', 'adjacent blocks', 'future', 'coded', 'reference', 'multiple']\n",
      "IPC words: ['', ' Motion', ' Systems', ' characterised', ' the', 'Extraction', 'Extraction of', 'Image', 'Image coding', 'Motion', 'Motion estimation', 'Systems', 'Systems in', '[DCT]', 'a', 'a block', 'a good', 'a macroblock', 'a plurality', 'a search', 'arrangements', 'arrangements ', 'aspects', 'aspects related', 'bandwidth', 'bandwidth of', 'bandwidth reduction', 'being', 'being a', 'being less', 'block', 'block eg', 'by', 'by memory', 'by syntax', 'candidate', 'candidate to', 'channel', 'channel being', 'channel or', 'channels', 'channels the', 'characterised', 'characterised by', 'characteristics', 'characteristics of', 'coding', 'coding ', 'coding eg', 'coding using', 'combination', 'combination with', 'compensation', 'compensation Image', 'cosine', 'cosine transform', 'discrete', 'discrete cosine', 'each', 'each channel', 'eg', 'eg a', 'eg estimating', 'eg related', 'estimating', 'estimating a', 'estimation', 'estimation or', 'estimation with', 'features', 'features or', 'good', 'good candidate', 'image', 'image with', 'in', 'in combination', 'in which', 'initialisation', 'initialisation of', 'initiate', 'initiate a', 'is', 'is transmitted', 'less', 'less than', 'macroblock', 'macroblock using', 'memory', 'memory arrangements', 'motion', 'motion compensation', 'of', 'of each', 'of features', 'of parallel', 'of the', 'one', 'one channel', 'or', 'or a', 'or characteristics', 'or motion', 'parallel', 'parallel channels', 'plurality', 'plurality of', 'predictive', 'predictive coding', 'reduction', 'reduction ', 'region', 'region being', 'related', 'related to', 'related to\\xa0compression', 'search', 'search eg', 'search in', 'signal', 'signal ', 'signal is', 'standards', 'standards Extraction', 'syntax', 'syntax aspects', 'television', 'television signal', 'than', 'than the', 'the', 'the bandwidth', 'the image', 'the region', 'the television', 'the vector', 'to', 'to initiate', 'to video', 'to\\xa0compression', 'to\\xa0compression standards', 'transform', 'transform [DCT]', 'transmitted', 'transmitted via', 'using', 'using discrete', 'using predictive', 'vector', 'vector search', 'via', 'via one', 'video', 'video coding', 'which', 'which the', 'with', 'with bandwidth', 'with initialisation', 'with predictive']\n",
      "------------------------------------------------------------\n",
      "Intersection between concept and TF-IDF: ['direction direction', 'neighboring block', 'anchor', 'current', 'neighbouring', 'motion', 'a_number_', 'pictures', 'steps judging', 'judgment', 'mv_number_', 'acquired', 'determining occurrence', 'merging', 'data', 'adjacent blocks', 'future', 'coded', 'reference', 'multiple']\n",
      "Complement of extracted keywords: []\n",
      "Complement of TF-IDF: []\n",
      "------------------------------------------------------------\n",
      "Intersection between concept and IPC: ['motion']\n",
      "Complement of extracted keywords: ['direction direction', 'neighboring block', 'anchor', 'current', 'neighbouring', 'a_number_', 'pictures', 'steps judging', 'judgment', 'mv_number_', 'acquired', 'determining occurrence', 'merging', 'data', 'adjacent blocks', 'future', 'coded', 'reference', 'multiple']\n",
      "Complement of IPC: ['', ' Motion', ' Systems', ' characterised', ' the', 'Extraction', 'Extraction of', 'Image', 'Image coding', 'Motion', 'Motion estimation', 'Systems', 'Systems in', '[DCT]', 'a', 'a block', 'a good', 'a macroblock', 'a plurality', 'a search', 'arrangements', 'arrangements ', 'aspects', 'aspects related', 'bandwidth', 'bandwidth of', 'bandwidth reduction', 'being', 'being a', 'being less', 'block', 'block eg', 'by', 'by memory', 'by syntax', 'candidate', 'candidate to', 'channel', 'channel being', 'channel or', 'channels', 'channels the', 'characterised', 'characterised by', 'characteristics', 'characteristics of', 'coding', 'coding ', 'coding eg', 'coding using', 'combination', 'combination with', 'compensation', 'compensation Image', 'cosine', 'cosine transform', 'discrete', 'discrete cosine', 'each', 'each channel', 'eg', 'eg a', 'eg estimating', 'eg related', 'estimating', 'estimating a', 'estimation', 'estimation or', 'estimation with', 'features', 'features or', 'good', 'good candidate', 'image', 'image with', 'in', 'in combination', 'in which', 'initialisation', 'initialisation of', 'initiate', 'initiate a', 'is', 'is transmitted', 'less', 'less than', 'macroblock', 'macroblock using', 'memory', 'memory arrangements', 'motion compensation', 'of', 'of each', 'of features', 'of parallel', 'of the', 'one', 'one channel', 'or', 'or a', 'or characteristics', 'or motion', 'parallel', 'parallel channels', 'plurality', 'plurality of', 'predictive', 'predictive coding', 'reduction', 'reduction ', 'region', 'region being', 'related', 'related to', 'related to\\xa0compression', 'search', 'search eg', 'search in', 'signal', 'signal ', 'signal is', 'standards', 'standards Extraction', 'syntax', 'syntax aspects', 'television', 'television signal', 'than', 'than the', 'the', 'the bandwidth', 'the image', 'the region', 'the television', 'the vector', 'to', 'to initiate', 'to video', 'to\\xa0compression', 'to\\xa0compression standards', 'transform', 'transform [DCT]', 'transmitted', 'transmitted via', 'using', 'using discrete', 'using predictive', 'vector', 'vector search', 'via', 'via one', 'video', 'video coding', 'which', 'which the', 'with', 'with bandwidth', 'with initialisation', 'with predictive']\n",
      "------------------------------------------------------------\n",
      "Percentual share of concept and TF-IDF: 1.0\n",
      "Percentual share of concept and IPC: 0.05\n",
      "Percentual share of unique keywords: 0.8\n",
      "\n",
      "------------------------------------------------------------------------------------------------------------------------------------------------------------------------------------------------------------------------------------------------\n",
      "Cluster: 8 \n",
      "\n",
      "Unique keywords among all document clusters: ['coding arithmetic', 'value classification', 'threshold', 'tables directional', 'direction switching', 'display cycle', 'picture sequence', 'data quantity', 'simplified construction', 'processing input', 'predictive', 'determining image', 'video block', 'water', 'ring', 'trailing', 'scan unit', 'location generated', 'scanning information', 'generating full']\n",
      "Extracted keywords: ['coding arithmetic', 'value classification', 'threshold', 'tables directional', 'direction switching', 'display cycle', 'picture sequence', 'data quantity', 'simplified construction', 'processing input', 'predictive', 'determining image', 'video block', 'water', 'ring', 'trailing', 'scan unit', 'location generated', 'scanning information', 'generating full']\n",
      "TF-IDF keywords: ['coding arithmetic', 'value classification', 'threshold', 'tables directional', 'direction switching', 'determining image', 'predictive picture', 'data', 'display cycle', 'video block', 'water', 'ring', 'trailing', 'sequence', 'quantity', 'simplified construction', 'time processing', 'device', 'input', 'scanning information']\n",
      "IPC words: ['', ' Systems', 'Image', 'Image coding', 'Systems', 'Systems for', 'code', 'code modulation', 'coding', 'coding ', 'for', 'for the', 'modulation', 'modulation ', 'of', 'of television', 'pulse', 'pulse code', 'signals', 'signals using', 'television', 'television signals', 'the', 'the transmission', 'transmission', 'transmission of', 'using', 'using pulse']\n",
      "------------------------------------------------------------\n",
      "Intersection between concept and TF-IDF: ['coding arithmetic', 'value classification', 'threshold', 'tables directional', 'direction switching', 'display cycle', 'simplified construction', 'determining image', 'video block', 'water', 'ring', 'trailing', 'scanning information']\n",
      "Complement of extracted keywords: ['picture sequence', 'data quantity', 'processing input', 'predictive', 'scan unit', 'location generated', 'generating full']\n",
      "Complement of TF-IDF: ['predictive picture', 'data', 'sequence', 'quantity', 'time processing', 'device', 'input']\n",
      "------------------------------------------------------------\n",
      "Intersection between concept and IPC: []\n",
      "Complement of extracted keywords: ['coding arithmetic', 'value classification', 'threshold', 'tables directional', 'direction switching', 'display cycle', 'picture sequence', 'data quantity', 'simplified construction', 'processing input', 'predictive', 'determining image', 'video block', 'water', 'ring', 'trailing', 'scan unit', 'location generated', 'scanning information', 'generating full']\n",
      "Complement of IPC: ['', ' Systems', 'Image', 'Image coding', 'Systems', 'Systems for', 'code', 'code modulation', 'coding', 'coding ', 'for', 'for the', 'modulation', 'modulation ', 'of', 'of television', 'pulse', 'pulse code', 'signals', 'signals using', 'television', 'television signals', 'the', 'the transmission', 'transmission', 'transmission of', 'using', 'using pulse']\n",
      "------------------------------------------------------------\n",
      "Percentual share of concept and TF-IDF: 0.65\n",
      "Percentual share of concept and IPC: 0.0\n",
      "Percentual share of unique keywords: 1.0\n",
      "\n",
      "------------------------------------------------------------------------------------------------------------------------------------------------------------------------------------------------------------------------------------------------\n",
      "Cluster: 9 \n",
      "\n",
      "Unique keywords among all document clusters: ['maximum coding', 'coded depth', 'partitioned', 'intra prediction', 'description', 'buffer', 'signals', 'locally decoded', 'formed', 'making', 'decomposing current', 'block decomposer', 'applied', 'compensation value', 'group restored']\n",
      "Extracted keywords: ['maximum coding', 'unit', 'coded depth', 'partitioned', 'intra prediction', 'description', 'buffer', 'information', 'signals', 'locally decoded', 'formed', 'making', 'decomposing current', 'block decomposer', 'bit', 'applied', 'transform', 'compensation value', 'group restored', 'apparatus']\n",
      "TF-IDF keywords: ['maximum coding', 'unit', 'decomposing', 'block decomposer', 'current', 'coded depth', 'bit', 'applied', 'transform', 'group restored', 'compensation value', 'apparatus', 'blocks', 'store', 'reproduced', 'storage', 'encoding subsequent', 'estimating', 'partitioned', 'intra prediction']\n",
      "IPC words: ['', ' Embedding', ' Incoming', ' involving', 'Adaptive', 'Adaptive subdivision', 'Decoders', 'Decoders specially', 'Embedding', 'Embedding additional', 'Incoming', 'Incoming video', 'Prediction', 'Prediction type', 'Tree', 'Tree coding', 'a', 'a block', 'a macroblock', 'a picture', 'adapted', 'adapted for', 'adapted therefor', 'additional', 'additional information', 'are', 'are asymmetric', 'aspects', 'aspects eg', 'aspects related', 'asymmetric', 'asymmetric with', 'averaging', 'averaging previously', 'before', 'before transmission', 'being', 'being a', 'being specially', 'bidirectional', 'bidirectional frame', 'block', 'block eg', 'blocks', 'blocks Tree', 'by', 'by averaging', 'by compressing', 'by syntax', 'characterised', 'characterised by', 'characteristics', 'characteristics or', 'coding', 'coding ', 'coding Adaptive', 'coding Decoders', 'coding blocks', 'coding eg', 'combination', 'combination with', 'compressing', 'compressing encoding', 'compression', 'compression process', 'computation', 'computation of', 'computed', 'computed encoding', 'decoders', 'decoders which', 'during', 'during the', 'eg', 'eg a', 'eg by', 'eg intra-frame', 'eg quad-tree', 'eg related', 'eg subdivision', 'eg video', 'encoder', 'encoder by', 'encoding', 'encoding parameters', 'for', 'for the', 'frame', 'frame prediction', 'in', 'in combination', 'in the', 'information', 'information in', 'inter-frame', 'inter-frame or', 'into', 'into rectangular', 'intra-frame', 'intra-frame inter-frame', 'involving', 'involving spatial', 'macroblock', 'macroblock in', 'non-rectangular', 'non-rectangular coding', 'of', 'of a', 'of encoding', 'or', 'or bidirectional', 'or non-rectangular', 'or properties', 'parameters', 'parameters ', 'parameters before', 'parameters eg', 'picture', 'picture into', 'prediction', 'prediction techniques', 'predictive', 'predictive coding', 'previously', 'previously computed', 'process', 'process ', 'properties', 'properties Prediction', 'quad-tree', 'quad-tree coding', 'rectangular', 'rectangular or', 'region', 'region being', 'related', 'related to', 'related to\\xa0compression', 'respect', 'respect to', 'signal', 'signal characteristics', 'signal during', 'spatial', 'spatial prediction', 'specially', 'specially adapted', 'standards', 'standards being', 'subdivision', 'subdivision aspects', 'subdivision of', 'syntax', 'syntax aspects', 'techniques', 'techniques characterised', 'the', 'the compression', 'the computation', 'the encoder', 'the region', 'the video', 'therefor', 'therefor eg', 'to', 'to the', 'to video', 'to\\xa0compression', 'to\\xa0compression standards', 'transmission', 'transmission using', 'type', 'type eg', 'using', 'using predictive', 'video', 'video coding', 'video decoders', 'video signal', 'which', 'which are', 'with', 'with predictive', 'with respect']\n",
      "------------------------------------------------------------\n",
      "Intersection between concept and TF-IDF: ['maximum coding', 'unit', 'coded depth', 'partitioned', 'intra prediction', 'block decomposer', 'bit', 'applied', 'transform', 'compensation value', 'group restored', 'apparatus']\n",
      "Complement of extracted keywords: ['description', 'buffer', 'information', 'signals', 'locally decoded', 'formed', 'making', 'decomposing current']\n",
      "Complement of TF-IDF: ['decomposing', 'current', 'blocks', 'store', 'reproduced', 'storage', 'encoding subsequent', 'estimating']\n",
      "------------------------------------------------------------\n",
      "Intersection between concept and IPC: ['information']\n",
      "Complement of extracted keywords: ['maximum coding', 'unit', 'coded depth', 'partitioned', 'intra prediction', 'description', 'buffer', 'signals', 'locally decoded', 'formed', 'making', 'decomposing current', 'block decomposer', 'bit', 'applied', 'transform', 'compensation value', 'group restored', 'apparatus']\n",
      "Complement of IPC: ['', ' Embedding', ' Incoming', ' involving', 'Adaptive', 'Adaptive subdivision', 'Decoders', 'Decoders specially', 'Embedding', 'Embedding additional', 'Incoming', 'Incoming video', 'Prediction', 'Prediction type', 'Tree', 'Tree coding', 'a', 'a block', 'a macroblock', 'a picture', 'adapted', 'adapted for', 'adapted therefor', 'additional', 'additional information', 'are', 'are asymmetric', 'aspects', 'aspects eg', 'aspects related', 'asymmetric', 'asymmetric with', 'averaging', 'averaging previously', 'before', 'before transmission', 'being', 'being a', 'being specially', 'bidirectional', 'bidirectional frame', 'block', 'block eg', 'blocks', 'blocks Tree', 'by', 'by averaging', 'by compressing', 'by syntax', 'characterised', 'characterised by', 'characteristics', 'characteristics or', 'coding', 'coding ', 'coding Adaptive', 'coding Decoders', 'coding blocks', 'coding eg', 'combination', 'combination with', 'compressing', 'compressing encoding', 'compression', 'compression process', 'computation', 'computation of', 'computed', 'computed encoding', 'decoders', 'decoders which', 'during', 'during the', 'eg', 'eg a', 'eg by', 'eg intra-frame', 'eg quad-tree', 'eg related', 'eg subdivision', 'eg video', 'encoder', 'encoder by', 'encoding', 'encoding parameters', 'for', 'for the', 'frame', 'frame prediction', 'in', 'in combination', 'in the', 'information in', 'inter-frame', 'inter-frame or', 'into', 'into rectangular', 'intra-frame', 'intra-frame inter-frame', 'involving', 'involving spatial', 'macroblock', 'macroblock in', 'non-rectangular', 'non-rectangular coding', 'of', 'of a', 'of encoding', 'or', 'or bidirectional', 'or non-rectangular', 'or properties', 'parameters', 'parameters ', 'parameters before', 'parameters eg', 'picture', 'picture into', 'prediction', 'prediction techniques', 'predictive', 'predictive coding', 'previously', 'previously computed', 'process', 'process ', 'properties', 'properties Prediction', 'quad-tree', 'quad-tree coding', 'rectangular', 'rectangular or', 'region', 'region being', 'related', 'related to', 'related to\\xa0compression', 'respect', 'respect to', 'signal', 'signal characteristics', 'signal during', 'spatial', 'spatial prediction', 'specially', 'specially adapted', 'standards', 'standards being', 'subdivision', 'subdivision aspects', 'subdivision of', 'syntax', 'syntax aspects', 'techniques', 'techniques characterised', 'the', 'the compression', 'the computation', 'the encoder', 'the region', 'the video', 'therefor', 'therefor eg', 'to', 'to the', 'to video', 'to\\xa0compression', 'to\\xa0compression standards', 'transmission', 'transmission using', 'type', 'type eg', 'using', 'using predictive', 'video', 'video coding', 'video decoders', 'video signal', 'which', 'which are', 'with', 'with predictive', 'with respect']\n",
      "------------------------------------------------------------\n",
      "Percentual share of concept and TF-IDF: 0.6\n",
      "Percentual share of concept and IPC: 0.05\n",
      "Percentual share of unique keywords: 0.75\n",
      "\n",
      "------------------------------------------------------------------------------------------------------------------------------------------------------------------------------------------------------------------------------------------------\n",
      "Cluster: 10 \n",
      "\n",
      "Unique keywords among all document clusters: ['mpm', 'derived motion', 'basis', 'split current', 'subblocks', 'identifying', 'encoded data', 'reconstructed', 'block generated', 'reference list', 'decoding respect', 'information received', 'performing entropy', 'skip mode', 'chroma', 'component', 'decided']\n",
      "Extracted keywords: ['mpm', 'derived motion', 'basis', 'split current', 'subblocks', 'identifying', 'encoded data', 'reconstructed', 'block generated', 'reference list', 'decoding respect', 'information received', 'performing entropy', 'image', 'skip mode', 'chroma', 'component', 'slice', 'transform', 'decided']\n",
      "TF-IDF keywords: ['mpm', 'basis derived', 'motion', 'split current', 'identifying subblocks', 'encoded data', 'respect image', 'information received', 'performing entropy', 'decoding', 'reconstructed', 'block generated', 'skip mode', 'chroma', 'component', 'determining reference', 'collocated', 'list', 'slice', 'transform']\n",
      "IPC words: ['', ' in', 'Decoders', 'Decoders specially', 'Prediction', 'Prediction type', 'Selection', 'Selection of', 'Systems', 'Systems in', 'a', 'a block', 'a chosen', 'a macroblock', 'a plurality', 'adapted', 'adapted therefor', 'adaptive', 'adaptive choice', 'among', 'among a', 'and', 'and number', 'are', 'are asymmetric', 'asymmetric', 'asymmetric with', 'bandwidth', 'bandwidth of', 'being', 'being a', 'being less', 'bidirectional', 'bidirectional frame', 'block', 'block eg', 'channel', 'channel being', 'channel or', 'channels', 'channels the', 'choice', 'choice of', 'chosen', 'chosen coding', 'coding', 'coding Selection', 'coding modes', 'coding or', 'combination', 'combination with', 'decoders', 'decoders which', 'each', 'each channel', 'eg', 'eg a', 'eg adaptive', 'eg intra-frame', 'eg video', 'encoder', 'for', 'for prediction', 'frame', 'frame prediction', 'in', 'in combination', 'in which', 'inter-frame', 'inter-frame or', 'intra-frame', 'intra-frame inter-frame', 'involving', 'involving spatial', 'is', 'is transmitted', 'less', 'less than', 'macroblock', 'macroblock among', 'mode', 'mode eg', 'modes', 'modes Systems', 'number', 'number of', 'of', 'of each', 'of parallel', 'of pixels', 'of position', 'of spatial', 'of the', 'one', 'one channel', 'or', 'or a', 'or bidirectional', 'or prediction', 'parallel', 'parallel channels', 'pixels', 'pixels used', 'plurality', 'plurality of', 'position', 'position and', 'prediction', 'prediction Decoders', 'prediction involving', 'prediction mode', 'prediction techniques', 'prediction within', 'predictive', 'predictive coding', 'reference', 'reference unit', 'region', 'region being', 'respect', 'respect to', 'signal', 'signal ', 'signal is', 'spatial', 'spatial prediction', 'spatial predictive', 'specially', 'specially adapted', 'techniques', 'techniques Prediction', 'television', 'television signal', 'than', 'than the', 'the', 'the bandwidth', 'the encoder', 'the reference', 'the region', 'the television', 'therefor', 'therefor eg', 'to', 'to the', 'transmitted', 'transmitted via', 'type', 'type eg', 'unit', 'unit for', 'used', 'used for', 'via', 'via one', 'video', 'video decoders', 'which', 'which are', 'which the', 'with', 'with predictive', 'with respect', 'within', 'within a']\n",
      "------------------------------------------------------------\n",
      "Intersection between concept and TF-IDF: ['mpm', 'split current', 'encoded data', 'reconstructed', 'block generated', 'information received', 'performing entropy', 'skip mode', 'chroma', 'component', 'slice', 'transform']\n",
      "Complement of extracted keywords: ['derived motion', 'basis', 'subblocks', 'identifying', 'reference list', 'decoding respect', 'image', 'decided']\n",
      "Complement of TF-IDF: ['basis derived', 'motion', 'identifying subblocks', 'respect image', 'decoding', 'determining reference', 'collocated', 'list']\n",
      "------------------------------------------------------------\n",
      "Intersection between concept and IPC: []\n",
      "Complement of extracted keywords: ['mpm', 'derived motion', 'basis', 'split current', 'subblocks', 'identifying', 'encoded data', 'reconstructed', 'block generated', 'reference list', 'decoding respect', 'information received', 'performing entropy', 'image', 'skip mode', 'chroma', 'component', 'slice', 'transform', 'decided']\n",
      "Complement of IPC: ['', ' in', 'Decoders', 'Decoders specially', 'Prediction', 'Prediction type', 'Selection', 'Selection of', 'Systems', 'Systems in', 'a', 'a block', 'a chosen', 'a macroblock', 'a plurality', 'adapted', 'adapted therefor', 'adaptive', 'adaptive choice', 'among', 'among a', 'and', 'and number', 'are', 'are asymmetric', 'asymmetric', 'asymmetric with', 'bandwidth', 'bandwidth of', 'being', 'being a', 'being less', 'bidirectional', 'bidirectional frame', 'block', 'block eg', 'channel', 'channel being', 'channel or', 'channels', 'channels the', 'choice', 'choice of', 'chosen', 'chosen coding', 'coding', 'coding Selection', 'coding modes', 'coding or', 'combination', 'combination with', 'decoders', 'decoders which', 'each', 'each channel', 'eg', 'eg a', 'eg adaptive', 'eg intra-frame', 'eg video', 'encoder', 'for', 'for prediction', 'frame', 'frame prediction', 'in', 'in combination', 'in which', 'inter-frame', 'inter-frame or', 'intra-frame', 'intra-frame inter-frame', 'involving', 'involving spatial', 'is', 'is transmitted', 'less', 'less than', 'macroblock', 'macroblock among', 'mode', 'mode eg', 'modes', 'modes Systems', 'number', 'number of', 'of', 'of each', 'of parallel', 'of pixels', 'of position', 'of spatial', 'of the', 'one', 'one channel', 'or', 'or a', 'or bidirectional', 'or prediction', 'parallel', 'parallel channels', 'pixels', 'pixels used', 'plurality', 'plurality of', 'position', 'position and', 'prediction', 'prediction Decoders', 'prediction involving', 'prediction mode', 'prediction techniques', 'prediction within', 'predictive', 'predictive coding', 'reference', 'reference unit', 'region', 'region being', 'respect', 'respect to', 'signal', 'signal ', 'signal is', 'spatial', 'spatial prediction', 'spatial predictive', 'specially', 'specially adapted', 'techniques', 'techniques Prediction', 'television', 'television signal', 'than', 'than the', 'the', 'the bandwidth', 'the encoder', 'the reference', 'the region', 'the television', 'therefor', 'therefor eg', 'to', 'to the', 'transmitted', 'transmitted via', 'type', 'type eg', 'unit', 'unit for', 'used', 'used for', 'via', 'via one', 'video', 'video decoders', 'which', 'which are', 'which the', 'with', 'with predictive', 'with respect', 'within', 'within a']\n",
      "------------------------------------------------------------\n",
      "Percentual share of concept and TF-IDF: 0.6\n",
      "Percentual share of concept and IPC: 0.0\n",
      "Percentual share of unique keywords: 0.85\n",
      "\n",
      "------------------------------------------------------------------------------------------------------------------------------------------------------------------------------------------------------------------------------------------------\n",
      "Cluster: 11 \n",
      "\n",
      "Unique keywords among all document clusters: ['change', 'scene', 'context index', 'picture candidate', 'timewise', 'target', 'transformation coefficient', 'significant', 'encoding block', 'included', 'displayed', 'device', 'location', 'forward motion', 'coding order', 'information representing', 'past', 'axis direction']\n",
      "Extracted keywords: ['change', 'scene', 'context index', 'picture candidate', 'timewise', 'target', 'transformation coefficient', 'significant', 'encoding block', 'included', 'displayed', 'pictures', 'device', 'location', 'forward motion', 'coding order', 'reference', 'information representing', 'past', 'axis direction']\n",
      "TF-IDF keywords: ['change', 'scene', 'context index', 'picture candidate', 'timewise', 'target', 'transformation coefficient', 'significant', 'encoding block', 'included', 'displayed', 'pictures', 'device', 'location', 'forward motion', 'coding order', 'reference', 'information representing', 'past', 'axis direction']\n",
      "IPC words: ['', ' Motion', ' Selection', ' Systems', ' the', ' using', 'Embedding', 'Embedding additional', 'Entropy', 'Entropy coding', 'Image', 'Image coding', 'Motion', 'Motion compensation', 'Selection', 'Selection of', 'Systems', 'Systems in', '[vlc]', '[vlc] or', 'a', 'a block', 'a chosen', 'a macroblock', 'a plurality', 'a set', 'adaptive', 'adaptive choice', 'additional', 'additional information', 'and', 'and number', 'arithmetic', 'arithmetic coding', 'arrangements', 'arrangements ', 'b-pictures', 'b-pictures using', 'bandwidth', 'bandwidth of', 'bandwidth reduction', 'before', 'before transmission', 'being', 'being a', 'being less', 'bidirectional', 'bidirectional frame', 'block', 'block eg', 'by', 'by compressing', 'by memory', 'channel', 'channel being', 'channel or', 'channels', 'channels the', 'characterised', 'characterised by', 'choice', 'choice of', 'chosen', 'chosen coding', 'code', 'code modulation', 'coding', 'coding ', 'coding Image', 'coding [vlc]', 'coding by', 'coding eg', 'coding mode', 'coding or', 'coefficients', 'coefficients using', 'compensation', 'compensation with', 'compressing', 'compressing encoding', 'compression', 'compression process', 'during', 'during the', 'each', 'each channel', 'efficiency', 'efficiency of', 'eg', 'eg a', 'eg adaptive', 'eg variable', 'encoding', 'encoding parameters', 'for', 'for improving', 'for prediction', 'for reducing', 'frame', 'frame interpolation', 'ie', 'ie using', 'improving', 'improving efficiency', 'in', 'in the', 'in which', 'information', 'information in', 'interpolation', 'interpolation ie', 'is', 'is transmitted', 'length', 'length coding', 'less', 'less than', 'macroblock', 'macroblock with', 'memory', 'memory arrangements', 'mode', 'mode eg', 'mode for', 'mode or', 'modulation', 'modulation characterised', 'number', 'number of', 'of', 'of coding', 'of each', 'of parallel', 'of pixels', 'of position', 'of signals', 'of the', 'of transform', 'of transmission', 'of\\xa0prediction', 'of\\xa0prediction mode', 'one', 'one channel', 'or', 'or a', 'or arithmetic', 'or of\\xa0prediction', 'or prediction', 'parallel', 'parallel channels', 'parameters', 'parameters before', 'pixels', 'pixels used', 'plurality', 'plurality of', 'position', 'position and', 'prediction', 'prediction Embedding', 'prediction mode', 'prediction within', 'predictive', 'predictive coding', 'process', 'process ', 'pulse', 'pulse code', 'reducing', 'reducing bandwidth', 'reduction', 'reduction ', 'reference', 'reference unit', 'region', 'region being', 'set', 'set of', 'signal', 'signal ', 'signal during', 'signal is', 'signals', 'signals for', 'television', 'television signal', 'than', 'than the', 'the', 'the bandwidth', 'the compression', 'the reference', 'the region', 'the television', 'the unit', 'the video', 'transform', 'transform coding', 'transform coefficients', 'transmission', 'transmission ', 'transmission Selection', 'transmitted', 'transmitted via', 'unit', 'unit being', 'unit for', 'used', 'used for', 'using', 'using b-pictures', 'using predictive', 'using pulse', 'using transform', 'variable', 'variable length', 'via', 'via one', 'video', 'video signal', 'which', 'which the', 'with', 'with bandwidth', 'with bidirectional', 'within', 'within a']\n",
      "------------------------------------------------------------\n",
      "Intersection between concept and TF-IDF: ['change', 'scene', 'context index', 'picture candidate', 'timewise', 'target', 'transformation coefficient', 'significant', 'encoding block', 'included', 'displayed', 'pictures', 'device', 'location', 'forward motion', 'coding order', 'reference', 'information representing', 'past', 'axis direction']\n",
      "Complement of extracted keywords: []\n",
      "Complement of TF-IDF: []\n",
      "------------------------------------------------------------\n",
      "Intersection between concept and IPC: ['reference']\n",
      "Complement of extracted keywords: ['change', 'scene', 'context index', 'picture candidate', 'timewise', 'target', 'transformation coefficient', 'significant', 'encoding block', 'included', 'displayed', 'pictures', 'device', 'location', 'forward motion', 'coding order', 'information representing', 'past', 'axis direction']\n",
      "Complement of IPC: ['', ' Motion', ' Selection', ' Systems', ' the', ' using', 'Embedding', 'Embedding additional', 'Entropy', 'Entropy coding', 'Image', 'Image coding', 'Motion', 'Motion compensation', 'Selection', 'Selection of', 'Systems', 'Systems in', '[vlc]', '[vlc] or', 'a', 'a block', 'a chosen', 'a macroblock', 'a plurality', 'a set', 'adaptive', 'adaptive choice', 'additional', 'additional information', 'and', 'and number', 'arithmetic', 'arithmetic coding', 'arrangements', 'arrangements ', 'b-pictures', 'b-pictures using', 'bandwidth', 'bandwidth of', 'bandwidth reduction', 'before', 'before transmission', 'being', 'being a', 'being less', 'bidirectional', 'bidirectional frame', 'block', 'block eg', 'by', 'by compressing', 'by memory', 'channel', 'channel being', 'channel or', 'channels', 'channels the', 'characterised', 'characterised by', 'choice', 'choice of', 'chosen', 'chosen coding', 'code', 'code modulation', 'coding', 'coding ', 'coding Image', 'coding [vlc]', 'coding by', 'coding eg', 'coding mode', 'coding or', 'coefficients', 'coefficients using', 'compensation', 'compensation with', 'compressing', 'compressing encoding', 'compression', 'compression process', 'during', 'during the', 'each', 'each channel', 'efficiency', 'efficiency of', 'eg', 'eg a', 'eg adaptive', 'eg variable', 'encoding', 'encoding parameters', 'for', 'for improving', 'for prediction', 'for reducing', 'frame', 'frame interpolation', 'ie', 'ie using', 'improving', 'improving efficiency', 'in', 'in the', 'in which', 'information', 'information in', 'interpolation', 'interpolation ie', 'is', 'is transmitted', 'length', 'length coding', 'less', 'less than', 'macroblock', 'macroblock with', 'memory', 'memory arrangements', 'mode', 'mode eg', 'mode for', 'mode or', 'modulation', 'modulation characterised', 'number', 'number of', 'of', 'of coding', 'of each', 'of parallel', 'of pixels', 'of position', 'of signals', 'of the', 'of transform', 'of transmission', 'of\\xa0prediction', 'of\\xa0prediction mode', 'one', 'one channel', 'or', 'or a', 'or arithmetic', 'or of\\xa0prediction', 'or prediction', 'parallel', 'parallel channels', 'parameters', 'parameters before', 'pixels', 'pixels used', 'plurality', 'plurality of', 'position', 'position and', 'prediction', 'prediction Embedding', 'prediction mode', 'prediction within', 'predictive', 'predictive coding', 'process', 'process ', 'pulse', 'pulse code', 'reducing', 'reducing bandwidth', 'reduction', 'reduction ', 'reference unit', 'region', 'region being', 'set', 'set of', 'signal', 'signal ', 'signal during', 'signal is', 'signals', 'signals for', 'television', 'television signal', 'than', 'than the', 'the', 'the bandwidth', 'the compression', 'the reference', 'the region', 'the television', 'the unit', 'the video', 'transform', 'transform coding', 'transform coefficients', 'transmission', 'transmission ', 'transmission Selection', 'transmitted', 'transmitted via', 'unit', 'unit being', 'unit for', 'used', 'used for', 'using', 'using b-pictures', 'using predictive', 'using pulse', 'using transform', 'variable', 'variable length', 'via', 'via one', 'video', 'video signal', 'which', 'which the', 'with', 'with bandwidth', 'with bidirectional', 'within', 'within a']\n",
      "------------------------------------------------------------\n",
      "Percentual share of concept and TF-IDF: 1.0\n",
      "Percentual share of concept and IPC: 0.05\n",
      "Percentual share of unique keywords: 0.9\n",
      "\n",
      "------------------------------------------------------------------------------------------------------------------------------------------------------------------------------------------------------------------------------------------------\n",
      "Cluster: 12 \n",
      "\n",
      "Unique keywords among all document clusters: ['pixel value', 'ipcm', 'array', 'boundary pixels', 'weight', 'eliminating blocking', 'signal signal', 'effect compressed', 'video', 'image processing', 'technique apparatus', 'minimize amount', 'required residual', 'dividing', 'shape', 'process']\n",
      "Extracted keywords: ['pixel value', 'ipcm', 'block', 'array', 'boundary pixels', 'weight', 'eliminating blocking', 'signal signal', 'effect compressed', 'video', 'image processing', 'technique apparatus', 'area', 'information', 'minimize amount', 'data', 'required residual', 'dividing', 'shape', 'process']\n",
      "TF-IDF keywords: ['pixel value', 'area', 'ipcm block', 'information', 'boundary pixels', 'array', 'weight', 'minimize', 'amount', 'data', 'required residual', 'shape', 'dividing', 'process', 'eliminating blocking', 'compressed video', 'effect', 'signal signal', 'technique apparatus', 'image']\n",
      "IPC words: ['', ' Coding', ' Filters', ' Motion', ' among', ' being', ' characterised', 'Coding', 'Coding unit', 'Filters', 'Filters eg', 'Image', 'Image coding', 'Image preprocessing', 'Incoming', 'Incoming video', 'Motion', 'Motion estimation', 'Systems', 'Systems in', '[DCT]', '[DCT] Incoming', 'a', 'a block', 'a macroblock', 'a plurality', 'a prediction', 'about', 'about the', 'activity', 'activity or', 'adapted', 'adapted for', 'adaptive', 'adaptive coding', 'affecting', 'affecting or', 'among', 'among a', 'amount', 'amount of', 'arrangements', 'arrangements ', 'artifacts', 'artifacts eg', 'averaging', 'averaging previously', 'bandwidth', 'bandwidth of', 'being', 'being a', 'being less', 'being specially', 'block', 'block eg', 'blockiness', 'blockiness characterised', 'by', 'by averaging', 'by memory', 'by the', 'channel', 'channel being', 'channel or', 'channels', 'channels the', 'characterised', 'characterised by', 'characteristics', 'characteristics or', 'coding', 'coding ', 'coding artifacts', 'coding in', 'coding modes', 'coding using', 'combination', 'combination with', 'compensation', 'compensation Systems', 'complexity', 'complexity eg', 'computation', 'computation of', 'computed', 'computed encoding', 'controlling', 'controlling the', 'cosine', 'cosine transform', 'criterion', 'criterion affecting', 'deciding', 'deciding about', 'discrete', 'discrete cosine', 'each', 'each channel', 'edge', 'edge presence', 'eg', 'eg a', 'eg amount', 'eg by', 'eg for', 'eg of', 'element', 'element parameter', 'encoding', 'encoding parameters', 'estimation', 'estimation ', 'estimation or', 'filtering', 'filtering within', 'for', 'for pre-processing', 'for the', 'identity', 'identity of', 'ie', 'ie processing', 'image', 'image information', 'image involving', 'in', 'in combination', 'in which', 'information', 'information without', 'involving', 'involving filtering', 'involving reduction', 'involving spatial', 'is', 'is transmitted', 'less', 'less than', 'loop', 'loop involving', 'macroblock', 'macroblock involving', 'memory', 'memory arrangements', 'modes', 'modes using', 'motion', 'motion compensation', 'of', 'of activity', 'of blockiness', 'of coding', 'of each', 'of encoding', 'of parallel', 'of spatial', 'of the', 'one', 'one channel', 'or', 'or a', 'or controlling', 'or criterion', 'or edge', 'or motion', 'or post-processing', 'or properties', 'parallel', 'parallel channels', 'parameter', 'parameter or', 'parameters', 'parameters ', 'parameters eg', 'plurality', 'plurality of', 'post-processing', 'post-processing ', 'pre-processing', 'pre-processing or', 'prediction', 'prediction loop', 'prediction techniques', 'predictive', 'predictive coding', 'preprocessing', 'preprocessing ie', 'presence', 'presence estimation', 'previously', 'previously computed', 'processing', 'processing the', 'properties', 'properties Image', 'reduction', 'reduction of', 'region', 'region being', 'signal', 'signal ', 'signal characteristics', 'signal is', 'spatial', 'spatial prediction', 'spatial predictive', 'specially', 'specially adapted', 'techniques', 'techniques Image', 'television', 'television signal', 'than', 'than the', 'the', 'the adaptive', 'the bandwidth', 'the computation', 'the element', 'the identity', 'the image', 'the region', 'the television', 'transform', 'transform [DCT]', 'transmitted', 'transmitted via', 'unit', 'unit complexity', 'using', 'using discrete', 'using predictive', 'via', 'via one', 'video', 'video signal', 'which', 'which the', 'with', 'with predictive', 'within', 'within a', 'without', 'without deciding']\n",
      "------------------------------------------------------------\n",
      "Intersection between concept and TF-IDF: ['pixel value', 'array', 'boundary pixels', 'weight', 'eliminating blocking', 'signal signal', 'technique apparatus', 'area', 'information', 'data', 'required residual', 'dividing', 'shape', 'process']\n",
      "Complement of extracted keywords: ['ipcm', 'block', 'effect compressed', 'video', 'image processing', 'minimize amount']\n",
      "Complement of TF-IDF: ['ipcm block', 'minimize', 'amount', 'compressed video', 'effect', 'image']\n",
      "------------------------------------------------------------\n",
      "Intersection between concept and IPC: ['block', 'video', 'information']\n",
      "Complement of extracted keywords: ['pixel value', 'ipcm', 'array', 'boundary pixels', 'weight', 'eliminating blocking', 'signal signal', 'effect compressed', 'image processing', 'technique apparatus', 'area', 'minimize amount', 'data', 'required residual', 'dividing', 'shape', 'process']\n",
      "Complement of IPC: ['', ' Coding', ' Filters', ' Motion', ' among', ' being', ' characterised', 'Coding', 'Coding unit', 'Filters', 'Filters eg', 'Image', 'Image coding', 'Image preprocessing', 'Incoming', 'Incoming video', 'Motion', 'Motion estimation', 'Systems', 'Systems in', '[DCT]', '[DCT] Incoming', 'a', 'a block', 'a macroblock', 'a plurality', 'a prediction', 'about', 'about the', 'activity', 'activity or', 'adapted', 'adapted for', 'adaptive', 'adaptive coding', 'affecting', 'affecting or', 'among', 'among a', 'amount', 'amount of', 'arrangements', 'arrangements ', 'artifacts', 'artifacts eg', 'averaging', 'averaging previously', 'bandwidth', 'bandwidth of', 'being', 'being a', 'being less', 'being specially', 'block eg', 'blockiness', 'blockiness characterised', 'by', 'by averaging', 'by memory', 'by the', 'channel', 'channel being', 'channel or', 'channels', 'channels the', 'characterised', 'characterised by', 'characteristics', 'characteristics or', 'coding', 'coding ', 'coding artifacts', 'coding in', 'coding modes', 'coding using', 'combination', 'combination with', 'compensation', 'compensation Systems', 'complexity', 'complexity eg', 'computation', 'computation of', 'computed', 'computed encoding', 'controlling', 'controlling the', 'cosine', 'cosine transform', 'criterion', 'criterion affecting', 'deciding', 'deciding about', 'discrete', 'discrete cosine', 'each', 'each channel', 'edge', 'edge presence', 'eg', 'eg a', 'eg amount', 'eg by', 'eg for', 'eg of', 'element', 'element parameter', 'encoding', 'encoding parameters', 'estimation', 'estimation ', 'estimation or', 'filtering', 'filtering within', 'for', 'for pre-processing', 'for the', 'identity', 'identity of', 'ie', 'ie processing', 'image', 'image information', 'image involving', 'in', 'in combination', 'in which', 'information without', 'involving', 'involving filtering', 'involving reduction', 'involving spatial', 'is', 'is transmitted', 'less', 'less than', 'loop', 'loop involving', 'macroblock', 'macroblock involving', 'memory', 'memory arrangements', 'modes', 'modes using', 'motion', 'motion compensation', 'of', 'of activity', 'of blockiness', 'of coding', 'of each', 'of encoding', 'of parallel', 'of spatial', 'of the', 'one', 'one channel', 'or', 'or a', 'or controlling', 'or criterion', 'or edge', 'or motion', 'or post-processing', 'or properties', 'parallel', 'parallel channels', 'parameter', 'parameter or', 'parameters', 'parameters ', 'parameters eg', 'plurality', 'plurality of', 'post-processing', 'post-processing ', 'pre-processing', 'pre-processing or', 'prediction', 'prediction loop', 'prediction techniques', 'predictive', 'predictive coding', 'preprocessing', 'preprocessing ie', 'presence', 'presence estimation', 'previously', 'previously computed', 'processing', 'processing the', 'properties', 'properties Image', 'reduction', 'reduction of', 'region', 'region being', 'signal', 'signal ', 'signal characteristics', 'signal is', 'spatial', 'spatial prediction', 'spatial predictive', 'specially', 'specially adapted', 'techniques', 'techniques Image', 'television', 'television signal', 'than', 'than the', 'the', 'the adaptive', 'the bandwidth', 'the computation', 'the element', 'the identity', 'the image', 'the region', 'the television', 'transform', 'transform [DCT]', 'transmitted', 'transmitted via', 'unit', 'unit complexity', 'using', 'using discrete', 'using predictive', 'via', 'via one', 'video signal', 'which', 'which the', 'with', 'with predictive', 'within', 'within a', 'without', 'without deciding']\n",
      "------------------------------------------------------------\n",
      "Percentual share of concept and TF-IDF: 0.7\n",
      "Percentual share of concept and IPC: 0.15\n",
      "Percentual share of unique keywords: 0.8\n",
      "\n",
      "------------------------------------------------------------------------------------------------------------------------------------------------------------------------------------------------------------------------------------------------\n",
      "Cluster: 13 \n",
      "\n",
      "Unique keywords among all document clusters: ['adaptive decoding', 'processing', 'symbol', 'correctly decodes', 'encoding improves', 'compression ratio', 'interval', 'applies', 'indicator parameter', 'sao', 'subframe', 'neighboring portion', 'precoded', 'coded macroblocks', 'type scanning', 'portions', 'video frame', 'pattern']\n",
      "Extracted keywords: ['adaptive decoding', 'processing', 'symbol', 'correctly decodes', 'encoding improves', 'compression ratio', 'interval', 'applies', 'indicator parameter', 'sao', 'subframe', 'neighboring portion', 'precoded', 'coded macroblocks', 'type scanning', 'portions', 'video frame', 'pattern', 'picture', 'encoded']\n",
      "TF-IDF keywords: ['subframe', 'neighboring portion', 'precoded', 'adaptive decoding', 'coded macroblocks', 'portions type', 'frame picture', 'scanning', 'pattern', 'video', 'processing', 'encoded', 'symbol', 'compression ratio', 'improves', 'encoding', 'correctly', 'decodes', 'interval', 'compensation alf']\n",
      "IPC words: ['', ' involving', 'Conversion', 'Conversion to', 'Embedding', 'Embedding additional', 'Image', 'Image coding', 'Image preprocessing', 'a', 'a block', 'a macroblock', 'about', 'about the', 'additional', 'additional information', 'arrangements', 'arrangements for', 'aspects', 'aspects related', 'at', 'at the', 'being', 'being a', 'block', 'block eg', 'by', 'by syntax', 'characterised', 'characterised by', 'code', 'code Image', 'code huffman', 'code morse', 'codes', 'codes eg', 'coding', 'coding ', 'coding characterised', 'coding eg', 'compression', 'compression process', 'deciding', 'deciding about', 'decoder', 'decoder the', 'detection', 'detection of', 'during', 'during the', 'eg', 'eg a', 'eg related', 'eg shannon-fano', 'errors', 'errors at', 'for', 'for detection', 'from', 'from variable', 'huffman', 'huffman code', 'identity', 'identity of', 'ie', 'ie processing', 'image', 'image information', 'image using', 'in', 'in the', 'information', 'information in', 'information without', 'involving', 'involving methods', 'length', 'length codes', 'macroblock', 'macroblock Conversion', 'methods', 'methods or', 'morse', 'morse code', 'of', 'of the', 'of transmission', 'or', 'or arrangements', 'or from', 'preprocessing', 'preprocessing ie', 'process', 'process ', 'processing', 'processing the', 'region', 'region being', 'related', 'related to', 'related to\\xa0compression', 'shannon-fano', 'shannon-fano code', 'signal', 'signal during', 'standards', 'standards Embedding', 'syntax', 'syntax aspects', 'the', 'the compression', 'the decoder', 'the identity', 'the image', 'the region', 'the video', 'to', 'to or', 'to video', 'to\\xa0compression', 'to\\xa0compression standards', 'transform', 'transform coding', 'transmission', 'transmission errors', 'using', 'using transform', 'variable', 'variable length', 'video', 'video coding', 'video signal', 'without', 'without deciding']\n",
      "------------------------------------------------------------\n",
      "Intersection between concept and TF-IDF: ['adaptive decoding', 'processing', 'symbol', 'compression ratio', 'interval', 'subframe', 'neighboring portion', 'precoded', 'coded macroblocks', 'pattern', 'encoded']\n",
      "Complement of extracted keywords: ['correctly decodes', 'encoding improves', 'applies', 'indicator parameter', 'sao', 'type scanning', 'portions', 'video frame', 'picture']\n",
      "Complement of TF-IDF: ['portions type', 'frame picture', 'scanning', 'video', 'improves', 'encoding', 'correctly', 'decodes', 'compensation alf']\n",
      "------------------------------------------------------------\n",
      "Intersection between concept and IPC: ['processing']\n",
      "Complement of extracted keywords: ['adaptive decoding', 'symbol', 'correctly decodes', 'encoding improves', 'compression ratio', 'interval', 'applies', 'indicator parameter', 'sao', 'subframe', 'neighboring portion', 'precoded', 'coded macroblocks', 'type scanning', 'portions', 'video frame', 'pattern', 'picture', 'encoded']\n",
      "Complement of IPC: ['', ' involving', 'Conversion', 'Conversion to', 'Embedding', 'Embedding additional', 'Image', 'Image coding', 'Image preprocessing', 'a', 'a block', 'a macroblock', 'about', 'about the', 'additional', 'additional information', 'arrangements', 'arrangements for', 'aspects', 'aspects related', 'at', 'at the', 'being', 'being a', 'block', 'block eg', 'by', 'by syntax', 'characterised', 'characterised by', 'code', 'code Image', 'code huffman', 'code morse', 'codes', 'codes eg', 'coding', 'coding ', 'coding characterised', 'coding eg', 'compression', 'compression process', 'deciding', 'deciding about', 'decoder', 'decoder the', 'detection', 'detection of', 'during', 'during the', 'eg', 'eg a', 'eg related', 'eg shannon-fano', 'errors', 'errors at', 'for', 'for detection', 'from', 'from variable', 'huffman', 'huffman code', 'identity', 'identity of', 'ie', 'ie processing', 'image', 'image information', 'image using', 'in', 'in the', 'information', 'information in', 'information without', 'involving', 'involving methods', 'length', 'length codes', 'macroblock', 'macroblock Conversion', 'methods', 'methods or', 'morse', 'morse code', 'of', 'of the', 'of transmission', 'or', 'or arrangements', 'or from', 'preprocessing', 'preprocessing ie', 'process', 'process ', 'processing the', 'region', 'region being', 'related', 'related to', 'related to\\xa0compression', 'shannon-fano', 'shannon-fano code', 'signal', 'signal during', 'standards', 'standards Embedding', 'syntax', 'syntax aspects', 'the', 'the compression', 'the decoder', 'the identity', 'the image', 'the region', 'the video', 'to', 'to or', 'to video', 'to\\xa0compression', 'to\\xa0compression standards', 'transform', 'transform coding', 'transmission', 'transmission errors', 'using', 'using transform', 'variable', 'variable length', 'video', 'video coding', 'video signal', 'without', 'without deciding']\n",
      "------------------------------------------------------------\n",
      "Percentual share of concept and TF-IDF: 0.55\n",
      "Percentual share of concept and IPC: 0.05\n",
      "Percentual share of unique keywords: 0.9\n",
      "\n",
      "------------------------------------------------------------------------------------------------------------------------------------------------------------------------------------------------------------------------------------------------\n"
     ]
    }
   ],
   "source": [
    "# Remove redundant words from keywords\n",
    "\n",
    "cluster_keywords = []\n",
    "cluster_keywords_tfidf = []\n",
    "cluster_keywords_tfidf_sw = []\n",
    "cluster_keywords_ipc = []\n",
    "for i, cluster in enumerate(decoded_sentences_from_all_document_clusters):\n",
    "    keywords = (extract_keywords(cluster))\n",
    "    selected_group = grouped.get_group(i)\n",
    "    all_decoded_sentences_sw = flatten(cluster)\n",
    "    keywords_tfidf = filter_redundant_words(list(tfidf_on_document(all_decoded_sentences_sw, vectorizer, features)))[:20]\n",
    "    keywords_ipc = extract_ipc_keywords(selected_group, reduce_hierarchy=False, threshold=0.2)\n",
    "    cluster_keywords.append(keywords)\n",
    "    cluster_keywords_tfidf.append(keywords_tfidf)\n",
    "    cluster_keywords_ipc.append(keywords_ipc)\n",
    "    \n",
    "unique_keywords = []\n",
    "for i in range(len(decoded_sentences_from_all_document_clusters)):\n",
    "    print('Cluster:', i, '\\n')\n",
    "    temp_keywords = cluster_keywords.copy()\n",
    "    del temp_keywords[i]\n",
    "    unique_keywords.append(complement(cluster_keywords[i], flatten(temp_keywords)))\n",
    "    print('Unique keywords among all document clusters:', unique_keywords[-1])\n",
    "    print('Extracted keywords:', cluster_keywords[i])\n",
    "    print('TF-IDF keywords:', cluster_keywords_tfidf[i])\n",
    "    print('IPC words:', cluster_keywords_ipc[i])\n",
    "    print(60*'-')\n",
    "    print('Intersection between concept and TF-IDF:', intersection(cluster_keywords[i], cluster_keywords_tfidf[i]))\n",
    "    print('Complement of extracted keywords:', complement(cluster_keywords[i], cluster_keywords_tfidf[i]))\n",
    "    print('Complement of TF-IDF:', complement(cluster_keywords_tfidf[i], cluster_keywords[i]))\n",
    "    print(60*'-')\n",
    "    print('Intersection between concept and IPC:', intersection(cluster_keywords[i], cluster_keywords_ipc[i]))\n",
    "    print('Complement of extracted keywords:', complement(cluster_keywords[i], cluster_keywords_ipc[i]))\n",
    "    print('Complement of IPC:', complement(cluster_keywords_ipc[i], cluster_keywords[i]))\n",
    "    print(60*'-')\n",
    "    print('Percentual share of concept and TF-IDF:', precision(cluster_keywords[i], cluster_keywords_tfidf[i]))\n",
    "    print('Percentual share of concept and IPC:', precision(cluster_keywords[i], cluster_keywords_ipc[i]))\n",
    "    print('Percentual share of unique keywords:', np.round(len(unique_keywords[-1])/len(cluster_keywords[i]), 2))\n",
    "    print('\\n' + 240*'-')"
   ]
  },
  {
   "cell_type": "markdown",
   "metadata": {},
   "source": [
    "# Check IPC codes / Reference"
   ]
  },
  {
   "cell_type": "code",
   "execution_count": 19,
   "metadata": {},
   "outputs": [],
   "source": [
    "doc_cluster_idx = 0\n",
    "sent_cluster_idx = 0\n",
    "\n",
    "sentence_cluster = df.loc[doc_idxs_from_all_doc_clusters[doc_cluster_idx][sent_cluster_idx]]\n",
    "document_cluster = df.loc[np.hstack(doc_idxs_from_all_doc_clusters[doc_cluster_idx])]"
   ]
  },
  {
   "cell_type": "code",
   "execution_count": 20,
   "metadata": {},
   "outputs": [
    {
     "name": "stdout",
     "output_type": "stream",
     "text": [
      "H04N19/00, 1.0:\t Methods or arrangements for coding, decoding, compressing or decompressing digital video signals\n",
      "H04N7/00, 0.54:\t Television systems (details H04N3/00, H04N3/00;methods or arrangements, for coding, decoding, compressing or decompressing digital video signals H04N3/00;selective content distribution H04N3/00)\n",
      "H04N11/00, 0.21:\t Colour television systems (details H04N9/00)\n",
      "H04B1/00, 0.12:\t Details of transmission systems, not covered by a single one of groups H04B3/00-H04B3/00; Details of transmission systems not characterised by the medium used for transmission\n",
      "H03M7/00, 0.12:\t Conversion of a code where information is represented by a given sequence or number of digits to a code where the same information is represented by a different sequence or number of digits\n"
     ]
    }
   ],
   "source": [
    "document_cluster = df.loc[np.hstack(doc_idxs_from_all_doc_clusters[0])]\n",
    "print_common_ipc(document_cluster, threshold=0.1, reduce_hierarchy=True)"
   ]
  },
  {
   "cell_type": "code",
   "execution_count": 21,
   "metadata": {},
   "outputs": [
    {
     "name": "stdout",
     "output_type": "stream",
     "text": [
      "H04N19/00, 0.72:\t Methods or arrangements for coding, decoding, compressing or decompressing digital video signals\n",
      "H04N7/00, 0.64:\t Television systems (details H04N3/00, H04N3/00;methods or arrangements, for coding, decoding, compressing or decompressing digital video signals H04N3/00;selective content distribution H04N3/00)\n",
      "H03M7/00, 0.48:\t Conversion of a code where information is represented by a given sequence or number of digits to a code where the same information is represented by a different sequence or number of digits\n",
      "G06T9/00, 0.36:\t Image coding (bandwidth or redundancy reduction for static pictures H04N1/41;coding or decoding of static colour picture signals H04N1/41;methods or arrangements for coding, decoding, compressing or decompressing digital video signals H04N1/41)\n",
      "G06K9/00, 0.28:\t Methods or arrangements for reading or recognising printed or written characters or for recognising patterns, e.g. fingerprints (methods or arrangements for graph-reading or for converting the pattern of mechanical parameters, e.g. force or presence, into electrical signals G06K11/00;speech recognition G06K11/00)\n",
      "H04B14/00, 0.12:\t Transmission systems not characterised by the medium used for transmission (details thereof H04B1/00)\n",
      "G10L19/00, 0.12:\t Speech or audio signal analysis-synthesis techniques for redundancy reduction, e.g. in vocoders; Coding or decoding of speech or audio signals, using source filter models or psychoacoustic analysis (in musical instruments g10h)\n"
     ]
    }
   ],
   "source": [
    "document_cluster = df.loc[np.hstack(doc_idxs_from_all_doc_clusters[-1])]\n",
    "print_common_ipc(document_cluster, threshold=0.1, reduce_hierarchy=True)"
   ]
  },
  {
   "cell_type": "code",
   "execution_count": 22,
   "metadata": {},
   "outputs": [
    {
     "name": "stdout",
     "output_type": "stream",
     "text": [
      "H04N19/00, 0.79:\t Methods or arrangements for coding, decoding, compressing or decompressing digital video signals\n",
      "H04N7/00, 0.64:\t Television systems (details H04N3/00, H04N3/00;methods or arrangements, for coding, decoding, compressing or decompressing digital video signals H04N3/00;selective content distribution H04N3/00)\n",
      "G06T9/00, 0.59:\t Image coding (bandwidth or redundancy reduction for static pictures H04N1/41;coding or decoding of static colour picture signals H04N1/41;methods or arrangements for coding, decoding, compressing or decompressing digital video signals H04N1/41)\n",
      "H03M7/00, 0.38:\t Conversion of a code where information is represented by a given sequence or number of digits to a code where the same information is represented by a different sequence or number of digits\n",
      "G06K9/00, 0.23:\t Methods or arrangements for reading or recognising printed or written characters or for recognising patterns, e.g. fingerprints (methods or arrangements for graph-reading or for converting the pattern of mechanical parameters, e.g. force or presence, into electrical signals G06K11/00;speech recognition G06K11/00)\n",
      "H04N11/00, 0.15:\t Colour television systems (details H04N9/00)\n",
      "H04N5/00, 0.1:\t Details of television systems (scanning details or combination thereof with generation of supply voltages H04N3/00)\n"
     ]
    }
   ],
   "source": [
    "document_cluster = df.loc[np.hstack(doc_idxs_from_all_doc_clusters[3])]\n",
    "print_common_ipc(document_cluster, threshold=0.1, reduce_hierarchy=True)"
   ]
  },
  {
   "cell_type": "code",
   "execution_count": 23,
   "metadata": {},
   "outputs": [
    {
     "name": "stdout",
     "output_type": "stream",
     "text": [
      "H04N7/00, 0.84:\t Television systems (details H04N3/00, H04N3/00;methods or arrangements, for coding, decoding, compressing or decompressing digital video signals H04N3/00;selective content distribution H04N3/00)\n",
      "G06T9/00, 0.5:\t Image coding (bandwidth or redundancy reduction for static pictures H04N1/41;coding or decoding of static colour picture signals H04N1/41;methods or arrangements for coding, decoding, compressing or decompressing digital video signals H04N1/41)\n",
      "H04N19/00, 0.45:\t Methods or arrangements for coding, decoding, compressing or decompressing digital video signals\n",
      "H03M7/00, 0.42:\t Conversion of a code where information is represented by a given sequence or number of digits to a code where the same information is represented by a different sequence or number of digits\n",
      "H04N1/00, 0.29:\t Scanning, transmission or reproduction of documents or the like, e.g. facsimile transmission; Details thereof\n",
      "H04B1/00, 0.26:\t Details of transmission systems, not covered by a single one of groups H04B3/00-H04B3/00; Details of transmission systems not characterised by the medium used for transmission\n",
      "H04N5/00, 0.24:\t Details of television systems (scanning details or combination thereof with generation of supply voltages H04N3/00)\n",
      "G06K9/00, 0.16:\t Methods or arrangements for reading or recognising printed or written characters or for recognising patterns, e.g. fingerprints (methods or arrangements for graph-reading or for converting the pattern of mechanical parameters, e.g. force or presence, into electrical signals G06K11/00;speech recognition G06K11/00)\n",
      "H04N9/00, 0.13:\t Details of colour television systems\n",
      "H04N11/00, 0.13:\t Colour television systems (details H04N9/00)\n"
     ]
    }
   ],
   "source": [
    "document_cluster = df.loc[np.hstack(doc_idxs_from_all_doc_clusters[4])]\n",
    "print_common_ipc(document_cluster, threshold=0.1, reduce_hierarchy=True)"
   ]
  },
  {
   "cell_type": "code",
   "execution_count": 24,
   "metadata": {},
   "outputs": [
    {
     "name": "stdout",
     "output_type": "stream",
     "text": [
      "H04N19/00, 0.88:\t Methods or arrangements for coding, decoding, compressing or decompressing digital video signals\n",
      "H04N7/00, 0.21:\t Television systems (details H04N3/00, H04N3/00;methods or arrangements, for coding, decoding, compressing or decompressing digital video signals H04N3/00;selective content distribution H04N3/00)\n",
      "G06T9/00, 0.21:\t Image coding (bandwidth or redundancy reduction for static pictures H04N1/41;coding or decoding of static colour picture signals H04N1/41;methods or arrangements for coding, decoding, compressing or decompressing digital video signals H04N1/41)\n",
      "G06K9/00, 0.12:\t Methods or arrangements for reading or recognising printed or written characters or for recognising patterns, e.g. fingerprints (methods or arrangements for graph-reading or for converting the pattern of mechanical parameters, e.g. force or presence, into electrical signals G06K11/00;speech recognition G06K11/00)\n"
     ]
    }
   ],
   "source": [
    "document_cluster = df.loc[np.hstack(doc_idxs_from_all_doc_clusters[5])]\n",
    "print_common_ipc(document_cluster, threshold=0.1, reduce_hierarchy=True)"
   ]
  },
  {
   "cell_type": "code",
   "execution_count": 25,
   "metadata": {},
   "outputs": [
    {
     "name": "stdout",
     "output_type": "stream",
     "text": [
      "H04N7/00, 0.68:\t Television systems (details H04N3/00, H04N3/00;methods or arrangements, for coding, decoding, compressing or decompressing digital video signals H04N3/00;selective content distribution H04N3/00)\n",
      "H04N19/00, 0.68:\t Methods or arrangements for coding, decoding, compressing or decompressing digital video signals\n",
      "G06T9/00, 0.39:\t Image coding (bandwidth or redundancy reduction for static pictures H04N1/41;coding or decoding of static colour picture signals H04N1/41;methods or arrangements for coding, decoding, compressing or decompressing digital video signals H04N1/41)\n",
      "H03M7/00, 0.36:\t Conversion of a code where information is represented by a given sequence or number of digits to a code where the same information is represented by a different sequence or number of digits\n",
      "H04N11/00, 0.29:\t Colour television systems (details H04N9/00)\n",
      "H04N9/00, 0.21:\t Details of colour television systems\n",
      "H04N21/00, 0.21:\t Selective content distribution, e.g. interactive television or video on demand [vod] (real-time bi-directional transmission of motion video data H04N7/14)\n",
      "H04N1/00, 0.18:\t Scanning, transmission or reproduction of documents or the like, e.g. facsimile transmission; Details thereof\n",
      "H03M13/00, 0.11:\t Coding, decoding or code conversion, for error detection or error correction; Coding theory basic assumptions; Coding bounds; Error probability evaluation methods; Channel models; Simulation or testing of codes (error detection or error correction for analogue/digital, digital/analogue or code conversion H03M1/00-H03M1/00;specially adapted for digital computers H03M1/00;for information storage based on relative movement between record carrier and transducer g11b, e.g. H03M1/00;for static stores g11c)\n"
     ]
    }
   ],
   "source": [
    "document_cluster = df.loc[np.hstack(doc_idxs_from_all_doc_clusters[6])]\n",
    "print_common_ipc(document_cluster, threshold=0.1, reduce_hierarchy=True)"
   ]
  },
  {
   "cell_type": "code",
   "execution_count": 26,
   "metadata": {},
   "outputs": [
    {
     "name": "stdout",
     "output_type": "stream",
     "text": [
      "H04N19/52, 0.62:\t by predictive encoding\n",
      "H04N7/12, 0.54:\t Systems in which the television signal is transmitted via one channel or a plurality of parallel channels, the bandwidth of each channel being less than the bandwidth of the television signal (H04N7/24 takes precedence)\n",
      "H04N19/61, 0.54:\t in combination with predictive coding\n",
      "H04N19/51, 0.54:\t Motion estimation or motion compensation\n",
      "H04N19/176, 0.38:\t the region being a block, e.g. a macroblock\n"
     ]
    }
   ],
   "source": [
    "print_common_ipc(sentence_cluster, threshold=0.33)"
   ]
  },
  {
   "cell_type": "code",
   "execution_count": 27,
   "metadata": {},
   "outputs": [
    {
     "name": "stdout",
     "output_type": "stream",
     "text": [
      "H04N19/136, 0.54:\t Incoming video signal characteristics or properties\n",
      "H04N19/61, 0.5:\t in combination with predictive coding\n",
      "H04N19/51, 0.43:\t Motion estimation or motion compensation\n",
      "H04N19/503, 0.43:\t involving temporal prediction (adaptive coding with adaptive selection between spatial and temporal predictive coding H04N19/107;adaptive coding with adaptive selection among a plurality of temporal predictive coding modes H04N19/107)\n",
      "H04N19/176, 0.39:\t the region being a block, e.g. a macroblock\n",
      "H04N7/12, 0.39:\t Systems in which the television signal is transmitted via one channel or a plurality of parallel channels, the bandwidth of each channel being less than the bandwidth of the television signal (H04N7/24 takes precedence)\n",
      "G06T9/00, 0.39:\t Image coding (bandwidth or redundancy reduction for static pictures H04N1/41;coding or decoding of static colour picture signals H04N1/41;methods or arrangements for coding, decoding, compressing or decompressing digital video signals H04N1/41)\n",
      "H04N19/46, 0.36:\t Embedding additional information in the video signal during the compression process (H04N19/517, H04N19/517, H04N19/517 take precedence)\n",
      "H04N19/196, 0.36:\t being specially adapted for the computation of encoding parameters, e.g. by averaging previously computed encoding parameters (processing of motion vectors H04N19/513)\n",
      "H04N19/60, 0.36:\t using transform coding\n",
      "H04N19/625, 0.36:\t using discrete cosine transform [DCT]\n"
     ]
    }
   ],
   "source": [
    "print_common_ipc(document_cluster, threshold=0.33)"
   ]
  },
  {
   "cell_type": "markdown",
   "metadata": {},
   "source": [
    "## IPC distribution"
   ]
  },
  {
   "cell_type": "code",
   "execution_count": 28,
   "metadata": {},
   "outputs": [
    {
     "name": "stderr",
     "output_type": "stream",
     "text": [
      "<ipython-input-8-132313c9d6f4>:23: UserWarning: FixedFormatter should only be used together with FixedLocator\n",
      "  ax.set_xticklabels(ax.get_xticks(), rotation = 45)\n"
     ]
    },
    {
     "data": {
      "image/png": "[encoded data removed]",
      "text/plain": [
       "<Figure size 1800x432 with 1 Axes>"
      ]
     },
     "metadata": {},
     "output_type": "display_data"
    }
   ],
   "source": [
    "plot_ipc_dist(df.loc[doc_idxs_from_all_doc_clusters[0][0]], threshold=0.0, sort=False)"
   ]
  },
  {
   "cell_type": "code",
   "execution_count": 29,
   "metadata": {},
   "outputs": [
    {
     "name": "stderr",
     "output_type": "stream",
     "text": [
      "<ipython-input-8-132313c9d6f4>:23: UserWarning: FixedFormatter should only be used together with FixedLocator\n",
      "  ax.set_xticklabels(ax.get_xticks(), rotation = 45)\n"
     ]
    },
    {
     "data": {
      "image/png": "[encoded data removed]",
      "text/plain": [
       "<Figure size 1800x432 with 1 Axes>"
      ]
     },
     "metadata": {},
     "output_type": "display_data"
    }
   ],
   "source": [
    "plot_ipc_dist(df.loc[doc_idxs_from_all_doc_clusters[0][1]],threshold=0.0, sort=False)"
   ]
  },
  {
   "cell_type": "code",
   "execution_count": 30,
   "metadata": {},
   "outputs": [
    {
     "name": "stderr",
     "output_type": "stream",
     "text": [
      "<ipython-input-8-132313c9d6f4>:23: UserWarning: FixedFormatter should only be used together with FixedLocator\n",
      "  ax.set_xticklabels(ax.get_xticks(), rotation = 45)\n"
     ]
    },
    {
     "data": {
      "image/png": "[encoded data removed]",
      "text/plain": [
       "<Figure size 1800x432 with 1 Axes>"
      ]
     },
     "metadata": {},
     "output_type": "display_data"
    }
   ],
   "source": [
    "plot_ipc_dist(df.loc[np.hstack(doc_idxs_from_all_doc_clusters[doc_cluster_idx])], threshold=0.0, sort=False)"
   ]
  },
  {
   "cell_type": "code",
   "execution_count": 31,
   "metadata": {},
   "outputs": [
    {
     "name": "stderr",
     "output_type": "stream",
     "text": [
      "<ipython-input-8-132313c9d6f4>:23: UserWarning: FixedFormatter should only be used together with FixedLocator\n",
      "  ax.set_xticklabels(ax.get_xticks(), rotation = 45)\n"
     ]
    },
    {
     "data": {
      "image/png": "[encoded data removed]",
      "text/plain": [
       "<Figure size 1800x432 with 1 Axes>"
      ]
     },
     "metadata": {},
     "output_type": "display_data"
    }
   ],
   "source": [
    "plot_ipc_dist(grouped.get_group(0), threshold=0.0, sort=False)"
   ]
  },
  {
   "cell_type": "code",
   "execution_count": 32,
   "metadata": {},
   "outputs": [
    {
     "data": {
      "text/plain": [
       "(array(['G06K9/36', 'G06T9/00', 'H04N11/02', 'H04N11/04', 'H04N19/103',\n",
       "        'H04N19/105', 'H04N19/107', 'H04N19/109', 'H04N19/11',\n",
       "        'H04N19/119', 'H04N19/124', 'H04N19/136', 'H04N19/139',\n",
       "        'H04N19/146', 'H04N19/147', 'H04N19/157', 'H04N19/159',\n",
       "        'H04N19/17', 'H04N19/172', 'H04N19/174', 'H04N19/176',\n",
       "        'H04N19/177', 'H04N19/33', 'H04N19/44', 'H04N19/46', 'H04N19/467',\n",
       "        'H04N19/503', 'H04N19/51', 'H04N19/513', 'H04N19/517', 'H04N19/52',\n",
       "        'H04N19/56', 'H04N19/573', 'H04N19/577', 'H04N19/58', 'H04N19/583',\n",
       "        'H04N19/593', 'H04N19/61', 'H04N19/70', 'H04N19/94', 'H04N19/96',\n",
       "        'H04N7/12'], dtype='<U10'),\n",
       " array([0.08, 0.08, 0.08, 0.08, 0.31, 0.23, 0.15, 0.15, 0.31, 0.15, 0.08,\n",
       "        0.15, 0.08, 0.15, 0.08, 0.15, 0.15, 0.15, 0.23, 0.15, 0.38, 0.15,\n",
       "        0.08, 0.08, 0.08, 0.15, 0.23, 0.54, 0.23, 0.08, 0.62, 0.23, 0.15,\n",
       "        0.15, 0.08, 0.08, 0.31, 0.54, 0.23, 0.08, 0.08, 0.54]))"
      ]
     },
     "execution_count": 32,
     "metadata": {},
     "output_type": "execute_result"
    }
   ],
   "source": [
    "get_common_ipc(df.loc[doc_idxs_from_all_doc_clusters[0][0]], threshold=0.0, sort=False)"
   ]
  },
  {
   "cell_type": "code",
   "execution_count": 33,
   "metadata": {},
   "outputs": [
    {
     "data": {
      "text/plain": [
       "(array(['H03M7/36', 'H04B1/66', 'H04N11/02', 'H04N11/04', 'H04N19/105',\n",
       "        'H04N19/107', 'H04N19/11', 'H04N19/119', 'H04N19/124',\n",
       "        'H04N19/134', 'H04N19/139', 'H04N19/172', 'H04N19/176',\n",
       "        'H04N19/189', 'H04N19/196', 'H04N19/423', 'H04N19/44', 'H04N19/46',\n",
       "        'H04N19/463', 'H04N19/50', 'H04N19/503', 'H04N19/51', 'H04N19/513',\n",
       "        'H04N19/517', 'H04N19/52', 'H04N19/523', 'H04N19/56', 'H04N19/567',\n",
       "        'H04N19/573', 'H04N19/577', 'H04N19/593', 'H04N19/61', 'H04N19/70',\n",
       "        'H04N7/12'], dtype='<U10'),\n",
       " array([0.27, 0.27, 0.36, 0.36, 0.45, 0.09, 0.18, 0.09, 0.27, 0.27, 0.27,\n",
       "        0.09, 0.36, 0.27, 0.27, 0.27, 0.09, 0.64, 0.27, 0.27, 0.36, 0.45,\n",
       "        0.55, 0.09, 1.  , 0.27, 0.18, 0.18, 0.27, 0.45, 0.09, 0.45, 0.27,\n",
       "        0.55]))"
      ]
     },
     "execution_count": 33,
     "metadata": {},
     "output_type": "execute_result"
    }
   ],
   "source": [
    "get_common_ipc(df.loc[doc_idxs_from_all_doc_clusters[0][1]],threshold=0.0, sort=False)"
   ]
  },
  {
   "cell_type": "code",
   "execution_count": 34,
   "metadata": {},
   "outputs": [
    {
     "data": {
      "text/plain": [
       "array(['G06K9/36', 'G06T9/00', 'H03M7/36', 'H04B1/66', 'H04N11/02',\n",
       "       'H04N11/04', 'H04N19/103', 'H04N19/105', 'H04N19/107',\n",
       "       'H04N19/109', 'H04N19/11', 'H04N19/119', 'H04N19/124',\n",
       "       'H04N19/134', 'H04N19/136', 'H04N19/139', 'H04N19/146',\n",
       "       'H04N19/147', 'H04N19/157', 'H04N19/159', 'H04N19/17',\n",
       "       'H04N19/172', 'H04N19/174', 'H04N19/176', 'H04N19/177',\n",
       "       'H04N19/189', 'H04N19/196', 'H04N19/33', 'H04N19/423', 'H04N19/44',\n",
       "       'H04N19/46', 'H04N19/463', 'H04N19/467', 'H04N19/50', 'H04N19/503',\n",
       "       'H04N19/51', 'H04N19/513', 'H04N19/517', 'H04N19/52', 'H04N19/523',\n",
       "       'H04N19/56', 'H04N19/567', 'H04N19/573', 'H04N19/577', 'H04N19/58',\n",
       "       'H04N19/583', 'H04N19/593', 'H04N19/61', 'H04N19/70', 'H04N19/94',\n",
       "       'H04N19/96', 'H04N7/12'], dtype='<U10')"
      ]
     },
     "execution_count": 34,
     "metadata": {},
     "output_type": "execute_result"
    }
   ],
   "source": [
    "get_common_ipc(df.loc[np.hstack(doc_idxs_from_all_doc_clusters[doc_cluster_idx])], threshold=0.0, sort=False)[0]"
   ]
  },
  {
   "cell_type": "code",
   "execution_count": 35,
   "metadata": {},
   "outputs": [
    {
     "data": {
      "text/plain": [
       "array(['G06K9/36', 'G06T9/00', 'H03M7/36', 'H04B1/66', 'H04N11/02',\n",
       "       'H04N11/04', 'H04N19/103', 'H04N19/105', 'H04N19/107',\n",
       "       'H04N19/109', 'H04N19/11', 'H04N19/119', 'H04N19/124',\n",
       "       'H04N19/134', 'H04N19/136', 'H04N19/139', 'H04N19/146',\n",
       "       'H04N19/147', 'H04N19/157', 'H04N19/159', 'H04N19/17',\n",
       "       'H04N19/172', 'H04N19/174', 'H04N19/176', 'H04N19/177',\n",
       "       'H04N19/189', 'H04N19/196', 'H04N19/33', 'H04N19/423', 'H04N19/44',\n",
       "       'H04N19/46', 'H04N19/463', 'H04N19/467', 'H04N19/50', 'H04N19/503',\n",
       "       'H04N19/51', 'H04N19/513', 'H04N19/517', 'H04N19/52', 'H04N19/523',\n",
       "       'H04N19/56', 'H04N19/567', 'H04N19/57', 'H04N19/573', 'H04N19/577',\n",
       "       'H04N19/58', 'H04N19/583', 'H04N19/593', 'H04N19/61', 'H04N19/70',\n",
       "       'H04N19/94', 'H04N19/96', 'H04N7/12'], dtype='<U10')"
      ]
     },
     "execution_count": 35,
     "metadata": {},
     "output_type": "execute_result"
    }
   ],
   "source": [
    "get_common_ipc(grouped.get_group(0), threshold=0.0, sort=False)[0]"
   ]
  },
  {
   "cell_type": "markdown",
   "metadata": {},
   "source": [
    "### Comparison of IPC codes for document cluster 1, before and after sentence filtration"
   ]
  },
  {
   "cell_type": "code",
   "execution_count": 36,
   "metadata": {},
   "outputs": [
    {
     "data": {
      "text/plain": [
       "['H04N19/57']"
      ]
     },
     "execution_count": 36,
     "metadata": {},
     "output_type": "execute_result"
    }
   ],
   "source": [
    "complement(get_common_ipc(grouped.get_group(0), threshold=0.0, sort=False)[0].tolist(), get_common_ipc(df.loc[np.hstack(doc_idxs_from_all_doc_clusters[doc_cluster_idx])], threshold=0.0, sort=False)[0].tolist())"
   ]
  },
  {
   "cell_type": "code",
   "execution_count": 37,
   "metadata": {},
   "outputs": [
    {
     "data": {
      "text/plain": [
       "[42]"
      ]
     },
     "execution_count": 37,
     "metadata": {},
     "output_type": "execute_result"
    }
   ],
   "source": [
    "[i for i, val in enumerate(get_common_ipc(grouped.get_group(0), threshold=0.0, sort=False)[0].tolist()) if val == 'H04N19/57']"
   ]
  },
  {
   "cell_type": "code",
   "execution_count": 38,
   "metadata": {},
   "outputs": [],
   "source": [
    "codes = get_common_ipc(grouped.get_group(0), threshold=0.0, sort=False)[0].tolist()\n",
    "share = get_common_ipc(grouped.get_group(0), threshold=0.0, sort=False)[1].tolist()\n",
    "del codes[42], share[42]"
   ]
  },
  {
   "cell_type": "code",
   "execution_count": 39,
   "metadata": {},
   "outputs": [
    {
     "data": {
      "text/plain": [
       "array([ 0.02,  0.02, -0.06, -0.06, -0.09, -0.09,  0.01, -0.04,  0.  ,\n",
       "       -0.02, -0.07,  0.  , -0.05, -0.06, -0.02, -0.05, -0.02,  0.02,\n",
       "       -0.02, -0.02, -0.02, -0.05, -0.02, -0.09, -0.02, -0.06, -0.06,\n",
       "        0.02, -0.06, -0.02, -0.09, -0.06, -0.02, -0.06, -0.11, -0.03,\n",
       "       -0.09, -0.02, -0.03, -0.06,  0.03, -0.02, -0.03, -0.05,  0.02,\n",
       "        0.02, -0.03, -0.09, -0.07,  0.02,  0.02, -0.07])"
      ]
     },
     "execution_count": 39,
     "metadata": {},
     "output_type": "execute_result"
    }
   ],
   "source": [
    "(np.array(share) - np.array(get_common_ipc(df.loc[np.hstack(doc_idxs_from_all_doc_clusters[doc_cluster_idx])], threshold=0.0, sort=False)[1].tolist()))"
   ]
  },
  {
   "cell_type": "code",
   "execution_count": 40,
   "metadata": {},
   "outputs": [
    {
     "data": {
      "text/plain": [
       "-0.035"
      ]
     },
     "execution_count": 40,
     "metadata": {},
     "output_type": "execute_result"
    }
   ],
   "source": [
    "np.round(np.mean(np.sort(np.array(share) - np.array(get_common_ipc(df.loc[np.hstack(doc_idxs_from_all_doc_clusters[doc_cluster_idx])], threshold=0.0, sort=False)[1].tolist()))), 3)"
   ]
  },
  {
   "cell_type": "code",
   "execution_count": 41,
   "metadata": {},
   "outputs": [
    {
     "data": {
      "text/plain": [
       "0.037"
      ]
     },
     "execution_count": 41,
     "metadata": {},
     "output_type": "execute_result"
    }
   ],
   "source": [
    "np.round(np.std(np.sort(np.array(share) - np.array(get_common_ipc(df.loc[np.hstack(doc_idxs_from_all_doc_clusters[doc_cluster_idx])], threshold=0.0, sort=False)[1].tolist()))), 3)"
   ]
  },
  {
   "cell_type": "markdown",
   "metadata": {},
   "source": [
    "### Comparison of document cluster 01 with its first sentence cluster"
   ]
  },
  {
   "cell_type": "code",
   "execution_count": 42,
   "metadata": {},
   "outputs": [],
   "source": [
    "removed_codes = complement(get_common_ipc(df.loc[np.hstack(doc_idxs_from_all_doc_clusters[doc_cluster_idx])], threshold=0.0, sort=False)[0].tolist(), get_common_ipc(df.loc[doc_idxs_from_all_doc_clusters[0][0]], threshold=0.0, sort=False)[0].tolist()) \n",
    "to_remove = [i for i, val in enumerate(get_common_ipc(df.loc[np.hstack(doc_idxs_from_all_doc_clusters[doc_cluster_idx])], threshold=0.0, sort=False)[0].tolist()) if val in removed_codes][::-1]\n",
    "codes = get_common_ipc(df.loc[np.hstack(doc_idxs_from_all_doc_clusters[doc_cluster_idx])], threshold=0.0, sort=False)[0].tolist()\n",
    "share = get_common_ipc(df.loc[np.hstack(doc_idxs_from_all_doc_clusters[doc_cluster_idx])], threshold=0.0, sort=False)[1].tolist()\n",
    "for i in to_remove:\n",
    "    del codes[i], share[i]"
   ]
  },
  {
   "cell_type": "code",
   "execution_count": 43,
   "metadata": {},
   "outputs": [
    {
     "data": {
      "text/plain": [
       "['H03M7/36',\n",
       " 'H04B1/66',\n",
       " 'H04N19/134',\n",
       " 'H04N19/189',\n",
       " 'H04N19/196',\n",
       " 'H04N19/423',\n",
       " 'H04N19/463',\n",
       " 'H04N19/50',\n",
       " 'H04N19/523',\n",
       " 'H04N19/567']"
      ]
     },
     "execution_count": 43,
     "metadata": {},
     "output_type": "execute_result"
    }
   ],
   "source": [
    "removed_codes"
   ]
  },
  {
   "cell_type": "code",
   "execution_count": 44,
   "metadata": {},
   "outputs": [
    {
     "data": {
      "text/plain": [
       "array([-0.04, -0.04,  0.13,  0.13, -0.14,  0.1 , -0.03, -0.07, -0.06,\n",
       "       -0.03,  0.09, -0.07,  0.09, -0.07, -0.04, -0.07, -0.07, -0.07,\n",
       "       -0.06, -0.07,  0.  , -0.07, -0.04,  0.  ,  0.25, -0.07,  0.06,\n",
       "       -0.04,  0.15,  0.  ,  0.17, -0.02,  0.06,  0.14, -0.04, -0.04,\n",
       "       -0.1 , -0.04,  0.02, -0.04, -0.04,  0.  ])"
      ]
     },
     "execution_count": 44,
     "metadata": {},
     "output_type": "execute_result"
    }
   ],
   "source": [
    "differences = np.array(share) - get_common_ipc(df.loc[doc_idxs_from_all_doc_clusters[0][0]], threshold=0.0, sort=False)[1]\n",
    "differences"
   ]
  },
  {
   "cell_type": "code",
   "execution_count": 45,
   "metadata": {},
   "outputs": [
    {
     "data": {
      "text/plain": [
       "array([-0.14, -0.1 , -0.07, -0.07, -0.07, -0.07, -0.07, -0.07, -0.07,\n",
       "       -0.07, -0.07, -0.06, -0.06, -0.04, -0.04, -0.04, -0.04, -0.04,\n",
       "       -0.04, -0.04, -0.04, -0.04, -0.04, -0.03, -0.03, -0.02,  0.  ,\n",
       "        0.  ,  0.  ,  0.  ,  0.02,  0.06,  0.06,  0.09,  0.09,  0.1 ,\n",
       "        0.13,  0.13,  0.14,  0.15,  0.17,  0.25])"
      ]
     },
     "execution_count": 45,
     "metadata": {},
     "output_type": "execute_result"
    }
   ],
   "source": [
    "np.sort(differences)"
   ]
  },
  {
   "cell_type": "code",
   "execution_count": 46,
   "metadata": {},
   "outputs": [
    {
     "data": {
      "text/plain": [
       "array([ 0.13,  0.13, -0.14,  0.25,  0.15,  0.17,  0.14])"
      ]
     },
     "execution_count": 46,
     "metadata": {},
     "output_type": "execute_result"
    }
   ],
   "source": [
    "differences[np.abs(differences) > 0.1]"
   ]
  },
  {
   "cell_type": "code",
   "execution_count": 47,
   "metadata": {},
   "outputs": [
    {
     "data": {
      "text/plain": [
       "['H04N11/02',\n",
       " 'H04N11/04',\n",
       " 'H04N19/103',\n",
       " 'H04N19/46',\n",
       " 'H04N19/513',\n",
       " 'H04N19/52',\n",
       " 'H04N19/577']"
      ]
     },
     "execution_count": 47,
     "metadata": {},
     "output_type": "execute_result"
    }
   ],
   "source": [
    "[val for i, val in enumerate(codes) if (np.abs(differences) > 0.1)[i] == True]"
   ]
  },
  {
   "cell_type": "code",
   "execution_count": 48,
   "metadata": {},
   "outputs": [
    {
     "data": {
      "text/plain": [
       "-0.002"
      ]
     },
     "execution_count": 48,
     "metadata": {},
     "output_type": "execute_result"
    }
   ],
   "source": [
    "np.round(np.mean(differences), 3)"
   ]
  },
  {
   "cell_type": "code",
   "execution_count": 49,
   "metadata": {},
   "outputs": [
    {
     "data": {
      "text/plain": [
       "0.085"
      ]
     },
     "execution_count": 49,
     "metadata": {},
     "output_type": "execute_result"
    }
   ],
   "source": [
    "np.round(np.std(differences), 3)"
   ]
  },
  {
   "cell_type": "markdown",
   "metadata": {},
   "source": [
    "### Comparison of document cluster 01 with its second sentence cluster"
   ]
  },
  {
   "cell_type": "code",
   "execution_count": 50,
   "metadata": {},
   "outputs": [],
   "source": [
    "removed_codes = complement(get_common_ipc(df.loc[np.hstack(doc_idxs_from_all_doc_clusters[doc_cluster_idx])], threshold=0.0, sort=False)[0].tolist(), get_common_ipc(df.loc[doc_idxs_from_all_doc_clusters[0][1]], threshold=0.0, sort=False)[0].tolist()) \n",
    "to_remove = [i for i, val in enumerate(get_common_ipc(df.loc[np.hstack(doc_idxs_from_all_doc_clusters[doc_cluster_idx])], threshold=0.0, sort=False)[0].tolist()) if val in removed_codes][::-1]\n",
    "codes = get_common_ipc(df.loc[np.hstack(doc_idxs_from_all_doc_clusters[doc_cluster_idx])], threshold=0.0, sort=False)[0].tolist()\n",
    "share = get_common_ipc(df.loc[np.hstack(doc_idxs_from_all_doc_clusters[doc_cluster_idx])], threshold=0.0, sort=False)[1].tolist()\n",
    "for i in to_remove:\n",
    "    del codes[i], share[i]"
   ]
  },
  {
   "cell_type": "code",
   "execution_count": 51,
   "metadata": {},
   "outputs": [
    {
     "data": {
      "text/plain": [
       "18"
      ]
     },
     "execution_count": 51,
     "metadata": {},
     "output_type": "execute_result"
    }
   ],
   "source": [
    "len(removed_codes)"
   ]
  },
  {
   "cell_type": "code",
   "execution_count": 52,
   "metadata": {},
   "outputs": [
    {
     "data": {
      "text/plain": [
       "34"
      ]
     },
     "execution_count": 52,
     "metadata": {},
     "output_type": "execute_result"
    }
   ],
   "source": [
    "len(codes)"
   ]
  },
  {
   "cell_type": "code",
   "execution_count": 53,
   "metadata": {},
   "outputs": [
    {
     "data": {
      "text/plain": [
       "array([-0.15, -0.15, -0.15, -0.15, -0.12,  0.03,  0.07,  0.03, -0.1 ,\n",
       "       -0.15, -0.1 ,  0.08,  0.02, -0.15, -0.15, -0.15, -0.01, -0.31,\n",
       "       -0.15, -0.15, -0.07,  0.05, -0.17, -0.01, -0.21, -0.15,  0.03,\n",
       "       -0.1 , -0.06, -0.16,  0.12,  0.05, -0.02, -0.01])"
      ]
     },
     "execution_count": 53,
     "metadata": {},
     "output_type": "execute_result"
    }
   ],
   "source": [
    "differences = np.array(share) - get_common_ipc(df.loc[doc_idxs_from_all_doc_clusters[0][1]], threshold=0.0, sort=False)[1]\n",
    "differences"
   ]
  },
  {
   "cell_type": "code",
   "execution_count": 54,
   "metadata": {},
   "outputs": [
    {
     "data": {
      "text/plain": [
       "array([-0.31, -0.21, -0.17, -0.16, -0.15, -0.15, -0.15, -0.15, -0.15,\n",
       "       -0.15, -0.15, -0.15, -0.15, -0.15, -0.15, -0.12, -0.1 , -0.1 ,\n",
       "       -0.1 , -0.07, -0.06, -0.02, -0.01, -0.01, -0.01,  0.02,  0.03,\n",
       "        0.03,  0.03,  0.05,  0.05,  0.07,  0.08,  0.12])"
      ]
     },
     "execution_count": 54,
     "metadata": {},
     "output_type": "execute_result"
    }
   ],
   "source": [
    "np.sort(differences)"
   ]
  },
  {
   "cell_type": "code",
   "execution_count": 55,
   "metadata": {},
   "outputs": [
    {
     "data": {
      "text/plain": [
       "array([-0.15, -0.15, -0.15, -0.15, -0.12, -0.15, -0.15, -0.15, -0.15,\n",
       "       -0.31, -0.15, -0.15, -0.17, -0.21, -0.15, -0.16,  0.12])"
      ]
     },
     "execution_count": 55,
     "metadata": {},
     "output_type": "execute_result"
    }
   ],
   "source": [
    "differences[np.abs(differences) > 0.1]"
   ]
  },
  {
   "cell_type": "code",
   "execution_count": 56,
   "metadata": {},
   "outputs": [
    {
     "data": {
      "text/plain": [
       "['H03M7/36',\n",
       " 'H04B1/66',\n",
       " 'H04N11/02',\n",
       " 'H04N11/04',\n",
       " 'H04N19/105',\n",
       " 'H04N19/134',\n",
       " 'H04N19/189',\n",
       " 'H04N19/196',\n",
       " 'H04N19/423',\n",
       " 'H04N19/46',\n",
       " 'H04N19/463',\n",
       " 'H04N19/50',\n",
       " 'H04N19/513',\n",
       " 'H04N19/52',\n",
       " 'H04N19/523',\n",
       " 'H04N19/577',\n",
       " 'H04N19/593']"
      ]
     },
     "execution_count": 56,
     "metadata": {},
     "output_type": "execute_result"
    }
   ],
   "source": [
    "[val for i, val in enumerate(codes) if (np.abs(differences) > 0.1)[i] == True]"
   ]
  },
  {
   "cell_type": "code",
   "execution_count": 57,
   "metadata": {},
   "outputs": [
    {
     "data": {
      "text/plain": [
       "-0.077"
      ]
     },
     "execution_count": 57,
     "metadata": {},
     "output_type": "execute_result"
    }
   ],
   "source": [
    "np.round(np.mean(differences), 3)"
   ]
  },
  {
   "cell_type": "code",
   "execution_count": 58,
   "metadata": {},
   "outputs": [
    {
     "data": {
      "text/plain": [
       "0.098"
      ]
     },
     "execution_count": 58,
     "metadata": {},
     "output_type": "execute_result"
    }
   ],
   "source": [
    "np.round(np.std(differences), 3)"
   ]
  }
 ],
 "metadata": {
  "interpreter": {
   "hash": "5f1f4634a8703249e3b09704ef9f7cfb5dc67529cced6759ed0f0a6e08925072"
  },
  "kernelspec": {
   "display_name": "Python 3.9.6 64-bit ('pev2': conda)",
   "name": "python3"
  },
  "language_info": {
   "codemirror_mode": {
    "name": "ipython",
    "version": 3
   },
   "file_extension": ".py",
   "mimetype": "text/x-python",
   "name": "python",
   "nbconvert_exporter": "python",
   "pygments_lexer": "ipython3",
   "version": "3.9.6"
  },
  "orig_nbformat": 4
 },
 "nbformat": 4,
 "nbformat_minor": 2
}
