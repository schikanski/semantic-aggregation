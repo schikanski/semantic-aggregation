{
 "cells": [
  {
   "cell_type": "markdown",
   "source": [
    "# Text processing: cleaning up text and generating embeddings"
   ],
   "metadata": {}
  },
  {
   "cell_type": "code",
   "execution_count": 11,
   "source": [
    "#TODO: remove after development \n",
    "%load_ext autoreload\n",
    "%autoreload 2"
   ],
   "outputs": [
    {
     "output_type": "stream",
     "name": "stdout",
     "text": [
      "The autoreload extension is already loaded. To reload it, use:\n",
      "  %reload_ext autoreload\n"
     ]
    }
   ],
   "metadata": {}
  },
  {
   "cell_type": "code",
   "execution_count": 12,
   "source": [
    "%matplotlib inline"
   ],
   "outputs": [],
   "metadata": {}
  },
  {
   "cell_type": "code",
   "execution_count": 13,
   "source": [
    "import pandas as pd\n",
    "import numpy as np\n",
    "import seaborn as sns\n",
    "\n",
    "pd.set_option('display.max_columns', 5400)\n",
    "pd.set_option('max_colwidth', 60)"
   ],
   "outputs": [],
   "metadata": {}
  },
  {
   "cell_type": "markdown",
   "source": [
    "## Loading data"
   ],
   "metadata": {}
  },
  {
   "cell_type": "code",
   "execution_count": 14,
   "source": [
    "from fiz_lernmodule import data_reader\n",
    "\n",
    "# seed_name = 'hair_dryer'\n",
    "#seed_name = 'video_codec'\n",
    "#seed_name = 'diesel'\n",
    "seed_name = \"contact_lens\"\n",
    "#seed_name = \"contact_lens_us_c\"\n",
    "#seed_name = \"3d_printer\"\n",
    "\n",
    "src_dir = \".\"\n",
    "\n",
    "landscape_reader = data_reader.LandscapeDataReader(src_dir=src_dir)\n",
    "df = landscape_reader.load_data(seed_name=seed_name)\n",
    "\n",
    "df.index = df.index.astype(int)"
   ],
   "outputs": [
    {
     "output_type": "stream",
     "name": "stdout",
     "text": [
      "Loading data from ./data/contact_lens/landscape_data.pkl\n",
      "Finished loading.\n"
     ]
    }
   ],
   "metadata": {}
  },
  {
   "cell_type": "code",
   "execution_count": 15,
   "source": [
    "df.shape"
   ],
   "outputs": [
    {
     "output_type": "execute_result",
     "data": {
      "text/plain": [
       "(3304, 13)"
      ]
     },
     "metadata": {},
     "execution_count": 15
    }
   ],
   "metadata": {}
  },
  {
   "cell_type": "code",
   "execution_count": 16,
   "source": [
    "seed = df.loc[df['ExpansionLevel'] == 'Seed']\n",
    "\n",
    "seed.reset_index(inplace = True)\n",
    "seed.drop(columns = ['index'], inplace = True)\n",
    "\n",
    "seed.drop_duplicates([\"publication_number\"], inplace=True)\n",
    "\n",
    "print(seed.shape)\n",
    "seed"
   ],
   "outputs": [
    {
     "output_type": "stream",
     "name": "stdout",
     "text": [
      "(3299, 13)\n"
     ]
    },
    {
     "output_type": "execute_result",
     "data": {
      "text/plain": [
       "         pub_num publication_number country_code family_id  priority_date  \\\n",
       "0     2009020683   US-2009020683-A1           US  24924433       20001201   \n",
       "1        8985764      US-8985764-B2           US  44059294       20091117   \n",
       "2        5347674       US-5347674-A           US  22206014       19930709   \n",
       "3        5238843       US-5238843-A           US  23698565       19891027   \n",
       "4        8770747      US-8770747-B2           US  45496267       20101214   \n",
       "...          ...                ...          ...       ...            ...   \n",
       "3299    10139521     US-10139521-B2           US  58640923       20160420   \n",
       "3300     7572841      US-7572841-B2           US  38476986       20060615   \n",
       "3301  2014183767   US-2014183767-A1           US  38537905       20060615   \n",
       "3302     9625616      US-9625616-B2           US  50382476       20130315   \n",
       "3303  2014178327   US-2014178327-A1           US  49998570       20121221   \n",
       "\n",
       "                                                       title_text  \\\n",
       "0     High optical quality molds for use in contact lens produ...   \n",
       "1                                                    Contact lens   \n",
       "2                                Contact lens treatment apparatus   \n",
       "3     Method for cleaning a surface on which is bound a glycos...   \n",
       "4                                            Colored contact lens   \n",
       "...                                                           ...   \n",
       "3299            Silicone elastomer-hydrogel hybrid contact lenses   \n",
       "3300  Wettable silicone hydrogel contact lenses and related co...   \n",
       "3301  Wettable Silicone Hydrogel Contact Lenses And Related Co...   \n",
       "3302                             Silicone hydrogel contact lenses   \n",
       "3303                             Antimicrobial Ophthalmic Devices   \n",
       "\n",
       "                                                    abstract_text  \\\n",
       "0     The invention provides molds and mold inserts useful in ...   \n",
       "1     Provided is a contact lens of double thin type ensuring ...   \n",
       "2     A contact lens treatment apparatus for polishing and cle...   \n",
       "3     A method for cleaning a surface on which is bound a glyc...   \n",
       "4     A contact lens, comprising a preprint of a first shade a...   \n",
       "...                                                           ...   \n",
       "3299  A silicone elastomer-hydrogel hybrid contact lens includ...   \n",
       "3300  Silicone hydrogel contact lenses having ophthalmically a...   \n",
       "3301  Silicone hydrogel contact lenses having ophthalmically a...   \n",
       "3302  A method is provided for manufacturing ophthalmically-ac...   \n",
       "3303  Antimicrobial ophthalmic devices such as contact lenses,...   \n",
       "\n",
       "                                                      claims_text  \\\n",
       "0     1 . A mold insert, comprising at least one optically cri...   \n",
       "1     The invention claimed is: \\n     \\n       1. A contact l...   \n",
       "2     What is claimed as being new and desired to be protected...   \n",
       "3     What is claimed is: \\n     \\n       1. A method for rele...   \n",
       "4     What is claimed is: \\n     \\n       1. A colored contact...   \n",
       "...                                                           ...   \n",
       "3299  What is claimed is: \\n     \\n       1. A silicone elasto...   \n",
       "3300  1. A polymerizable silicone hydrogel contact lens precur...   \n",
       "3301  1 - 57 . (canceled) \\n     \\n     \\n         58 . A meth...   \n",
       "3302  What is claimed is: \\n     \\n       1. A method of manuf...   \n",
       "3303  We claim: \\n     \\n         1 . An unworn antimicrobial ...   \n",
       "\n",
       "                                                             refs  \\\n",
       "0     US-4327203-A,US-4703097-A,US-7422710-B2,US-5849811-A,US-...   \n",
       "1     JP-2007538288-A,US-2006203190-A1,US-5912719-A,JP-2005500...   \n",
       "2                     JP-H02123323-A,JP-S63187216-A,JP-S6421818-A   \n",
       "3     EP-0233721-A2,JP-S632911-A,US-4521254-A,JP-S4948825-A,US...   \n",
       "4     US-4720188-A,US-6834955-B2,US-4923480-A,WO-9946630-A1,EP...   \n",
       "...                                                           ...   \n",
       "3299  US-2015036100-A1,US-8979261-B2,US-9278489-B2,,US-2016274...   \n",
       "3300  ,US-6533415-B2,EP-0395583-B1,WO-9309154-A1,US-6849671-B2...   \n",
       "3301                      US-5387632-A,US-5965631-A,US-8552085-B2   \n",
       "3302  US-2008048350-A1,,US-2007138668-A1,US-2016003980-A1,US-2...   \n",
       "3303                                  US-6187264-B1,WO-9413774-A1   \n",
       "\n",
       "                                                             cpcs  \\\n",
       "0     Y10S425/808,Y10T428/31663,B29D11/00134,G02B1/043,Y10T428...   \n",
       "1                                                       G02C7/048   \n",
       "2                      B08B11/00,Y10S134/901,G02C13/008,B08B11/02   \n",
       "3     C11D3/38636,A61K8/4933,A61Q5/02,A61Q11/02,A61Q11/00,A61Q...   \n",
       "4                                              G02C7/046,G02C7/04   \n",
       "...                                                           ...   \n",
       "3299  B29D11/00134,B29D11/00067,B29K2083/00,C08L101/14,B29D11/...   \n",
       "3300                                          G02B1/043,C08L83/14   \n",
       "3301  B29K2039/06,G02B1/043,B29K2077/00,B29K2105/0061,B29D11/0...   \n",
       "3302                 G02B1/043,C08L83/06,B29D11/0025,B29D11/00192   \n",
       "3303  A01N33/12,G02C7/049,A61F9/00,G02C7/04,A61F9/0017,A61K9/0...   \n",
       "\n",
       "                                                             ipcs  \\\n",
       "0     B29C33/42,B29D11/00,B29L9/00,B28B7/28,B29C33/38,B29C45/0...   \n",
       "1                                                        G02C7/04   \n",
       "2                                   B08B11/02,B08B11/00,G02C13/00   \n",
       "3     A61Q17/04,A61K8/49,A61Q5/02,G02C13/00,A61Q15/00,C11D3/38...   \n",
       "4                                      G02C7/00,G02C7/04,G02C7/02   \n",
       "...                                                           ...   \n",
       "3299  B29D11/00,B29K83/00,G02C7/04,B29K105/00,B29K33/00,G02B1/...   \n",
       "3300                                C08G77/14,C08F290/06,G02C7/04   \n",
       "3301                                           G02B1/04,B29D11/00   \n",
       "3302                                 G02B1/04,C08L83/06,B29D11/00   \n",
       "3303                        A01N35/00,A01N33/12,G02B1/04,G02C7/04   \n",
       "\n",
       "                                             assignees_harmonized  \\\n",
       "0     STEFFEN ROBERT B,MATIACIO THOMAS A,WILDSMITH CHRISTOPHER...   \n",
       "1     SAKAI YUKIHISA,YAMAGUCHI HIROYUKI,MENICON CO LTD,HIBINO ...   \n",
       "2                                                   GABBERT CHUCK   \n",
       "3                                   GENENCOR INT,PROCTER & GAMBLE   \n",
       "4                    CORTI SANDRA,CREECH LAURA ASHLEY,NOVARTIS AG   \n",
       "...                                                           ...   \n",
       "3299                               COOPERVISION INT HOLDING CO LP   \n",
       "3300                               COOPERVISION INT HOLDING CO LP   \n",
       "3301                               COOPERVISION INT HOLDING CO LP   \n",
       "3302                               COOPERVISION INT HOLDING CO LP   \n",
       "3303                               COOPERVISION INT HOLDING CO LP   \n",
       "\n",
       "     ExpansionLevel  \n",
       "0              Seed  \n",
       "1              Seed  \n",
       "2              Seed  \n",
       "3              Seed  \n",
       "4              Seed  \n",
       "...             ...  \n",
       "3299           Seed  \n",
       "3300           Seed  \n",
       "3301           Seed  \n",
       "3302           Seed  \n",
       "3303           Seed  \n",
       "\n",
       "[3299 rows x 13 columns]"
      ],
      "text/html": [
       "<div>\n",
       "<style scoped>\n",
       "    .dataframe tbody tr th:only-of-type {\n",
       "        vertical-align: middle;\n",
       "    }\n",
       "\n",
       "    .dataframe tbody tr th {\n",
       "        vertical-align: top;\n",
       "    }\n",
       "\n",
       "    .dataframe thead th {\n",
       "        text-align: right;\n",
       "    }\n",
       "</style>\n",
       "<table border=\"1\" class=\"dataframe\">\n",
       "  <thead>\n",
       "    <tr style=\"text-align: right;\">\n",
       "      <th></th>\n",
       "      <th>pub_num</th>\n",
       "      <th>publication_number</th>\n",
       "      <th>country_code</th>\n",
       "      <th>family_id</th>\n",
       "      <th>priority_date</th>\n",
       "      <th>title_text</th>\n",
       "      <th>abstract_text</th>\n",
       "      <th>claims_text</th>\n",
       "      <th>refs</th>\n",
       "      <th>cpcs</th>\n",
       "      <th>ipcs</th>\n",
       "      <th>assignees_harmonized</th>\n",
       "      <th>ExpansionLevel</th>\n",
       "    </tr>\n",
       "  </thead>\n",
       "  <tbody>\n",
       "    <tr>\n",
       "      <th>0</th>\n",
       "      <td>2009020683</td>\n",
       "      <td>US-2009020683-A1</td>\n",
       "      <td>US</td>\n",
       "      <td>24924433</td>\n",
       "      <td>20001201</td>\n",
       "      <td>High optical quality molds for use in contact lens produ...</td>\n",
       "      <td>The invention provides molds and mold inserts useful in ...</td>\n",
       "      <td>1 . A mold insert, comprising at least one optically cri...</td>\n",
       "      <td>US-4327203-A,US-4703097-A,US-7422710-B2,US-5849811-A,US-...</td>\n",
       "      <td>Y10S425/808,Y10T428/31663,B29D11/00134,G02B1/043,Y10T428...</td>\n",
       "      <td>B29C33/42,B29D11/00,B29L9/00,B28B7/28,B29C33/38,B29C45/0...</td>\n",
       "      <td>STEFFEN ROBERT B,MATIACIO THOMAS A,WILDSMITH CHRISTOPHER...</td>\n",
       "      <td>Seed</td>\n",
       "    </tr>\n",
       "    <tr>\n",
       "      <th>1</th>\n",
       "      <td>8985764</td>\n",
       "      <td>US-8985764-B2</td>\n",
       "      <td>US</td>\n",
       "      <td>44059294</td>\n",
       "      <td>20091117</td>\n",
       "      <td>Contact lens</td>\n",
       "      <td>Provided is a contact lens of double thin type ensuring ...</td>\n",
       "      <td>The invention claimed is: \\n     \\n       1. A contact l...</td>\n",
       "      <td>JP-2007538288-A,US-2006203190-A1,US-5912719-A,JP-2005500...</td>\n",
       "      <td>G02C7/048</td>\n",
       "      <td>G02C7/04</td>\n",
       "      <td>SAKAI YUKIHISA,YAMAGUCHI HIROYUKI,MENICON CO LTD,HIBINO ...</td>\n",
       "      <td>Seed</td>\n",
       "    </tr>\n",
       "    <tr>\n",
       "      <th>2</th>\n",
       "      <td>5347674</td>\n",
       "      <td>US-5347674-A</td>\n",
       "      <td>US</td>\n",
       "      <td>22206014</td>\n",
       "      <td>19930709</td>\n",
       "      <td>Contact lens treatment apparatus</td>\n",
       "      <td>A contact lens treatment apparatus for polishing and cle...</td>\n",
       "      <td>What is claimed as being new and desired to be protected...</td>\n",
       "      <td>JP-H02123323-A,JP-S63187216-A,JP-S6421818-A</td>\n",
       "      <td>B08B11/00,Y10S134/901,G02C13/008,B08B11/02</td>\n",
       "      <td>B08B11/02,B08B11/00,G02C13/00</td>\n",
       "      <td>GABBERT CHUCK</td>\n",
       "      <td>Seed</td>\n",
       "    </tr>\n",
       "    <tr>\n",
       "      <th>3</th>\n",
       "      <td>5238843</td>\n",
       "      <td>US-5238843-A</td>\n",
       "      <td>US</td>\n",
       "      <td>23698565</td>\n",
       "      <td>19891027</td>\n",
       "      <td>Method for cleaning a surface on which is bound a glycos...</td>\n",
       "      <td>A method for cleaning a surface on which is bound a glyc...</td>\n",
       "      <td>What is claimed is: \\n     \\n       1. A method for rele...</td>\n",
       "      <td>EP-0233721-A2,JP-S632911-A,US-4521254-A,JP-S4948825-A,US...</td>\n",
       "      <td>C11D3/38636,A61K8/4933,A61Q5/02,A61Q11/02,A61Q11/00,A61Q...</td>\n",
       "      <td>A61Q17/04,A61K8/49,A61Q5/02,G02C13/00,A61Q15/00,C11D3/38...</td>\n",
       "      <td>GENENCOR INT,PROCTER &amp; GAMBLE</td>\n",
       "      <td>Seed</td>\n",
       "    </tr>\n",
       "    <tr>\n",
       "      <th>4</th>\n",
       "      <td>8770747</td>\n",
       "      <td>US-8770747-B2</td>\n",
       "      <td>US</td>\n",
       "      <td>45496267</td>\n",
       "      <td>20101214</td>\n",
       "      <td>Colored contact lens</td>\n",
       "      <td>A contact lens, comprising a preprint of a first shade a...</td>\n",
       "      <td>What is claimed is: \\n     \\n       1. A colored contact...</td>\n",
       "      <td>US-4720188-A,US-6834955-B2,US-4923480-A,WO-9946630-A1,EP...</td>\n",
       "      <td>G02C7/046,G02C7/04</td>\n",
       "      <td>G02C7/00,G02C7/04,G02C7/02</td>\n",
       "      <td>CORTI SANDRA,CREECH LAURA ASHLEY,NOVARTIS AG</td>\n",
       "      <td>Seed</td>\n",
       "    </tr>\n",
       "    <tr>\n",
       "      <th>...</th>\n",
       "      <td>...</td>\n",
       "      <td>...</td>\n",
       "      <td>...</td>\n",
       "      <td>...</td>\n",
       "      <td>...</td>\n",
       "      <td>...</td>\n",
       "      <td>...</td>\n",
       "      <td>...</td>\n",
       "      <td>...</td>\n",
       "      <td>...</td>\n",
       "      <td>...</td>\n",
       "      <td>...</td>\n",
       "      <td>...</td>\n",
       "    </tr>\n",
       "    <tr>\n",
       "      <th>3299</th>\n",
       "      <td>10139521</td>\n",
       "      <td>US-10139521-B2</td>\n",
       "      <td>US</td>\n",
       "      <td>58640923</td>\n",
       "      <td>20160420</td>\n",
       "      <td>Silicone elastomer-hydrogel hybrid contact lenses</td>\n",
       "      <td>A silicone elastomer-hydrogel hybrid contact lens includ...</td>\n",
       "      <td>What is claimed is: \\n     \\n       1. A silicone elasto...</td>\n",
       "      <td>US-2015036100-A1,US-8979261-B2,US-9278489-B2,,US-2016274...</td>\n",
       "      <td>B29D11/00134,B29D11/00067,B29K2083/00,C08L101/14,B29D11/...</td>\n",
       "      <td>B29D11/00,B29K83/00,G02C7/04,B29K105/00,B29K33/00,G02B1/...</td>\n",
       "      <td>COOPERVISION INT HOLDING CO LP</td>\n",
       "      <td>Seed</td>\n",
       "    </tr>\n",
       "    <tr>\n",
       "      <th>3300</th>\n",
       "      <td>7572841</td>\n",
       "      <td>US-7572841-B2</td>\n",
       "      <td>US</td>\n",
       "      <td>38476986</td>\n",
       "      <td>20060615</td>\n",
       "      <td>Wettable silicone hydrogel contact lenses and related co...</td>\n",
       "      <td>Silicone hydrogel contact lenses having ophthalmically a...</td>\n",
       "      <td>1. A polymerizable silicone hydrogel contact lens precur...</td>\n",
       "      <td>,US-6533415-B2,EP-0395583-B1,WO-9309154-A1,US-6849671-B2...</td>\n",
       "      <td>G02B1/043,C08L83/14</td>\n",
       "      <td>C08G77/14,C08F290/06,G02C7/04</td>\n",
       "      <td>COOPERVISION INT HOLDING CO LP</td>\n",
       "      <td>Seed</td>\n",
       "    </tr>\n",
       "    <tr>\n",
       "      <th>3301</th>\n",
       "      <td>2014183767</td>\n",
       "      <td>US-2014183767-A1</td>\n",
       "      <td>US</td>\n",
       "      <td>38537905</td>\n",
       "      <td>20060615</td>\n",
       "      <td>Wettable Silicone Hydrogel Contact Lenses And Related Co...</td>\n",
       "      <td>Silicone hydrogel contact lenses having ophthalmically a...</td>\n",
       "      <td>1 - 57 . (canceled) \\n     \\n     \\n         58 . A meth...</td>\n",
       "      <td>US-5387632-A,US-5965631-A,US-8552085-B2</td>\n",
       "      <td>B29K2039/06,G02B1/043,B29K2077/00,B29K2105/0061,B29D11/0...</td>\n",
       "      <td>G02B1/04,B29D11/00</td>\n",
       "      <td>COOPERVISION INT HOLDING CO LP</td>\n",
       "      <td>Seed</td>\n",
       "    </tr>\n",
       "    <tr>\n",
       "      <th>3302</th>\n",
       "      <td>9625616</td>\n",
       "      <td>US-9625616-B2</td>\n",
       "      <td>US</td>\n",
       "      <td>50382476</td>\n",
       "      <td>20130315</td>\n",
       "      <td>Silicone hydrogel contact lenses</td>\n",
       "      <td>A method is provided for manufacturing ophthalmically-ac...</td>\n",
       "      <td>What is claimed is: \\n     \\n       1. A method of manuf...</td>\n",
       "      <td>US-2008048350-A1,,US-2007138668-A1,US-2016003980-A1,US-2...</td>\n",
       "      <td>G02B1/043,C08L83/06,B29D11/0025,B29D11/00192</td>\n",
       "      <td>G02B1/04,C08L83/06,B29D11/00</td>\n",
       "      <td>COOPERVISION INT HOLDING CO LP</td>\n",
       "      <td>Seed</td>\n",
       "    </tr>\n",
       "    <tr>\n",
       "      <th>3303</th>\n",
       "      <td>2014178327</td>\n",
       "      <td>US-2014178327-A1</td>\n",
       "      <td>US</td>\n",
       "      <td>49998570</td>\n",
       "      <td>20121221</td>\n",
       "      <td>Antimicrobial Ophthalmic Devices</td>\n",
       "      <td>Antimicrobial ophthalmic devices such as contact lenses,...</td>\n",
       "      <td>We claim: \\n     \\n         1 . An unworn antimicrobial ...</td>\n",
       "      <td>US-6187264-B1,WO-9413774-A1</td>\n",
       "      <td>A01N33/12,G02C7/049,A61F9/00,G02C7/04,A61F9/0017,A61K9/0...</td>\n",
       "      <td>A01N35/00,A01N33/12,G02B1/04,G02C7/04</td>\n",
       "      <td>COOPERVISION INT HOLDING CO LP</td>\n",
       "      <td>Seed</td>\n",
       "    </tr>\n",
       "  </tbody>\n",
       "</table>\n",
       "<p>3299 rows × 13 columns</p>\n",
       "</div>"
      ]
     },
     "metadata": {},
     "execution_count": 16
    }
   ],
   "metadata": {}
  },
  {
   "cell_type": "markdown",
   "source": [
    "## Filtering data by year for contact lens dataset"
   ],
   "metadata": {}
  },
  {
   "cell_type": "code",
   "execution_count": 17,
   "source": [
    "from sklearn.model_selection import train_test_split\n",
    "\n",
    "#if seed_name == 'contact_lens':\n",
    "    #sample, rest = train_test_split(seed, train_size=0.33, random_state=42)\n",
    "    #seed = sample    \n",
    "    #print(seed.shape)"
   ],
   "outputs": [],
   "metadata": {}
  },
  {
   "cell_type": "code",
   "execution_count": 18,
   "source": [
    "seed[\"abstract_text\"]"
   ],
   "outputs": [
    {
     "output_type": "execute_result",
     "data": {
      "text/plain": [
       "0       The invention provides molds and mold inserts useful in ...\n",
       "1       Provided is a contact lens of double thin type ensuring ...\n",
       "2       A contact lens treatment apparatus for polishing and cle...\n",
       "3       A method for cleaning a surface on which is bound a glyc...\n",
       "4       A contact lens, comprising a preprint of a first shade a...\n",
       "                                   ...                             \n",
       "3299    A silicone elastomer-hydrogel hybrid contact lens includ...\n",
       "3300    Silicone hydrogel contact lenses having ophthalmically a...\n",
       "3301    Silicone hydrogel contact lenses having ophthalmically a...\n",
       "3302    A method is provided for manufacturing ophthalmically-ac...\n",
       "3303    Antimicrobial ophthalmic devices such as contact lenses,...\n",
       "Name: abstract_text, Length: 3299, dtype: object"
      ]
     },
     "metadata": {},
     "execution_count": 18
    }
   ],
   "metadata": {}
  },
  {
   "cell_type": "markdown",
   "source": [
    "## Tokenizing and removing stopwords"
   ],
   "metadata": {}
  },
  {
   "cell_type": "code",
   "execution_count": 19,
   "source": [
    "import re\n",
    "\n",
    "seed[\"text_prep\"] = seed[\"title_text\"].str.cat(seed[[\"abstract_text\"]], sep=\" \")\n",
    "\n",
    "if \"claims_text\" in seed.columns:\n",
    "    seed[\"claims_text\"] = seed[\"claims_text\"].astype('str')\n",
    "    seed[\"text_prep\"] = seed[\"text_prep\"].str.cat(seed[[\"claims_text\"]], sep=\" \")\n",
    "\n",
    "if \"description_text\" in seed.columns:\n",
    "    seed[\"text_prep\"] = seed[\"text_prep\"].str.cat(seed[[\"description_text\"]], sep=\" \")\n",
    "\n",
    "# Schiran: To reformat the text a little bit.\n",
    "seed[\"text_prep\"] = seed[\"text_prep\"].apply(lambda x: re.sub('[ |\\n]+', ' ', x))\n",
    "seed[\"text_prep\"] = seed[\"text_prep\"].apply(lambda x: re.sub('( \\,)', ',', x))\n",
    "seed[\"text_prep\"] = seed[\"text_prep\"].apply(lambda x: re.sub('( \\.)', '.', x))"
   ],
   "outputs": [],
   "metadata": {}
  },
  {
   "cell_type": "code",
   "execution_count": 10,
   "source": [
    "seed[\"text_prep\"][0]"
   ],
   "outputs": [
    {
     "output_type": "execute_result",
     "data": {
      "text/plain": [
       "'High optical quality molds for use in contact lens production The invention provides molds and mold inserts useful in the production of contact lenses. In particular, the invention provides high optical quality molds and inserts useful for manufacturing silicone hydrogel contact lenses. 1. A mold insert, comprising at least one optically critical surface, wherein periodic structures on the optically critical surface are of a periodicity of less than about 3 μm and an amplitude of less than about 4 nm RMS. 2. The mold insert of claim 1, wherein the insert further comprises pure steel, brass, copper, nickel-plated substrates, chromium, cobalt-nickel, alloyed martensitic steel, or combinations thereof. 3. The mold insert of claim 1, wherein the insert further comprises nickel-plated copper or nickel-plated brass. 4. A mold half for use in molding a contact lens, comprising at least one molding surface, wherein periodic structures on the molding surface are of a periodicity of less than about 3 μm and an amplitude of less than about 4 nm RMS. 5. The mold half of claim 4, wherein the mold half further comprises polypropylene, polystyrene, and cyclic polyolefins, polyacrylonitrile materials, or combinations thereof. 6 - 19. (canceled)'"
      ]
     },
     "metadata": {},
     "execution_count": 10
    }
   ],
   "metadata": {}
  },
  {
   "cell_type": "code",
   "execution_count": 20,
   "source": [
    "seed[\"text_prep\"][0]"
   ],
   "outputs": [
    {
     "output_type": "execute_result",
     "data": {
      "text/plain": [
       "'High optical quality molds for use in contact lens production The invention provides molds and mold inserts useful in the production of contact lenses. In particular, the invention provides high optical quality molds and inserts useful for manufacturing silicone hydrogel contact lenses. 1 . A mold insert, comprising at least one optically critical surface, wherein periodic structures on the optically critical surface are of a periodicity of less than about 3 μm and an amplitude of less than about 4 nm RMS. \\n   \\n   \\n       2 . The mold insert of  claim 1 , wherein the insert further comprises pure steel, brass, copper, nickel-plated substrates, chromium, cobalt-nickel, alloyed martensitic steel, or combinations thereof. \\n   \\n   \\n       3 . The mold insert of  claim 1 , wherein the insert further comprises nickel-plated copper or nickel-plated brass. \\n   \\n   \\n       4 . A mold half for use in molding a contact lens, comprising at least one molding surface, wherein periodic structures on the molding surface are of a periodicity of less than about 3 μm and an amplitude of less than about 4 nm RMS. \\n   \\n   \\n       5 . The mold half of  claim 4 , wherein the mold half further comprises polypropylene, polystyrene, and cyclic polyolefins, polyacrylonitrile materials, or combinations thereof. \\n   \\n   \\n       6 - 19 . (canceled)'"
      ]
     },
     "metadata": {},
     "execution_count": 20
    }
   ],
   "metadata": {}
  },
  {
   "cell_type": "code",
   "execution_count": 11,
   "source": [
    "from fiz_lernmodule.preprocessing import PreProcessor\n",
    "\n",
    "pre = PreProcessor()\n",
    "\n",
    "seed['tokens'] = seed['text_prep'].map(lambda t: pre.preprocess_text(t, remove_short_long = True))\n",
    "seed.head()"
   ],
   "outputs": [
    {
     "output_type": "stream",
     "name": "stderr",
     "text": [
      "[nltk_data] Downloading package stopwords to\n",
      "[nltk_data]     /home/schikanski/nltk_data...\n",
      "[nltk_data]   Package stopwords is already up-to-date!\n"
     ]
    },
    {
     "output_type": "execute_result",
     "data": {
      "text/plain": [
       "      pub_num publication_number country_code family_id  priority_date  \\\n",
       "0  2009020683   US-2009020683-A1           US  24924433       20001201   \n",
       "1     8985764      US-8985764-B2           US  44059294       20091117   \n",
       "2     5347674       US-5347674-A           US  22206014       19930709   \n",
       "3     5238843       US-5238843-A           US  23698565       19891027   \n",
       "4     8770747      US-8770747-B2           US  45496267       20101214   \n",
       "\n",
       "                                                    title_text  \\\n",
       "0  High optical quality molds for use in contact lens produ...   \n",
       "1                                                 Contact lens   \n",
       "2                             Contact lens treatment apparatus   \n",
       "3  Method for cleaning a surface on which is bound a glycos...   \n",
       "4                                         Colored contact lens   \n",
       "\n",
       "                                                 abstract_text  \\\n",
       "0  The invention provides molds and mold inserts useful in ...   \n",
       "1  Provided is a contact lens of double thin type ensuring ...   \n",
       "2  A contact lens treatment apparatus for polishing and cle...   \n",
       "3  A method for cleaning a surface on which is bound a glyc...   \n",
       "4  A contact lens, comprising a preprint of a first shade a...   \n",
       "\n",
       "                                                   claims_text  \\\n",
       "0  1 . A mold insert, comprising at least one optically cri...   \n",
       "1  The invention claimed is: \\n     \\n       1. A contact l...   \n",
       "2  What is claimed as being new and desired to be protected...   \n",
       "3  What is claimed is: \\n     \\n       1. A method for rele...   \n",
       "4  What is claimed is: \\n     \\n       1. A colored contact...   \n",
       "\n",
       "                                                          refs  \\\n",
       "0  US-4327203-A,US-4703097-A,US-7422710-B2,US-5849811-A,US-...   \n",
       "1  JP-2007538288-A,US-2006203190-A1,US-5912719-A,JP-2005500...   \n",
       "2                  JP-H02123323-A,JP-S63187216-A,JP-S6421818-A   \n",
       "3  EP-0233721-A2,JP-S632911-A,US-4521254-A,JP-S4948825-A,US...   \n",
       "4  US-4720188-A,US-6834955-B2,US-4923480-A,WO-9946630-A1,EP...   \n",
       "\n",
       "                                                          cpcs  \\\n",
       "0  Y10S425/808,Y10T428/31663,B29D11/00134,G02B1/043,Y10T428...   \n",
       "1                                                    G02C7/048   \n",
       "2                   B08B11/00,Y10S134/901,G02C13/008,B08B11/02   \n",
       "3  C11D3/38636,A61K8/4933,A61Q5/02,A61Q11/02,A61Q11/00,A61Q...   \n",
       "4                                           G02C7/046,G02C7/04   \n",
       "\n",
       "                                                          ipcs  \\\n",
       "0  B29C33/42,B29D11/00,B29L9/00,B28B7/28,B29C33/38,B29C45/0...   \n",
       "1                                                     G02C7/04   \n",
       "2                                B08B11/02,B08B11/00,G02C13/00   \n",
       "3  A61Q17/04,A61K8/49,A61Q5/02,G02C13/00,A61Q15/00,C11D3/38...   \n",
       "4                                   G02C7/00,G02C7/04,G02C7/02   \n",
       "\n",
       "                                          assignees_harmonized ExpansionLevel  \\\n",
       "0  STEFFEN ROBERT B,MATIACIO THOMAS A,WILDSMITH CHRISTOPHER...           Seed   \n",
       "1  SAKAI YUKIHISA,YAMAGUCHI HIROYUKI,MENICON CO LTD,HIBINO ...           Seed   \n",
       "2                                                GABBERT CHUCK           Seed   \n",
       "3                                GENENCOR INT,PROCTER & GAMBLE           Seed   \n",
       "4                 CORTI SANDRA,CREECH LAURA ASHLEY,NOVARTIS AG           Seed   \n",
       "\n",
       "                                                     text_prep  \\\n",
       "0  High optical quality molds for use in contact lens produ...   \n",
       "1  Contact lens Provided is a contact lens of double thin t...   \n",
       "2  Contact lens treatment apparatus A contact lens treatmen...   \n",
       "3  Method for cleaning a surface on which is bound a glycos...   \n",
       "4  Colored contact lens A contact lens, comprising a prepri...   \n",
       "\n",
       "                                                        tokens  \n",
       "0  [high, optical, quality, molds, contact, lens, productio...  \n",
       "1  [contact, lens, provided, contact, lens, double, thin, t...  \n",
       "2  [contact, lens, treatment, apparatus, contact, lens, tre...  \n",
       "3  [cleaning, surface, bound, glycoside, containing, substa...  \n",
       "4  [colored, contact, lens, contact, lens, comprising, prep...  "
      ],
      "text/html": [
       "<div>\n",
       "<style scoped>\n",
       "    .dataframe tbody tr th:only-of-type {\n",
       "        vertical-align: middle;\n",
       "    }\n",
       "\n",
       "    .dataframe tbody tr th {\n",
       "        vertical-align: top;\n",
       "    }\n",
       "\n",
       "    .dataframe thead th {\n",
       "        text-align: right;\n",
       "    }\n",
       "</style>\n",
       "<table border=\"1\" class=\"dataframe\">\n",
       "  <thead>\n",
       "    <tr style=\"text-align: right;\">\n",
       "      <th></th>\n",
       "      <th>pub_num</th>\n",
       "      <th>publication_number</th>\n",
       "      <th>country_code</th>\n",
       "      <th>family_id</th>\n",
       "      <th>priority_date</th>\n",
       "      <th>title_text</th>\n",
       "      <th>abstract_text</th>\n",
       "      <th>claims_text</th>\n",
       "      <th>refs</th>\n",
       "      <th>cpcs</th>\n",
       "      <th>ipcs</th>\n",
       "      <th>assignees_harmonized</th>\n",
       "      <th>ExpansionLevel</th>\n",
       "      <th>text_prep</th>\n",
       "      <th>tokens</th>\n",
       "    </tr>\n",
       "  </thead>\n",
       "  <tbody>\n",
       "    <tr>\n",
       "      <th>0</th>\n",
       "      <td>2009020683</td>\n",
       "      <td>US-2009020683-A1</td>\n",
       "      <td>US</td>\n",
       "      <td>24924433</td>\n",
       "      <td>20001201</td>\n",
       "      <td>High optical quality molds for use in contact lens produ...</td>\n",
       "      <td>The invention provides molds and mold inserts useful in ...</td>\n",
       "      <td>1 . A mold insert, comprising at least one optically cri...</td>\n",
       "      <td>US-4327203-A,US-4703097-A,US-7422710-B2,US-5849811-A,US-...</td>\n",
       "      <td>Y10S425/808,Y10T428/31663,B29D11/00134,G02B1/043,Y10T428...</td>\n",
       "      <td>B29C33/42,B29D11/00,B29L9/00,B28B7/28,B29C33/38,B29C45/0...</td>\n",
       "      <td>STEFFEN ROBERT B,MATIACIO THOMAS A,WILDSMITH CHRISTOPHER...</td>\n",
       "      <td>Seed</td>\n",
       "      <td>High optical quality molds for use in contact lens produ...</td>\n",
       "      <td>[high, optical, quality, molds, contact, lens, productio...</td>\n",
       "    </tr>\n",
       "    <tr>\n",
       "      <th>1</th>\n",
       "      <td>8985764</td>\n",
       "      <td>US-8985764-B2</td>\n",
       "      <td>US</td>\n",
       "      <td>44059294</td>\n",
       "      <td>20091117</td>\n",
       "      <td>Contact lens</td>\n",
       "      <td>Provided is a contact lens of double thin type ensuring ...</td>\n",
       "      <td>The invention claimed is: \\n     \\n       1. A contact l...</td>\n",
       "      <td>JP-2007538288-A,US-2006203190-A1,US-5912719-A,JP-2005500...</td>\n",
       "      <td>G02C7/048</td>\n",
       "      <td>G02C7/04</td>\n",
       "      <td>SAKAI YUKIHISA,YAMAGUCHI HIROYUKI,MENICON CO LTD,HIBINO ...</td>\n",
       "      <td>Seed</td>\n",
       "      <td>Contact lens Provided is a contact lens of double thin t...</td>\n",
       "      <td>[contact, lens, provided, contact, lens, double, thin, t...</td>\n",
       "    </tr>\n",
       "    <tr>\n",
       "      <th>2</th>\n",
       "      <td>5347674</td>\n",
       "      <td>US-5347674-A</td>\n",
       "      <td>US</td>\n",
       "      <td>22206014</td>\n",
       "      <td>19930709</td>\n",
       "      <td>Contact lens treatment apparatus</td>\n",
       "      <td>A contact lens treatment apparatus for polishing and cle...</td>\n",
       "      <td>What is claimed as being new and desired to be protected...</td>\n",
       "      <td>JP-H02123323-A,JP-S63187216-A,JP-S6421818-A</td>\n",
       "      <td>B08B11/00,Y10S134/901,G02C13/008,B08B11/02</td>\n",
       "      <td>B08B11/02,B08B11/00,G02C13/00</td>\n",
       "      <td>GABBERT CHUCK</td>\n",
       "      <td>Seed</td>\n",
       "      <td>Contact lens treatment apparatus A contact lens treatmen...</td>\n",
       "      <td>[contact, lens, treatment, apparatus, contact, lens, tre...</td>\n",
       "    </tr>\n",
       "    <tr>\n",
       "      <th>3</th>\n",
       "      <td>5238843</td>\n",
       "      <td>US-5238843-A</td>\n",
       "      <td>US</td>\n",
       "      <td>23698565</td>\n",
       "      <td>19891027</td>\n",
       "      <td>Method for cleaning a surface on which is bound a glycos...</td>\n",
       "      <td>A method for cleaning a surface on which is bound a glyc...</td>\n",
       "      <td>What is claimed is: \\n     \\n       1. A method for rele...</td>\n",
       "      <td>EP-0233721-A2,JP-S632911-A,US-4521254-A,JP-S4948825-A,US...</td>\n",
       "      <td>C11D3/38636,A61K8/4933,A61Q5/02,A61Q11/02,A61Q11/00,A61Q...</td>\n",
       "      <td>A61Q17/04,A61K8/49,A61Q5/02,G02C13/00,A61Q15/00,C11D3/38...</td>\n",
       "      <td>GENENCOR INT,PROCTER &amp; GAMBLE</td>\n",
       "      <td>Seed</td>\n",
       "      <td>Method for cleaning a surface on which is bound a glycos...</td>\n",
       "      <td>[cleaning, surface, bound, glycoside, containing, substa...</td>\n",
       "    </tr>\n",
       "    <tr>\n",
       "      <th>4</th>\n",
       "      <td>8770747</td>\n",
       "      <td>US-8770747-B2</td>\n",
       "      <td>US</td>\n",
       "      <td>45496267</td>\n",
       "      <td>20101214</td>\n",
       "      <td>Colored contact lens</td>\n",
       "      <td>A contact lens, comprising a preprint of a first shade a...</td>\n",
       "      <td>What is claimed is: \\n     \\n       1. A colored contact...</td>\n",
       "      <td>US-4720188-A,US-6834955-B2,US-4923480-A,WO-9946630-A1,EP...</td>\n",
       "      <td>G02C7/046,G02C7/04</td>\n",
       "      <td>G02C7/00,G02C7/04,G02C7/02</td>\n",
       "      <td>CORTI SANDRA,CREECH LAURA ASHLEY,NOVARTIS AG</td>\n",
       "      <td>Seed</td>\n",
       "      <td>Colored contact lens A contact lens, comprising a prepri...</td>\n",
       "      <td>[colored, contact, lens, contact, lens, comprising, prep...</td>\n",
       "    </tr>\n",
       "  </tbody>\n",
       "</table>\n",
       "</div>"
      ]
     },
     "metadata": {},
     "execution_count": 11
    }
   ],
   "metadata": {}
  },
  {
   "cell_type": "markdown",
   "source": [
    "### Checking distribution of data"
   ],
   "metadata": {}
  },
  {
   "cell_type": "code",
   "execution_count": 12,
   "source": [
    "import matplotlib.pyplot as plt\n",
    "\n",
    "stats = pd.DataFrame()\n",
    "stats['total_words'] = seed['tokens'].apply(lambda x: len(x))\n",
    "\n",
    "m = np.mean(stats.total_words)\n",
    "print(m)\n",
    "\n",
    "plt.subplots(figsize=(20,6))\n",
    "stats['total_words'].hist(bins = np.arange(0, m*4, m/50))\n",
    "plt.xlabel('Total words')\n",
    "plt.ylabel('Count')"
   ],
   "outputs": [
    {
     "output_type": "stream",
     "name": "stdout",
     "text": [
      "513.1985450136405\n"
     ]
    },
    {
     "output_type": "execute_result",
     "data": {
      "text/plain": [
       "Text(0, 0.5, 'Count')"
      ]
     },
     "metadata": {},
     "execution_count": 12
    },
    {
     "output_type": "display_data",
     "data": {
      "text/plain": [
       "<Figure size 1440x432 with 1 Axes>"
      ],
      "image/svg+xml": "<?xml version=\"1.0\" encoding=\"utf-8\" standalone=\"no\"?>\n<!DOCTYPE svg PUBLIC \"-//W3C//DTD SVG 1.1//EN\"\n  \"http://www.w3.org/Graphics/SVG/1.1/DTD/svg11.dtd\">\n<svg height=\"370.91625pt\" version=\"1.1\" viewBox=\"0 0 1163.803125 370.91625\" width=\"1163.803125pt\" xmlns=\"http://www.w3.org/2000/svg\" xmlns:xlink=\"http://www.w3.org/1999/xlink\">\n <metadata>\n  <rdf:RDF xmlns:cc=\"http://creativecommons.org/ns#\" xmlns:dc=\"http://purl.org/dc/elements/1.1/\" xmlns:rdf=\"http://www.w3.org/1999/02/22-rdf-syntax-ns#\">\n   <cc:Work>\n    <dc:type rdf:resource=\"http://purl.org/dc/dcmitype/StillImage\"/>\n    <dc:date>2021-08-09T22:36:49.063994</dc:date>\n    <dc:format>image/svg+xml</dc:format>\n    <dc:creator>\n     <cc:Agent>\n      <dc:title>Matplotlib v3.4.2, https://matplotlib.org/</dc:title>\n     </cc:Agent>\n    </dc:creator>\n   </cc:Work>\n  </rdf:RDF>\n </metadata>\n <defs>\n  <style type=\"text/css\">*{stroke-linecap:butt;stroke-linejoin:round;}</style>\n </defs>\n <g id=\"figure_1\">\n  <g id=\"patch_1\">\n   <path d=\"M 0 370.91625 \nL 1163.803125 370.91625 \nL 1163.803125 0 \nL 0 0 \nz\n\" style=\"fill:none;\"/>\n  </g>\n  <g id=\"axes_1\">\n   <g id=\"patch_2\">\n    <path d=\"M 40.603125 333.36 \nL 1156.603125 333.36 \nL 1156.603125 7.2 \nL 40.603125 7.2 \nz\n\"/>\n   </g>\n   <g id=\"patch_3\">\n    <path clip-path=\"url(#pe3b6c5115b)\" d=\"M 91.330398 333.36 \nL 96.428616 333.36 \nL 96.428616 333.36 \nL 91.330398 333.36 \nz\n\" style=\"fill:#8dd3c7;\"/>\n   </g>\n   <g id=\"patch_4\">\n    <path clip-path=\"url(#pe3b6c5115b)\" d=\"M 96.428616 333.36 \nL 101.526834 333.36 \nL 101.526834 333.36 \nL 96.428616 333.36 \nz\n\" style=\"fill:#8dd3c7;\"/>\n   </g>\n   <g id=\"patch_5\">\n    <path clip-path=\"url(#pe3b6c5115b)\" d=\"M 101.526834 333.36 \nL 106.625053 333.36 \nL 106.625053 333.36 \nL 101.526834 333.36 \nz\n\" style=\"fill:#8dd3c7;\"/>\n   </g>\n   <g id=\"patch_6\">\n    <path clip-path=\"url(#pe3b6c5115b)\" d=\"M 106.625053 333.36 \nL 111.723271 333.36 \nL 111.723271 325.076571 \nL 106.625053 325.076571 \nz\n\" style=\"fill:#8dd3c7;\"/>\n   </g>\n   <g id=\"patch_7\">\n    <path clip-path=\"url(#pe3b6c5115b)\" d=\"M 111.723271 333.36 \nL 116.82149 333.36 \nL 116.82149 312.651429 \nL 111.723271 312.651429 \nz\n\" style=\"fill:#8dd3c7;\"/>\n   </g>\n   <g id=\"patch_8\">\n    <path clip-path=\"url(#pe3b6c5115b)\" d=\"M 116.82149 333.36 \nL 121.919708 333.36 \nL 121.919708 308.509714 \nL 116.82149 308.509714 \nz\n\" style=\"fill:#8dd3c7;\"/>\n   </g>\n   <g id=\"patch_9\">\n    <path clip-path=\"url(#pe3b6c5115b)\" d=\"M 121.919708 333.36 \nL 127.017926 333.36 \nL 127.017926 283.659429 \nL 121.919708 283.659429 \nz\n\" style=\"fill:#8dd3c7;\"/>\n   </g>\n   <g id=\"patch_10\">\n    <path clip-path=\"url(#pe3b6c5115b)\" d=\"M 127.017926 333.36 \nL 132.116145 333.36 \nL 132.116145 308.509714 \nL 127.017926 308.509714 \nz\n\" style=\"fill:#8dd3c7;\"/>\n   </g>\n   <g id=\"patch_11\">\n    <path clip-path=\"url(#pe3b6c5115b)\" d=\"M 132.116145 333.36 \nL 137.214363 333.36 \nL 137.214363 279.517714 \nL 132.116145 279.517714 \nz\n\" style=\"fill:#8dd3c7;\"/>\n   </g>\n   <g id=\"patch_12\">\n    <path clip-path=\"url(#pe3b6c5115b)\" d=\"M 137.214363 333.36 \nL 142.312581 333.36 \nL 142.312581 217.392 \nL 137.214363 217.392 \nz\n\" style=\"fill:#8dd3c7;\"/>\n   </g>\n   <g id=\"patch_13\">\n    <path clip-path=\"url(#pe3b6c5115b)\" d=\"M 142.312581 333.36 \nL 147.4108 333.36 \nL 147.4108 200.825143 \nL 142.312581 200.825143 \nz\n\" style=\"fill:#8dd3c7;\"/>\n   </g>\n   <g id=\"patch_14\">\n    <path clip-path=\"url(#pe3b6c5115b)\" d=\"M 147.4108 333.36 \nL 152.509018 333.36 \nL 152.509018 180.116571 \nL 147.4108 180.116571 \nz\n\" style=\"fill:#8dd3c7;\"/>\n   </g>\n   <g id=\"patch_15\">\n    <path clip-path=\"url(#pe3b6c5115b)\" d=\"M 152.509018 333.36 \nL 157.607236 333.36 \nL 157.607236 200.825143 \nL 152.509018 200.825143 \nz\n\" style=\"fill:#8dd3c7;\"/>\n   </g>\n   <g id=\"patch_16\">\n    <path clip-path=\"url(#pe3b6c5115b)\" d=\"M 157.607236 333.36 \nL 162.705455 333.36 \nL 162.705455 200.825143 \nL 157.607236 200.825143 \nz\n\" style=\"fill:#8dd3c7;\"/>\n   </g>\n   <g id=\"patch_17\">\n    <path clip-path=\"url(#pe3b6c5115b)\" d=\"M 162.705455 333.36 \nL 167.803673 333.36 \nL 167.803673 171.833143 \nL 162.705455 171.833143 \nz\n\" style=\"fill:#8dd3c7;\"/>\n   </g>\n   <g id=\"patch_18\">\n    <path clip-path=\"url(#pe3b6c5115b)\" d=\"M 167.803673 333.36 \nL 172.901892 333.36 \nL 172.901892 159.408 \nL 167.803673 159.408 \nz\n\" style=\"fill:#8dd3c7;\"/>\n   </g>\n   <g id=\"patch_19\">\n    <path clip-path=\"url(#pe3b6c5115b)\" d=\"M 172.901892 333.36 \nL 178.00011 333.36 \nL 178.00011 117.990857 \nL 172.901892 117.990857 \nz\n\" style=\"fill:#8dd3c7;\"/>\n   </g>\n   <g id=\"patch_20\">\n    <path clip-path=\"url(#pe3b6c5115b)\" d=\"M 178.00011 333.36 \nL 183.098328 333.36 \nL 183.098328 88.998857 \nL 178.00011 88.998857 \nz\n\" style=\"fill:#8dd3c7;\"/>\n   </g>\n   <g id=\"patch_21\">\n    <path clip-path=\"url(#pe3b6c5115b)\" d=\"M 183.098328 333.36 \nL 188.196547 333.36 \nL 188.196547 126.274286 \nL 183.098328 126.274286 \nz\n\" style=\"fill:#8dd3c7;\"/>\n   </g>\n   <g id=\"patch_22\">\n    <path clip-path=\"url(#pe3b6c5115b)\" d=\"M 188.196547 333.36 \nL 193.294765 333.36 \nL 193.294765 188.4 \nL 188.196547 188.4 \nz\n\" style=\"fill:#8dd3c7;\"/>\n   </g>\n   <g id=\"patch_23\">\n    <path clip-path=\"url(#pe3b6c5115b)\" d=\"M 193.294765 333.36 \nL 198.392983 333.36 \nL 198.392983 88.998857 \nL 193.294765 88.998857 \nz\n\" style=\"fill:#8dd3c7;\"/>\n   </g>\n   <g id=\"patch_24\">\n    <path clip-path=\"url(#pe3b6c5115b)\" d=\"M 198.392983 333.36 \nL 203.491202 333.36 \nL 203.491202 60.006857 \nL 198.392983 60.006857 \nz\n\" style=\"fill:#8dd3c7;\"/>\n   </g>\n   <g id=\"patch_25\">\n    <path clip-path=\"url(#pe3b6c5115b)\" d=\"M 203.491202 333.36 \nL 208.58942 333.36 \nL 208.58942 55.865143 \nL 203.491202 55.865143 \nz\n\" style=\"fill:#8dd3c7;\"/>\n   </g>\n   <g id=\"patch_26\">\n    <path clip-path=\"url(#pe3b6c5115b)\" d=\"M 208.58942 333.36 \nL 213.687638 333.36 \nL 213.687638 84.857143 \nL 208.58942 84.857143 \nz\n\" style=\"fill:#8dd3c7;\"/>\n   </g>\n   <g id=\"patch_27\">\n    <path clip-path=\"url(#pe3b6c5115b)\" d=\"M 213.687638 333.36 \nL 218.785857 333.36 \nL 218.785857 97.282286 \nL 213.687638 97.282286 \nz\n\" style=\"fill:#8dd3c7;\"/>\n   </g>\n   <g id=\"patch_28\">\n    <path clip-path=\"url(#pe3b6c5115b)\" d=\"M 218.785857 333.36 \nL 223.884075 333.36 \nL 223.884075 109.707429 \nL 218.785857 109.707429 \nz\n\" style=\"fill:#8dd3c7;\"/>\n   </g>\n   <g id=\"patch_29\">\n    <path clip-path=\"url(#pe3b6c5115b)\" d=\"M 223.884075 333.36 \nL 228.982294 333.36 \nL 228.982294 76.573714 \nL 223.884075 76.573714 \nz\n\" style=\"fill:#8dd3c7;\"/>\n   </g>\n   <g id=\"patch_30\">\n    <path clip-path=\"url(#pe3b6c5115b)\" d=\"M 228.982294 333.36 \nL 234.080512 333.36 \nL 234.080512 47.581714 \nL 228.982294 47.581714 \nz\n\" style=\"fill:#8dd3c7;\"/>\n   </g>\n   <g id=\"patch_31\">\n    <path clip-path=\"url(#pe3b6c5115b)\" d=\"M 234.080512 333.36 \nL 239.17873 333.36 \nL 239.17873 80.715429 \nL 234.080512 80.715429 \nz\n\" style=\"fill:#8dd3c7;\"/>\n   </g>\n   <g id=\"patch_32\">\n    <path clip-path=\"url(#pe3b6c5115b)\" d=\"M 239.17873 333.36 \nL 244.276949 333.36 \nL 244.276949 97.282286 \nL 239.17873 97.282286 \nz\n\" style=\"fill:#8dd3c7;\"/>\n   </g>\n   <g id=\"patch_33\">\n    <path clip-path=\"url(#pe3b6c5115b)\" d=\"M 244.276949 333.36 \nL 249.375167 333.36 \nL 249.375167 93.140571 \nL 244.276949 93.140571 \nz\n\" style=\"fill:#8dd3c7;\"/>\n   </g>\n   <g id=\"patch_34\">\n    <path clip-path=\"url(#pe3b6c5115b)\" d=\"M 249.375167 333.36 \nL 254.473385 333.36 \nL 254.473385 22.731429 \nL 249.375167 22.731429 \nz\n\" style=\"fill:#8dd3c7;\"/>\n   </g>\n   <g id=\"patch_35\">\n    <path clip-path=\"url(#pe3b6c5115b)\" d=\"M 254.473385 333.36 \nL 259.571604 333.36 \nL 259.571604 117.990857 \nL 254.473385 117.990857 \nz\n\" style=\"fill:#8dd3c7;\"/>\n   </g>\n   <g id=\"patch_36\">\n    <path clip-path=\"url(#pe3b6c5115b)\" d=\"M 259.571604 333.36 \nL 264.669822 333.36 \nL 264.669822 93.140571 \nL 259.571604 93.140571 \nz\n\" style=\"fill:#8dd3c7;\"/>\n   </g>\n   <g id=\"patch_37\">\n    <path clip-path=\"url(#pe3b6c5115b)\" d=\"M 264.669822 333.36 \nL 269.76804 333.36 \nL 269.76804 126.274286 \nL 264.669822 126.274286 \nz\n\" style=\"fill:#8dd3c7;\"/>\n   </g>\n   <g id=\"patch_38\">\n    <path clip-path=\"url(#pe3b6c5115b)\" d=\"M 269.76804 333.36 \nL 274.866259 333.36 \nL 274.866259 163.549714 \nL 269.76804 163.549714 \nz\n\" style=\"fill:#8dd3c7;\"/>\n   </g>\n   <g id=\"patch_39\">\n    <path clip-path=\"url(#pe3b6c5115b)\" d=\"M 274.866259 333.36 \nL 279.964477 333.36 \nL 279.964477 97.282286 \nL 274.866259 97.282286 \nz\n\" style=\"fill:#8dd3c7;\"/>\n   </g>\n   <g id=\"patch_40\">\n    <path clip-path=\"url(#pe3b6c5115b)\" d=\"M 279.964477 333.36 \nL 285.062696 333.36 \nL 285.062696 93.140571 \nL 279.964477 93.140571 \nz\n\" style=\"fill:#8dd3c7;\"/>\n   </g>\n   <g id=\"patch_41\">\n    <path clip-path=\"url(#pe3b6c5115b)\" d=\"M 285.062696 333.36 \nL 290.160914 333.36 \nL 290.160914 126.274286 \nL 285.062696 126.274286 \nz\n\" style=\"fill:#8dd3c7;\"/>\n   </g>\n   <g id=\"patch_42\">\n    <path clip-path=\"url(#pe3b6c5115b)\" d=\"M 290.160914 333.36 \nL 295.259132 333.36 \nL 295.259132 167.691429 \nL 290.160914 167.691429 \nz\n\" style=\"fill:#8dd3c7;\"/>\n   </g>\n   <g id=\"patch_43\">\n    <path clip-path=\"url(#pe3b6c5115b)\" d=\"M 295.259132 333.36 \nL 300.357351 333.36 \nL 300.357351 117.990857 \nL 295.259132 117.990857 \nz\n\" style=\"fill:#8dd3c7;\"/>\n   </g>\n   <g id=\"patch_44\">\n    <path clip-path=\"url(#pe3b6c5115b)\" d=\"M 300.357351 333.36 \nL 305.455569 333.36 \nL 305.455569 84.857143 \nL 300.357351 84.857143 \nz\n\" style=\"fill:#8dd3c7;\"/>\n   </g>\n   <g id=\"patch_45\">\n    <path clip-path=\"url(#pe3b6c5115b)\" d=\"M 305.455569 333.36 \nL 310.553787 333.36 \nL 310.553787 159.408 \nL 305.455569 159.408 \nz\n\" style=\"fill:#8dd3c7;\"/>\n   </g>\n   <g id=\"patch_46\">\n    <path clip-path=\"url(#pe3b6c5115b)\" d=\"M 310.553787 333.36 \nL 315.652006 333.36 \nL 315.652006 167.691429 \nL 310.553787 167.691429 \nz\n\" style=\"fill:#8dd3c7;\"/>\n   </g>\n   <g id=\"patch_47\">\n    <path clip-path=\"url(#pe3b6c5115b)\" d=\"M 315.652006 333.36 \nL 320.750224 333.36 \nL 320.750224 105.565714 \nL 315.652006 105.565714 \nz\n\" style=\"fill:#8dd3c7;\"/>\n   </g>\n   <g id=\"patch_48\">\n    <path clip-path=\"url(#pe3b6c5115b)\" d=\"M 320.750224 333.36 \nL 325.848442 333.36 \nL 325.848442 184.258286 \nL 320.750224 184.258286 \nz\n\" style=\"fill:#8dd3c7;\"/>\n   </g>\n   <g id=\"patch_49\">\n    <path clip-path=\"url(#pe3b6c5115b)\" d=\"M 325.848442 333.36 \nL 330.946661 333.36 \nL 330.946661 167.691429 \nL 325.848442 167.691429 \nz\n\" style=\"fill:#8dd3c7;\"/>\n   </g>\n   <g id=\"patch_50\">\n    <path clip-path=\"url(#pe3b6c5115b)\" d=\"M 330.946661 333.36 \nL 336.044879 333.36 \nL 336.044879 163.549714 \nL 330.946661 163.549714 \nz\n\" style=\"fill:#8dd3c7;\"/>\n   </g>\n   <g id=\"patch_51\">\n    <path clip-path=\"url(#pe3b6c5115b)\" d=\"M 336.044879 333.36 \nL 341.143098 333.36 \nL 341.143098 142.841143 \nL 336.044879 142.841143 \nz\n\" style=\"fill:#8dd3c7;\"/>\n   </g>\n   <g id=\"patch_52\">\n    <path clip-path=\"url(#pe3b6c5115b)\" d=\"M 341.143098 333.36 \nL 346.241316 333.36 \nL 346.241316 113.849143 \nL 341.143098 113.849143 \nz\n\" style=\"fill:#8dd3c7;\"/>\n   </g>\n   <g id=\"patch_53\">\n    <path clip-path=\"url(#pe3b6c5115b)\" d=\"M 346.241316 333.36 \nL 351.339534 333.36 \nL 351.339534 138.699429 \nL 346.241316 138.699429 \nz\n\" style=\"fill:#8dd3c7;\"/>\n   </g>\n   <g id=\"patch_54\">\n    <path clip-path=\"url(#pe3b6c5115b)\" d=\"M 351.339534 333.36 \nL 356.437753 333.36 \nL 356.437753 188.4 \nL 351.339534 188.4 \nz\n\" style=\"fill:#8dd3c7;\"/>\n   </g>\n   <g id=\"patch_55\">\n    <path clip-path=\"url(#pe3b6c5115b)\" d=\"M 356.437753 333.36 \nL 361.535971 333.36 \nL 361.535971 200.825143 \nL 356.437753 200.825143 \nz\n\" style=\"fill:#8dd3c7;\"/>\n   </g>\n   <g id=\"patch_56\">\n    <path clip-path=\"url(#pe3b6c5115b)\" d=\"M 361.535971 333.36 \nL 366.634189 333.36 \nL 366.634189 163.549714 \nL 361.535971 163.549714 \nz\n\" style=\"fill:#8dd3c7;\"/>\n   </g>\n   <g id=\"patch_57\">\n    <path clip-path=\"url(#pe3b6c5115b)\" d=\"M 366.634189 333.36 \nL 371.732408 333.36 \nL 371.732408 175.974857 \nL 366.634189 175.974857 \nz\n\" style=\"fill:#8dd3c7;\"/>\n   </g>\n   <g id=\"patch_58\">\n    <path clip-path=\"url(#pe3b6c5115b)\" d=\"M 371.732408 333.36 \nL 376.830626 333.36 \nL 376.830626 200.825143 \nL 371.732408 200.825143 \nz\n\" style=\"fill:#8dd3c7;\"/>\n   </g>\n   <g id=\"patch_59\">\n    <path clip-path=\"url(#pe3b6c5115b)\" d=\"M 376.830626 333.36 \nL 381.928845 333.36 \nL 381.928845 180.116571 \nL 376.830626 180.116571 \nz\n\" style=\"fill:#8dd3c7;\"/>\n   </g>\n   <g id=\"patch_60\">\n    <path clip-path=\"url(#pe3b6c5115b)\" d=\"M 381.928845 333.36 \nL 387.027063 333.36 \nL 387.027063 225.675429 \nL 381.928845 225.675429 \nz\n\" style=\"fill:#8dd3c7;\"/>\n   </g>\n   <g id=\"patch_61\">\n    <path clip-path=\"url(#pe3b6c5115b)\" d=\"M 387.027063 333.36 \nL 392.125281 333.36 \nL 392.125281 238.100571 \nL 387.027063 238.100571 \nz\n\" style=\"fill:#8dd3c7;\"/>\n   </g>\n   <g id=\"patch_62\">\n    <path clip-path=\"url(#pe3b6c5115b)\" d=\"M 392.125281 333.36 \nL 397.2235 333.36 \nL 397.2235 217.392 \nL 392.125281 217.392 \nz\n\" style=\"fill:#8dd3c7;\"/>\n   </g>\n   <g id=\"patch_63\">\n    <path clip-path=\"url(#pe3b6c5115b)\" d=\"M 397.2235 333.36 \nL 402.321718 333.36 \nL 402.321718 204.966857 \nL 397.2235 204.966857 \nz\n\" style=\"fill:#8dd3c7;\"/>\n   </g>\n   <g id=\"patch_64\">\n    <path clip-path=\"url(#pe3b6c5115b)\" d=\"M 402.321718 333.36 \nL 407.419936 333.36 \nL 407.419936 229.817143 \nL 402.321718 229.817143 \nz\n\" style=\"fill:#8dd3c7;\"/>\n   </g>\n   <g id=\"patch_65\">\n    <path clip-path=\"url(#pe3b6c5115b)\" d=\"M 407.419936 333.36 \nL 412.518155 333.36 \nL 412.518155 209.108571 \nL 407.419936 209.108571 \nz\n\" style=\"fill:#8dd3c7;\"/>\n   </g>\n   <g id=\"patch_66\">\n    <path clip-path=\"url(#pe3b6c5115b)\" d=\"M 412.518155 333.36 \nL 417.616373 333.36 \nL 417.616373 221.533714 \nL 412.518155 221.533714 \nz\n\" style=\"fill:#8dd3c7;\"/>\n   </g>\n   <g id=\"patch_67\">\n    <path clip-path=\"url(#pe3b6c5115b)\" d=\"M 417.616373 333.36 \nL 422.714591 333.36 \nL 422.714591 229.817143 \nL 417.616373 229.817143 \nz\n\" style=\"fill:#8dd3c7;\"/>\n   </g>\n   <g id=\"patch_68\">\n    <path clip-path=\"url(#pe3b6c5115b)\" d=\"M 422.714591 333.36 \nL 427.81281 333.36 \nL 427.81281 271.234286 \nL 422.714591 271.234286 \nz\n\" style=\"fill:#8dd3c7;\"/>\n   </g>\n   <g id=\"patch_69\">\n    <path clip-path=\"url(#pe3b6c5115b)\" d=\"M 427.81281 333.36 \nL 432.911028 333.36 \nL 432.911028 221.533714 \nL 427.81281 221.533714 \nz\n\" style=\"fill:#8dd3c7;\"/>\n   </g>\n   <g id=\"patch_70\">\n    <path clip-path=\"url(#pe3b6c5115b)\" d=\"M 432.911028 333.36 \nL 438.009247 333.36 \nL 438.009247 258.809143 \nL 432.911028 258.809143 \nz\n\" style=\"fill:#8dd3c7;\"/>\n   </g>\n   <g id=\"patch_71\">\n    <path clip-path=\"url(#pe3b6c5115b)\" d=\"M 438.009247 333.36 \nL 443.107465 333.36 \nL 443.107465 258.809143 \nL 438.009247 258.809143 \nz\n\" style=\"fill:#8dd3c7;\"/>\n   </g>\n   <g id=\"patch_72\">\n    <path clip-path=\"url(#pe3b6c5115b)\" d=\"M 443.107465 333.36 \nL 448.205683 333.36 \nL 448.205683 283.659429 \nL 443.107465 283.659429 \nz\n\" style=\"fill:#8dd3c7;\"/>\n   </g>\n   <g id=\"patch_73\">\n    <path clip-path=\"url(#pe3b6c5115b)\" d=\"M 448.205683 333.36 \nL 453.303902 333.36 \nL 453.303902 250.525714 \nL 448.205683 250.525714 \nz\n\" style=\"fill:#8dd3c7;\"/>\n   </g>\n   <g id=\"patch_74\">\n    <path clip-path=\"url(#pe3b6c5115b)\" d=\"M 453.303902 333.36 \nL 458.40212 333.36 \nL 458.40212 246.384 \nL 453.303902 246.384 \nz\n\" style=\"fill:#8dd3c7;\"/>\n   </g>\n   <g id=\"patch_75\">\n    <path clip-path=\"url(#pe3b6c5115b)\" d=\"M 458.40212 333.36 \nL 463.500338 333.36 \nL 463.500338 225.675429 \nL 458.40212 225.675429 \nz\n\" style=\"fill:#8dd3c7;\"/>\n   </g>\n   <g id=\"patch_76\">\n    <path clip-path=\"url(#pe3b6c5115b)\" d=\"M 463.500338 333.36 \nL 468.598557 333.36 \nL 468.598557 283.659429 \nL 463.500338 283.659429 \nz\n\" style=\"fill:#8dd3c7;\"/>\n   </g>\n   <g id=\"patch_77\">\n    <path clip-path=\"url(#pe3b6c5115b)\" d=\"M 468.598557 333.36 \nL 473.696775 333.36 \nL 473.696775 279.517714 \nL 468.598557 279.517714 \nz\n\" style=\"fill:#8dd3c7;\"/>\n   </g>\n   <g id=\"patch_78\">\n    <path clip-path=\"url(#pe3b6c5115b)\" d=\"M 473.696775 333.36 \nL 478.794993 333.36 \nL 478.794993 262.950857 \nL 473.696775 262.950857 \nz\n\" style=\"fill:#8dd3c7;\"/>\n   </g>\n   <g id=\"patch_79\">\n    <path clip-path=\"url(#pe3b6c5115b)\" d=\"M 478.794993 333.36 \nL 483.893212 333.36 \nL 483.893212 246.384 \nL 478.794993 246.384 \nz\n\" style=\"fill:#8dd3c7;\"/>\n   </g>\n   <g id=\"patch_80\">\n    <path clip-path=\"url(#pe3b6c5115b)\" d=\"M 483.893212 333.36 \nL 488.99143 333.36 \nL 488.99143 304.368 \nL 483.893212 304.368 \nz\n\" style=\"fill:#8dd3c7;\"/>\n   </g>\n   <g id=\"patch_81\">\n    <path clip-path=\"url(#pe3b6c5115b)\" d=\"M 488.99143 333.36 \nL 494.089649 333.36 \nL 494.089649 283.659429 \nL 488.99143 283.659429 \nz\n\" style=\"fill:#8dd3c7;\"/>\n   </g>\n   <g id=\"patch_82\">\n    <path clip-path=\"url(#pe3b6c5115b)\" d=\"M 494.089649 333.36 \nL 499.187867 333.36 \nL 499.187867 283.659429 \nL 494.089649 283.659429 \nz\n\" style=\"fill:#8dd3c7;\"/>\n   </g>\n   <g id=\"patch_83\">\n    <path clip-path=\"url(#pe3b6c5115b)\" d=\"M 499.187867 333.36 \nL 504.286085 333.36 \nL 504.286085 296.084571 \nL 499.187867 296.084571 \nz\n\" style=\"fill:#8dd3c7;\"/>\n   </g>\n   <g id=\"patch_84\">\n    <path clip-path=\"url(#pe3b6c5115b)\" d=\"M 504.286085 333.36 \nL 509.384304 333.36 \nL 509.384304 283.659429 \nL 504.286085 283.659429 \nz\n\" style=\"fill:#8dd3c7;\"/>\n   </g>\n   <g id=\"patch_85\">\n    <path clip-path=\"url(#pe3b6c5115b)\" d=\"M 509.384304 333.36 \nL 514.482522 333.36 \nL 514.482522 304.368 \nL 509.384304 304.368 \nz\n\" style=\"fill:#8dd3c7;\"/>\n   </g>\n   <g id=\"patch_86\">\n    <path clip-path=\"url(#pe3b6c5115b)\" d=\"M 514.482522 333.36 \nL 519.58074 333.36 \nL 519.58074 254.667429 \nL 514.482522 254.667429 \nz\n\" style=\"fill:#8dd3c7;\"/>\n   </g>\n   <g id=\"patch_87\">\n    <path clip-path=\"url(#pe3b6c5115b)\" d=\"M 519.58074 333.36 \nL 524.678959 333.36 \nL 524.678959 283.659429 \nL 519.58074 283.659429 \nz\n\" style=\"fill:#8dd3c7;\"/>\n   </g>\n   <g id=\"patch_88\">\n    <path clip-path=\"url(#pe3b6c5115b)\" d=\"M 524.678959 333.36 \nL 529.777177 333.36 \nL 529.777177 287.801143 \nL 524.678959 287.801143 \nz\n\" style=\"fill:#8dd3c7;\"/>\n   </g>\n   <g id=\"patch_89\">\n    <path clip-path=\"url(#pe3b6c5115b)\" d=\"M 529.777177 333.36 \nL 534.875395 333.36 \nL 534.875395 304.368 \nL 529.777177 304.368 \nz\n\" style=\"fill:#8dd3c7;\"/>\n   </g>\n   <g id=\"patch_90\">\n    <path clip-path=\"url(#pe3b6c5115b)\" d=\"M 534.875395 333.36 \nL 539.973614 333.36 \nL 539.973614 279.517714 \nL 534.875395 279.517714 \nz\n\" style=\"fill:#8dd3c7;\"/>\n   </g>\n   <g id=\"patch_91\">\n    <path clip-path=\"url(#pe3b6c5115b)\" d=\"M 539.973614 333.36 \nL 545.071832 333.36 \nL 545.071832 279.517714 \nL 539.973614 279.517714 \nz\n\" style=\"fill:#8dd3c7;\"/>\n   </g>\n   <g id=\"patch_92\">\n    <path clip-path=\"url(#pe3b6c5115b)\" d=\"M 545.071832 333.36 \nL 550.170051 333.36 \nL 550.170051 308.509714 \nL 545.071832 308.509714 \nz\n\" style=\"fill:#8dd3c7;\"/>\n   </g>\n   <g id=\"patch_93\">\n    <path clip-path=\"url(#pe3b6c5115b)\" d=\"M 550.170051 333.36 \nL 555.268269 333.36 \nL 555.268269 300.226286 \nL 550.170051 300.226286 \nz\n\" style=\"fill:#8dd3c7;\"/>\n   </g>\n   <g id=\"patch_94\">\n    <path clip-path=\"url(#pe3b6c5115b)\" d=\"M 555.268269 333.36 \nL 560.366487 333.36 \nL 560.366487 291.942857 \nL 555.268269 291.942857 \nz\n\" style=\"fill:#8dd3c7;\"/>\n   </g>\n   <g id=\"patch_95\">\n    <path clip-path=\"url(#pe3b6c5115b)\" d=\"M 560.366487 333.36 \nL 565.464706 333.36 \nL 565.464706 287.801143 \nL 560.366487 287.801143 \nz\n\" style=\"fill:#8dd3c7;\"/>\n   </g>\n   <g id=\"patch_96\">\n    <path clip-path=\"url(#pe3b6c5115b)\" d=\"M 565.464706 333.36 \nL 570.562924 333.36 \nL 570.562924 300.226286 \nL 565.464706 300.226286 \nz\n\" style=\"fill:#8dd3c7;\"/>\n   </g>\n   <g id=\"patch_97\">\n    <path clip-path=\"url(#pe3b6c5115b)\" d=\"M 570.562924 333.36 \nL 575.661142 333.36 \nL 575.661142 304.368 \nL 570.562924 304.368 \nz\n\" style=\"fill:#8dd3c7;\"/>\n   </g>\n   <g id=\"patch_98\">\n    <path clip-path=\"url(#pe3b6c5115b)\" d=\"M 575.661142 333.36 \nL 580.759361 333.36 \nL 580.759361 291.942857 \nL 575.661142 291.942857 \nz\n\" style=\"fill:#8dd3c7;\"/>\n   </g>\n   <g id=\"patch_99\">\n    <path clip-path=\"url(#pe3b6c5115b)\" d=\"M 580.759361 333.36 \nL 585.857579 333.36 \nL 585.857579 279.517714 \nL 580.759361 279.517714 \nz\n\" style=\"fill:#8dd3c7;\"/>\n   </g>\n   <g id=\"patch_100\">\n    <path clip-path=\"url(#pe3b6c5115b)\" d=\"M 585.857579 333.36 \nL 590.955797 333.36 \nL 590.955797 308.509714 \nL 585.857579 308.509714 \nz\n\" style=\"fill:#8dd3c7;\"/>\n   </g>\n   <g id=\"patch_101\">\n    <path clip-path=\"url(#pe3b6c5115b)\" d=\"M 590.955797 333.36 \nL 596.054016 333.36 \nL 596.054016 320.934857 \nL 590.955797 320.934857 \nz\n\" style=\"fill:#8dd3c7;\"/>\n   </g>\n   <g id=\"patch_102\">\n    <path clip-path=\"url(#pe3b6c5115b)\" d=\"M 596.054016 333.36 \nL 601.152234 333.36 \nL 601.152234 308.509714 \nL 596.054016 308.509714 \nz\n\" style=\"fill:#8dd3c7;\"/>\n   </g>\n   <g id=\"patch_103\">\n    <path clip-path=\"url(#pe3b6c5115b)\" d=\"M 601.152234 333.36 \nL 606.250453 333.36 \nL 606.250453 300.226286 \nL 601.152234 300.226286 \nz\n\" style=\"fill:#8dd3c7;\"/>\n   </g>\n   <g id=\"patch_104\">\n    <path clip-path=\"url(#pe3b6c5115b)\" d=\"M 606.250453 333.36 \nL 611.348671 333.36 \nL 611.348671 296.084571 \nL 606.250453 296.084571 \nz\n\" style=\"fill:#8dd3c7;\"/>\n   </g>\n   <g id=\"patch_105\">\n    <path clip-path=\"url(#pe3b6c5115b)\" d=\"M 611.348671 333.36 \nL 616.446889 333.36 \nL 616.446889 304.368 \nL 611.348671 304.368 \nz\n\" style=\"fill:#8dd3c7;\"/>\n   </g>\n   <g id=\"patch_106\">\n    <path clip-path=\"url(#pe3b6c5115b)\" d=\"M 616.446889 333.36 \nL 621.545108 333.36 \nL 621.545108 325.076571 \nL 616.446889 325.076571 \nz\n\" style=\"fill:#8dd3c7;\"/>\n   </g>\n   <g id=\"patch_107\">\n    <path clip-path=\"url(#pe3b6c5115b)\" d=\"M 621.545108 333.36 \nL 626.643326 333.36 \nL 626.643326 320.934857 \nL 621.545108 320.934857 \nz\n\" style=\"fill:#8dd3c7;\"/>\n   </g>\n   <g id=\"patch_108\">\n    <path clip-path=\"url(#pe3b6c5115b)\" d=\"M 626.643326 333.36 \nL 631.741544 333.36 \nL 631.741544 308.509714 \nL 626.643326 308.509714 \nz\n\" style=\"fill:#8dd3c7;\"/>\n   </g>\n   <g id=\"patch_109\">\n    <path clip-path=\"url(#pe3b6c5115b)\" d=\"M 631.741544 333.36 \nL 636.839763 333.36 \nL 636.839763 300.226286 \nL 631.741544 300.226286 \nz\n\" style=\"fill:#8dd3c7;\"/>\n   </g>\n   <g id=\"patch_110\">\n    <path clip-path=\"url(#pe3b6c5115b)\" d=\"M 636.839763 333.36 \nL 641.937981 333.36 \nL 641.937981 312.651429 \nL 636.839763 312.651429 \nz\n\" style=\"fill:#8dd3c7;\"/>\n   </g>\n   <g id=\"patch_111\">\n    <path clip-path=\"url(#pe3b6c5115b)\" d=\"M 641.937981 333.36 \nL 647.036199 333.36 \nL 647.036199 320.934857 \nL 641.937981 320.934857 \nz\n\" style=\"fill:#8dd3c7;\"/>\n   </g>\n   <g id=\"patch_112\">\n    <path clip-path=\"url(#pe3b6c5115b)\" d=\"M 647.036199 333.36 \nL 652.134418 333.36 \nL 652.134418 300.226286 \nL 647.036199 300.226286 \nz\n\" style=\"fill:#8dd3c7;\"/>\n   </g>\n   <g id=\"patch_113\">\n    <path clip-path=\"url(#pe3b6c5115b)\" d=\"M 652.134418 333.36 \nL 657.232636 333.36 \nL 657.232636 312.651429 \nL 652.134418 312.651429 \nz\n\" style=\"fill:#8dd3c7;\"/>\n   </g>\n   <g id=\"patch_114\">\n    <path clip-path=\"url(#pe3b6c5115b)\" d=\"M 657.232636 333.36 \nL 662.330855 333.36 \nL 662.330855 291.942857 \nL 657.232636 291.942857 \nz\n\" style=\"fill:#8dd3c7;\"/>\n   </g>\n   <g id=\"patch_115\">\n    <path clip-path=\"url(#pe3b6c5115b)\" d=\"M 662.330855 333.36 \nL 667.429073 333.36 \nL 667.429073 333.36 \nL 662.330855 333.36 \nz\n\" style=\"fill:#8dd3c7;\"/>\n   </g>\n   <g id=\"patch_116\">\n    <path clip-path=\"url(#pe3b6c5115b)\" d=\"M 667.429073 333.36 \nL 672.527291 333.36 \nL 672.527291 312.651429 \nL 667.429073 312.651429 \nz\n\" style=\"fill:#8dd3c7;\"/>\n   </g>\n   <g id=\"patch_117\">\n    <path clip-path=\"url(#pe3b6c5115b)\" d=\"M 672.527291 333.36 \nL 677.62551 333.36 \nL 677.62551 325.076571 \nL 672.527291 325.076571 \nz\n\" style=\"fill:#8dd3c7;\"/>\n   </g>\n   <g id=\"patch_118\">\n    <path clip-path=\"url(#pe3b6c5115b)\" d=\"M 677.62551 333.36 \nL 682.723728 333.36 \nL 682.723728 312.651429 \nL 677.62551 312.651429 \nz\n\" style=\"fill:#8dd3c7;\"/>\n   </g>\n   <g id=\"patch_119\">\n    <path clip-path=\"url(#pe3b6c5115b)\" d=\"M 682.723728 333.36 \nL 687.821946 333.36 \nL 687.821946 316.793143 \nL 682.723728 316.793143 \nz\n\" style=\"fill:#8dd3c7;\"/>\n   </g>\n   <g id=\"patch_120\">\n    <path clip-path=\"url(#pe3b6c5115b)\" d=\"M 687.821946 333.36 \nL 692.920165 333.36 \nL 692.920165 296.084571 \nL 687.821946 296.084571 \nz\n\" style=\"fill:#8dd3c7;\"/>\n   </g>\n   <g id=\"patch_121\">\n    <path clip-path=\"url(#pe3b6c5115b)\" d=\"M 692.920165 333.36 \nL 698.018383 333.36 \nL 698.018383 312.651429 \nL 692.920165 312.651429 \nz\n\" style=\"fill:#8dd3c7;\"/>\n   </g>\n   <g id=\"patch_122\">\n    <path clip-path=\"url(#pe3b6c5115b)\" d=\"M 698.018383 333.36 \nL 703.116601 333.36 \nL 703.116601 320.934857 \nL 698.018383 320.934857 \nz\n\" style=\"fill:#8dd3c7;\"/>\n   </g>\n   <g id=\"patch_123\">\n    <path clip-path=\"url(#pe3b6c5115b)\" d=\"M 703.116601 333.36 \nL 708.21482 333.36 \nL 708.21482 316.793143 \nL 703.116601 316.793143 \nz\n\" style=\"fill:#8dd3c7;\"/>\n   </g>\n   <g id=\"patch_124\">\n    <path clip-path=\"url(#pe3b6c5115b)\" d=\"M 708.21482 333.36 \nL 713.313038 333.36 \nL 713.313038 312.651429 \nL 708.21482 312.651429 \nz\n\" style=\"fill:#8dd3c7;\"/>\n   </g>\n   <g id=\"patch_125\">\n    <path clip-path=\"url(#pe3b6c5115b)\" d=\"M 713.313038 333.36 \nL 718.411257 333.36 \nL 718.411257 300.226286 \nL 713.313038 300.226286 \nz\n\" style=\"fill:#8dd3c7;\"/>\n   </g>\n   <g id=\"patch_126\">\n    <path clip-path=\"url(#pe3b6c5115b)\" d=\"M 718.411257 333.36 \nL 723.509475 333.36 \nL 723.509475 320.934857 \nL 718.411257 320.934857 \nz\n\" style=\"fill:#8dd3c7;\"/>\n   </g>\n   <g id=\"patch_127\">\n    <path clip-path=\"url(#pe3b6c5115b)\" d=\"M 723.509475 333.36 \nL 728.607693 333.36 \nL 728.607693 312.651429 \nL 723.509475 312.651429 \nz\n\" style=\"fill:#8dd3c7;\"/>\n   </g>\n   <g id=\"patch_128\">\n    <path clip-path=\"url(#pe3b6c5115b)\" d=\"M 728.607693 333.36 \nL 733.705912 333.36 \nL 733.705912 296.084571 \nL 728.607693 296.084571 \nz\n\" style=\"fill:#8dd3c7;\"/>\n   </g>\n   <g id=\"patch_129\">\n    <path clip-path=\"url(#pe3b6c5115b)\" d=\"M 733.705912 333.36 \nL 738.80413 333.36 \nL 738.80413 320.934857 \nL 733.705912 320.934857 \nz\n\" style=\"fill:#8dd3c7;\"/>\n   </g>\n   <g id=\"patch_130\">\n    <path clip-path=\"url(#pe3b6c5115b)\" d=\"M 738.80413 333.36 \nL 743.902348 333.36 \nL 743.902348 320.934857 \nL 738.80413 320.934857 \nz\n\" style=\"fill:#8dd3c7;\"/>\n   </g>\n   <g id=\"patch_131\">\n    <path clip-path=\"url(#pe3b6c5115b)\" d=\"M 743.902348 333.36 \nL 749.000567 333.36 \nL 749.000567 329.218286 \nL 743.902348 329.218286 \nz\n\" style=\"fill:#8dd3c7;\"/>\n   </g>\n   <g id=\"patch_132\">\n    <path clip-path=\"url(#pe3b6c5115b)\" d=\"M 749.000567 333.36 \nL 754.098785 333.36 \nL 754.098785 329.218286 \nL 749.000567 329.218286 \nz\n\" style=\"fill:#8dd3c7;\"/>\n   </g>\n   <g id=\"patch_133\">\n    <path clip-path=\"url(#pe3b6c5115b)\" d=\"M 754.098785 333.36 \nL 759.197003 333.36 \nL 759.197003 316.793143 \nL 754.098785 316.793143 \nz\n\" style=\"fill:#8dd3c7;\"/>\n   </g>\n   <g id=\"patch_134\">\n    <path clip-path=\"url(#pe3b6c5115b)\" d=\"M 759.197003 333.36 \nL 764.295222 333.36 \nL 764.295222 320.934857 \nL 759.197003 320.934857 \nz\n\" style=\"fill:#8dd3c7;\"/>\n   </g>\n   <g id=\"patch_135\">\n    <path clip-path=\"url(#pe3b6c5115b)\" d=\"M 764.295222 333.36 \nL 769.39344 333.36 \nL 769.39344 316.793143 \nL 764.295222 316.793143 \nz\n\" style=\"fill:#8dd3c7;\"/>\n   </g>\n   <g id=\"patch_136\">\n    <path clip-path=\"url(#pe3b6c5115b)\" d=\"M 769.39344 333.36 \nL 774.491659 333.36 \nL 774.491659 325.076571 \nL 769.39344 325.076571 \nz\n\" style=\"fill:#8dd3c7;\"/>\n   </g>\n   <g id=\"patch_137\">\n    <path clip-path=\"url(#pe3b6c5115b)\" d=\"M 774.491659 333.36 \nL 779.589877 333.36 \nL 779.589877 320.934857 \nL 774.491659 320.934857 \nz\n\" style=\"fill:#8dd3c7;\"/>\n   </g>\n   <g id=\"patch_138\">\n    <path clip-path=\"url(#pe3b6c5115b)\" d=\"M 779.589877 333.36 \nL 784.688095 333.36 \nL 784.688095 312.651429 \nL 779.589877 312.651429 \nz\n\" style=\"fill:#8dd3c7;\"/>\n   </g>\n   <g id=\"patch_139\">\n    <path clip-path=\"url(#pe3b6c5115b)\" d=\"M 784.688095 333.36 \nL 789.786314 333.36 \nL 789.786314 325.076571 \nL 784.688095 325.076571 \nz\n\" style=\"fill:#8dd3c7;\"/>\n   </g>\n   <g id=\"patch_140\">\n    <path clip-path=\"url(#pe3b6c5115b)\" d=\"M 789.786314 333.36 \nL 794.884532 333.36 \nL 794.884532 320.934857 \nL 789.786314 320.934857 \nz\n\" style=\"fill:#8dd3c7;\"/>\n   </g>\n   <g id=\"patch_141\">\n    <path clip-path=\"url(#pe3b6c5115b)\" d=\"M 794.884532 333.36 \nL 799.98275 333.36 \nL 799.98275 329.218286 \nL 794.884532 329.218286 \nz\n\" style=\"fill:#8dd3c7;\"/>\n   </g>\n   <g id=\"patch_142\">\n    <path clip-path=\"url(#pe3b6c5115b)\" d=\"M 799.98275 333.36 \nL 805.080969 333.36 \nL 805.080969 320.934857 \nL 799.98275 320.934857 \nz\n\" style=\"fill:#8dd3c7;\"/>\n   </g>\n   <g id=\"patch_143\">\n    <path clip-path=\"url(#pe3b6c5115b)\" d=\"M 805.080969 333.36 \nL 810.179187 333.36 \nL 810.179187 329.218286 \nL 805.080969 329.218286 \nz\n\" style=\"fill:#8dd3c7;\"/>\n   </g>\n   <g id=\"patch_144\">\n    <path clip-path=\"url(#pe3b6c5115b)\" d=\"M 810.179187 333.36 \nL 815.277405 333.36 \nL 815.277405 325.076571 \nL 810.179187 325.076571 \nz\n\" style=\"fill:#8dd3c7;\"/>\n   </g>\n   <g id=\"patch_145\">\n    <path clip-path=\"url(#pe3b6c5115b)\" d=\"M 815.277405 333.36 \nL 820.375624 333.36 \nL 820.375624 333.36 \nL 815.277405 333.36 \nz\n\" style=\"fill:#8dd3c7;\"/>\n   </g>\n   <g id=\"patch_146\">\n    <path clip-path=\"url(#pe3b6c5115b)\" d=\"M 820.375624 333.36 \nL 825.473842 333.36 \nL 825.473842 325.076571 \nL 820.375624 325.076571 \nz\n\" style=\"fill:#8dd3c7;\"/>\n   </g>\n   <g id=\"patch_147\">\n    <path clip-path=\"url(#pe3b6c5115b)\" d=\"M 825.473842 333.36 \nL 830.572061 333.36 \nL 830.572061 325.076571 \nL 825.473842 325.076571 \nz\n\" style=\"fill:#8dd3c7;\"/>\n   </g>\n   <g id=\"patch_148\">\n    <path clip-path=\"url(#pe3b6c5115b)\" d=\"M 830.572061 333.36 \nL 835.670279 333.36 \nL 835.670279 320.934857 \nL 830.572061 320.934857 \nz\n\" style=\"fill:#8dd3c7;\"/>\n   </g>\n   <g id=\"patch_149\">\n    <path clip-path=\"url(#pe3b6c5115b)\" d=\"M 835.670279 333.36 \nL 840.768497 333.36 \nL 840.768497 325.076571 \nL 835.670279 325.076571 \nz\n\" style=\"fill:#8dd3c7;\"/>\n   </g>\n   <g id=\"patch_150\">\n    <path clip-path=\"url(#pe3b6c5115b)\" d=\"M 840.768497 333.36 \nL 845.866716 333.36 \nL 845.866716 329.218286 \nL 840.768497 329.218286 \nz\n\" style=\"fill:#8dd3c7;\"/>\n   </g>\n   <g id=\"patch_151\">\n    <path clip-path=\"url(#pe3b6c5115b)\" d=\"M 845.866716 333.36 \nL 850.964934 333.36 \nL 850.964934 329.218286 \nL 845.866716 329.218286 \nz\n\" style=\"fill:#8dd3c7;\"/>\n   </g>\n   <g id=\"patch_152\">\n    <path clip-path=\"url(#pe3b6c5115b)\" d=\"M 850.964934 333.36 \nL 856.063152 333.36 \nL 856.063152 325.076571 \nL 850.964934 325.076571 \nz\n\" style=\"fill:#8dd3c7;\"/>\n   </g>\n   <g id=\"patch_153\">\n    <path clip-path=\"url(#pe3b6c5115b)\" d=\"M 856.063152 333.36 \nL 861.161371 333.36 \nL 861.161371 312.651429 \nL 856.063152 312.651429 \nz\n\" style=\"fill:#8dd3c7;\"/>\n   </g>\n   <g id=\"patch_154\">\n    <path clip-path=\"url(#pe3b6c5115b)\" d=\"M 861.161371 333.36 \nL 866.259589 333.36 \nL 866.259589 329.218286 \nL 861.161371 329.218286 \nz\n\" style=\"fill:#8dd3c7;\"/>\n   </g>\n   <g id=\"patch_155\">\n    <path clip-path=\"url(#pe3b6c5115b)\" d=\"M 866.259589 333.36 \nL 871.357808 333.36 \nL 871.357808 329.218286 \nL 866.259589 329.218286 \nz\n\" style=\"fill:#8dd3c7;\"/>\n   </g>\n   <g id=\"patch_156\">\n    <path clip-path=\"url(#pe3b6c5115b)\" d=\"M 871.357808 333.36 \nL 876.456026 333.36 \nL 876.456026 329.218286 \nL 871.357808 329.218286 \nz\n\" style=\"fill:#8dd3c7;\"/>\n   </g>\n   <g id=\"patch_157\">\n    <path clip-path=\"url(#pe3b6c5115b)\" d=\"M 876.456026 333.36 \nL 881.554244 333.36 \nL 881.554244 316.793143 \nL 876.456026 316.793143 \nz\n\" style=\"fill:#8dd3c7;\"/>\n   </g>\n   <g id=\"patch_158\">\n    <path clip-path=\"url(#pe3b6c5115b)\" d=\"M 881.554244 333.36 \nL 886.652463 333.36 \nL 886.652463 325.076571 \nL 881.554244 325.076571 \nz\n\" style=\"fill:#8dd3c7;\"/>\n   </g>\n   <g id=\"patch_159\">\n    <path clip-path=\"url(#pe3b6c5115b)\" d=\"M 886.652463 333.36 \nL 891.750681 333.36 \nL 891.750681 316.793143 \nL 886.652463 316.793143 \nz\n\" style=\"fill:#8dd3c7;\"/>\n   </g>\n   <g id=\"patch_160\">\n    <path clip-path=\"url(#pe3b6c5115b)\" d=\"M 891.750681 333.36 \nL 896.848899 333.36 \nL 896.848899 325.076571 \nL 891.750681 325.076571 \nz\n\" style=\"fill:#8dd3c7;\"/>\n   </g>\n   <g id=\"patch_161\">\n    <path clip-path=\"url(#pe3b6c5115b)\" d=\"M 896.848899 333.36 \nL 901.947118 333.36 \nL 901.947118 329.218286 \nL 896.848899 329.218286 \nz\n\" style=\"fill:#8dd3c7;\"/>\n   </g>\n   <g id=\"patch_162\">\n    <path clip-path=\"url(#pe3b6c5115b)\" d=\"M 901.947118 333.36 \nL 907.045336 333.36 \nL 907.045336 325.076571 \nL 901.947118 325.076571 \nz\n\" style=\"fill:#8dd3c7;\"/>\n   </g>\n   <g id=\"patch_163\">\n    <path clip-path=\"url(#pe3b6c5115b)\" d=\"M 907.045336 333.36 \nL 912.143554 333.36 \nL 912.143554 329.218286 \nL 907.045336 329.218286 \nz\n\" style=\"fill:#8dd3c7;\"/>\n   </g>\n   <g id=\"patch_164\">\n    <path clip-path=\"url(#pe3b6c5115b)\" d=\"M 912.143554 333.36 \nL 917.241773 333.36 \nL 917.241773 329.218286 \nL 912.143554 329.218286 \nz\n\" style=\"fill:#8dd3c7;\"/>\n   </g>\n   <g id=\"patch_165\">\n    <path clip-path=\"url(#pe3b6c5115b)\" d=\"M 917.241773 333.36 \nL 922.339991 333.36 \nL 922.339991 333.36 \nL 917.241773 333.36 \nz\n\" style=\"fill:#8dd3c7;\"/>\n   </g>\n   <g id=\"patch_166\">\n    <path clip-path=\"url(#pe3b6c5115b)\" d=\"M 922.339991 333.36 \nL 927.43821 333.36 \nL 927.43821 329.218286 \nL 922.339991 329.218286 \nz\n\" style=\"fill:#8dd3c7;\"/>\n   </g>\n   <g id=\"patch_167\">\n    <path clip-path=\"url(#pe3b6c5115b)\" d=\"M 927.43821 333.36 \nL 932.536428 333.36 \nL 932.536428 320.934857 \nL 927.43821 320.934857 \nz\n\" style=\"fill:#8dd3c7;\"/>\n   </g>\n   <g id=\"patch_168\">\n    <path clip-path=\"url(#pe3b6c5115b)\" d=\"M 932.536428 333.36 \nL 937.634646 333.36 \nL 937.634646 329.218286 \nL 932.536428 329.218286 \nz\n\" style=\"fill:#8dd3c7;\"/>\n   </g>\n   <g id=\"patch_169\">\n    <path clip-path=\"url(#pe3b6c5115b)\" d=\"M 937.634646 333.36 \nL 942.732865 333.36 \nL 942.732865 333.36 \nL 937.634646 333.36 \nz\n\" style=\"fill:#8dd3c7;\"/>\n   </g>\n   <g id=\"patch_170\">\n    <path clip-path=\"url(#pe3b6c5115b)\" d=\"M 942.732865 333.36 \nL 947.831083 333.36 \nL 947.831083 325.076571 \nL 942.732865 325.076571 \nz\n\" style=\"fill:#8dd3c7;\"/>\n   </g>\n   <g id=\"patch_171\">\n    <path clip-path=\"url(#pe3b6c5115b)\" d=\"M 947.831083 333.36 \nL 952.929301 333.36 \nL 952.929301 325.076571 \nL 947.831083 325.076571 \nz\n\" style=\"fill:#8dd3c7;\"/>\n   </g>\n   <g id=\"patch_172\">\n    <path clip-path=\"url(#pe3b6c5115b)\" d=\"M 952.929301 333.36 \nL 958.02752 333.36 \nL 958.02752 320.934857 \nL 952.929301 320.934857 \nz\n\" style=\"fill:#8dd3c7;\"/>\n   </g>\n   <g id=\"patch_173\">\n    <path clip-path=\"url(#pe3b6c5115b)\" d=\"M 958.02752 333.36 \nL 963.125738 333.36 \nL 963.125738 329.218286 \nL 958.02752 329.218286 \nz\n\" style=\"fill:#8dd3c7;\"/>\n   </g>\n   <g id=\"patch_174\">\n    <path clip-path=\"url(#pe3b6c5115b)\" d=\"M 963.125738 333.36 \nL 968.223956 333.36 \nL 968.223956 329.218286 \nL 963.125738 329.218286 \nz\n\" style=\"fill:#8dd3c7;\"/>\n   </g>\n   <g id=\"patch_175\">\n    <path clip-path=\"url(#pe3b6c5115b)\" d=\"M 968.223956 333.36 \nL 973.322175 333.36 \nL 973.322175 325.076571 \nL 968.223956 325.076571 \nz\n\" style=\"fill:#8dd3c7;\"/>\n   </g>\n   <g id=\"patch_176\">\n    <path clip-path=\"url(#pe3b6c5115b)\" d=\"M 973.322175 333.36 \nL 978.420393 333.36 \nL 978.420393 316.793143 \nL 973.322175 316.793143 \nz\n\" style=\"fill:#8dd3c7;\"/>\n   </g>\n   <g id=\"patch_177\">\n    <path clip-path=\"url(#pe3b6c5115b)\" d=\"M 978.420393 333.36 \nL 983.518612 333.36 \nL 983.518612 333.36 \nL 978.420393 333.36 \nz\n\" style=\"fill:#8dd3c7;\"/>\n   </g>\n   <g id=\"patch_178\">\n    <path clip-path=\"url(#pe3b6c5115b)\" d=\"M 983.518612 333.36 \nL 988.61683 333.36 \nL 988.61683 320.934857 \nL 983.518612 320.934857 \nz\n\" style=\"fill:#8dd3c7;\"/>\n   </g>\n   <g id=\"patch_179\">\n    <path clip-path=\"url(#pe3b6c5115b)\" d=\"M 988.61683 333.36 \nL 993.715048 333.36 \nL 993.715048 333.36 \nL 988.61683 333.36 \nz\n\" style=\"fill:#8dd3c7;\"/>\n   </g>\n   <g id=\"patch_180\">\n    <path clip-path=\"url(#pe3b6c5115b)\" d=\"M 993.715048 333.36 \nL 998.813267 333.36 \nL 998.813267 333.36 \nL 993.715048 333.36 \nz\n\" style=\"fill:#8dd3c7;\"/>\n   </g>\n   <g id=\"patch_181\">\n    <path clip-path=\"url(#pe3b6c5115b)\" d=\"M 998.813267 333.36 \nL 1003.911485 333.36 \nL 1003.911485 333.36 \nL 998.813267 333.36 \nz\n\" style=\"fill:#8dd3c7;\"/>\n   </g>\n   <g id=\"patch_182\">\n    <path clip-path=\"url(#pe3b6c5115b)\" d=\"M 1003.911485 333.36 \nL 1009.009703 333.36 \nL 1009.009703 333.36 \nL 1003.911485 333.36 \nz\n\" style=\"fill:#8dd3c7;\"/>\n   </g>\n   <g id=\"patch_183\">\n    <path clip-path=\"url(#pe3b6c5115b)\" d=\"M 1009.009703 333.36 \nL 1014.107922 333.36 \nL 1014.107922 333.36 \nL 1009.009703 333.36 \nz\n\" style=\"fill:#8dd3c7;\"/>\n   </g>\n   <g id=\"patch_184\">\n    <path clip-path=\"url(#pe3b6c5115b)\" d=\"M 1014.107922 333.36 \nL 1019.20614 333.36 \nL 1019.20614 329.218286 \nL 1014.107922 329.218286 \nz\n\" style=\"fill:#8dd3c7;\"/>\n   </g>\n   <g id=\"patch_185\">\n    <path clip-path=\"url(#pe3b6c5115b)\" d=\"M 1019.20614 333.36 \nL 1024.304358 333.36 \nL 1024.304358 329.218286 \nL 1019.20614 329.218286 \nz\n\" style=\"fill:#8dd3c7;\"/>\n   </g>\n   <g id=\"patch_186\">\n    <path clip-path=\"url(#pe3b6c5115b)\" d=\"M 1024.304358 333.36 \nL 1029.402577 333.36 \nL 1029.402577 333.36 \nL 1024.304358 333.36 \nz\n\" style=\"fill:#8dd3c7;\"/>\n   </g>\n   <g id=\"patch_187\">\n    <path clip-path=\"url(#pe3b6c5115b)\" d=\"M 1029.402577 333.36 \nL 1034.500795 333.36 \nL 1034.500795 333.36 \nL 1029.402577 333.36 \nz\n\" style=\"fill:#8dd3c7;\"/>\n   </g>\n   <g id=\"patch_188\">\n    <path clip-path=\"url(#pe3b6c5115b)\" d=\"M 1034.500795 333.36 \nL 1039.599014 333.36 \nL 1039.599014 329.218286 \nL 1034.500795 329.218286 \nz\n\" style=\"fill:#8dd3c7;\"/>\n   </g>\n   <g id=\"patch_189\">\n    <path clip-path=\"url(#pe3b6c5115b)\" d=\"M 1039.599014 333.36 \nL 1044.697232 333.36 \nL 1044.697232 325.076571 \nL 1039.599014 325.076571 \nz\n\" style=\"fill:#8dd3c7;\"/>\n   </g>\n   <g id=\"patch_190\">\n    <path clip-path=\"url(#pe3b6c5115b)\" d=\"M 1044.697232 333.36 \nL 1049.79545 333.36 \nL 1049.79545 333.36 \nL 1044.697232 333.36 \nz\n\" style=\"fill:#8dd3c7;\"/>\n   </g>\n   <g id=\"patch_191\">\n    <path clip-path=\"url(#pe3b6c5115b)\" d=\"M 1049.79545 333.36 \nL 1054.893669 333.36 \nL 1054.893669 333.36 \nL 1049.79545 333.36 \nz\n\" style=\"fill:#8dd3c7;\"/>\n   </g>\n   <g id=\"patch_192\">\n    <path clip-path=\"url(#pe3b6c5115b)\" d=\"M 1054.893669 333.36 \nL 1059.991887 333.36 \nL 1059.991887 333.36 \nL 1054.893669 333.36 \nz\n\" style=\"fill:#8dd3c7;\"/>\n   </g>\n   <g id=\"patch_193\">\n    <path clip-path=\"url(#pe3b6c5115b)\" d=\"M 1059.991887 333.36 \nL 1065.090105 333.36 \nL 1065.090105 333.36 \nL 1059.991887 333.36 \nz\n\" style=\"fill:#8dd3c7;\"/>\n   </g>\n   <g id=\"patch_194\">\n    <path clip-path=\"url(#pe3b6c5115b)\" d=\"M 1065.090105 333.36 \nL 1070.188324 333.36 \nL 1070.188324 333.36 \nL 1065.090105 333.36 \nz\n\" style=\"fill:#8dd3c7;\"/>\n   </g>\n   <g id=\"patch_195\">\n    <path clip-path=\"url(#pe3b6c5115b)\" d=\"M 1070.188324 333.36 \nL 1075.286542 333.36 \nL 1075.286542 333.36 \nL 1070.188324 333.36 \nz\n\" style=\"fill:#8dd3c7;\"/>\n   </g>\n   <g id=\"patch_196\">\n    <path clip-path=\"url(#pe3b6c5115b)\" d=\"M 1075.286542 333.36 \nL 1080.38476 333.36 \nL 1080.38476 333.36 \nL 1075.286542 333.36 \nz\n\" style=\"fill:#8dd3c7;\"/>\n   </g>\n   <g id=\"patch_197\">\n    <path clip-path=\"url(#pe3b6c5115b)\" d=\"M 1080.38476 333.36 \nL 1085.482979 333.36 \nL 1085.482979 333.36 \nL 1080.38476 333.36 \nz\n\" style=\"fill:#8dd3c7;\"/>\n   </g>\n   <g id=\"patch_198\">\n    <path clip-path=\"url(#pe3b6c5115b)\" d=\"M 1085.482979 333.36 \nL 1090.581197 333.36 \nL 1090.581197 333.36 \nL 1085.482979 333.36 \nz\n\" style=\"fill:#8dd3c7;\"/>\n   </g>\n   <g id=\"patch_199\">\n    <path clip-path=\"url(#pe3b6c5115b)\" d=\"M 1090.581197 333.36 \nL 1095.679416 333.36 \nL 1095.679416 333.36 \nL 1090.581197 333.36 \nz\n\" style=\"fill:#8dd3c7;\"/>\n   </g>\n   <g id=\"patch_200\">\n    <path clip-path=\"url(#pe3b6c5115b)\" d=\"M 1095.679416 333.36 \nL 1100.777634 333.36 \nL 1100.777634 333.36 \nL 1095.679416 333.36 \nz\n\" style=\"fill:#8dd3c7;\"/>\n   </g>\n   <g id=\"patch_201\">\n    <path clip-path=\"url(#pe3b6c5115b)\" d=\"M 1100.777634 333.36 \nL 1105.875852 333.36 \nL 1105.875852 333.36 \nL 1100.777634 333.36 \nz\n\" style=\"fill:#8dd3c7;\"/>\n   </g>\n   <g id=\"matplotlib.axis_1\">\n    <g id=\"xtick_1\">\n     <g id=\"line2d_1\">\n      <path clip-path=\"url(#pe3b6c5115b)\" d=\"M 91.330398 333.36 \nL 91.330398 7.2 \n\" style=\"fill:none;stroke:#ffffff;stroke-linecap:square;stroke-width:0.8;\"/>\n     </g>\n     <g id=\"line2d_2\">\n      <defs>\n       <path d=\"M 0 0 \nL 0 3.5 \n\" id=\"m6121a5a7ec\" style=\"stroke:#ffffff;stroke-width:0.8;\"/>\n      </defs>\n      <g>\n       <use style=\"fill:#ffffff;stroke:#ffffff;stroke-width:0.8;\" x=\"91.330398\" xlink:href=\"#m6121a5a7ec\" y=\"333.36\"/>\n      </g>\n     </g>\n     <g id=\"text_1\">\n      <!-- 0 -->\n      <g style=\"fill:#ffffff;\" transform=\"translate(88.149148 347.958438)scale(0.1 -0.1)\">\n       <defs>\n        <path d=\"M 2034 4250 \nQ 1547 4250 1301 3770 \nQ 1056 3291 1056 2328 \nQ 1056 1369 1301 889 \nQ 1547 409 2034 409 \nQ 2525 409 2770 889 \nQ 3016 1369 3016 2328 \nQ 3016 3291 2770 3770 \nQ 2525 4250 2034 4250 \nz\nM 2034 4750 \nQ 2819 4750 3233 4129 \nQ 3647 3509 3647 2328 \nQ 3647 1150 3233 529 \nQ 2819 -91 2034 -91 \nQ 1250 -91 836 529 \nQ 422 1150 422 2328 \nQ 422 3509 836 4129 \nQ 1250 4750 2034 4750 \nz\n\" id=\"DejaVuSans-30\" transform=\"scale(0.015625)\"/>\n       </defs>\n       <use xlink:href=\"#DejaVuSans-30\"/>\n      </g>\n     </g>\n    </g>\n    <g id=\"xtick_2\">\n     <g id=\"line2d_3\">\n      <path clip-path=\"url(#pe3b6c5115b)\" d=\"M 215.507931 333.36 \nL 215.507931 7.2 \n\" style=\"fill:none;stroke:#ffffff;stroke-linecap:square;stroke-width:0.8;\"/>\n     </g>\n     <g id=\"line2d_4\">\n      <g>\n       <use style=\"fill:#ffffff;stroke:#ffffff;stroke-width:0.8;\" x=\"215.507931\" xlink:href=\"#m6121a5a7ec\" y=\"333.36\"/>\n      </g>\n     </g>\n     <g id=\"text_2\">\n      <!-- 250 -->\n      <g style=\"fill:#ffffff;\" transform=\"translate(205.964181 347.958438)scale(0.1 -0.1)\">\n       <defs>\n        <path d=\"M 1228 531 \nL 3431 531 \nL 3431 0 \nL 469 0 \nL 469 531 \nQ 828 903 1448 1529 \nQ 2069 2156 2228 2338 \nQ 2531 2678 2651 2914 \nQ 2772 3150 2772 3378 \nQ 2772 3750 2511 3984 \nQ 2250 4219 1831 4219 \nQ 1534 4219 1204 4116 \nQ 875 4013 500 3803 \nL 500 4441 \nQ 881 4594 1212 4672 \nQ 1544 4750 1819 4750 \nQ 2544 4750 2975 4387 \nQ 3406 4025 3406 3419 \nQ 3406 3131 3298 2873 \nQ 3191 2616 2906 2266 \nQ 2828 2175 2409 1742 \nQ 1991 1309 1228 531 \nz\n\" id=\"DejaVuSans-32\" transform=\"scale(0.015625)\"/>\n        <path d=\"M 691 4666 \nL 3169 4666 \nL 3169 4134 \nL 1269 4134 \nL 1269 2991 \nQ 1406 3038 1543 3061 \nQ 1681 3084 1819 3084 \nQ 2600 3084 3056 2656 \nQ 3513 2228 3513 1497 \nQ 3513 744 3044 326 \nQ 2575 -91 1722 -91 \nQ 1428 -91 1123 -41 \nQ 819 9 494 109 \nL 494 744 \nQ 775 591 1075 516 \nQ 1375 441 1709 441 \nQ 2250 441 2565 725 \nQ 2881 1009 2881 1497 \nQ 2881 1984 2565 2268 \nQ 2250 2553 1709 2553 \nQ 1456 2553 1204 2497 \nQ 953 2441 691 2322 \nL 691 4666 \nz\n\" id=\"DejaVuSans-35\" transform=\"scale(0.015625)\"/>\n       </defs>\n       <use xlink:href=\"#DejaVuSans-32\"/>\n       <use x=\"63.623047\" xlink:href=\"#DejaVuSans-35\"/>\n       <use x=\"127.246094\" xlink:href=\"#DejaVuSans-30\"/>\n      </g>\n     </g>\n    </g>\n    <g id=\"xtick_3\">\n     <g id=\"line2d_5\">\n      <path clip-path=\"url(#pe3b6c5115b)\" d=\"M 339.685465 333.36 \nL 339.685465 7.2 \n\" style=\"fill:none;stroke:#ffffff;stroke-linecap:square;stroke-width:0.8;\"/>\n     </g>\n     <g id=\"line2d_6\">\n      <g>\n       <use style=\"fill:#ffffff;stroke:#ffffff;stroke-width:0.8;\" x=\"339.685465\" xlink:href=\"#m6121a5a7ec\" y=\"333.36\"/>\n      </g>\n     </g>\n     <g id=\"text_3\">\n      <!-- 500 -->\n      <g style=\"fill:#ffffff;\" transform=\"translate(330.141715 347.958438)scale(0.1 -0.1)\">\n       <use xlink:href=\"#DejaVuSans-35\"/>\n       <use x=\"63.623047\" xlink:href=\"#DejaVuSans-30\"/>\n       <use x=\"127.246094\" xlink:href=\"#DejaVuSans-30\"/>\n      </g>\n     </g>\n    </g>\n    <g id=\"xtick_4\">\n     <g id=\"line2d_7\">\n      <path clip-path=\"url(#pe3b6c5115b)\" d=\"M 463.862998 333.36 \nL 463.862998 7.2 \n\" style=\"fill:none;stroke:#ffffff;stroke-linecap:square;stroke-width:0.8;\"/>\n     </g>\n     <g id=\"line2d_8\">\n      <g>\n       <use style=\"fill:#ffffff;stroke:#ffffff;stroke-width:0.8;\" x=\"463.862998\" xlink:href=\"#m6121a5a7ec\" y=\"333.36\"/>\n      </g>\n     </g>\n     <g id=\"text_4\">\n      <!-- 750 -->\n      <g style=\"fill:#ffffff;\" transform=\"translate(454.319248 347.958438)scale(0.1 -0.1)\">\n       <defs>\n        <path d=\"M 525 4666 \nL 3525 4666 \nL 3525 4397 \nL 1831 0 \nL 1172 0 \nL 2766 4134 \nL 525 4134 \nL 525 4666 \nz\n\" id=\"DejaVuSans-37\" transform=\"scale(0.015625)\"/>\n       </defs>\n       <use xlink:href=\"#DejaVuSans-37\"/>\n       <use x=\"63.623047\" xlink:href=\"#DejaVuSans-35\"/>\n       <use x=\"127.246094\" xlink:href=\"#DejaVuSans-30\"/>\n      </g>\n     </g>\n    </g>\n    <g id=\"xtick_5\">\n     <g id=\"line2d_9\">\n      <path clip-path=\"url(#pe3b6c5115b)\" d=\"M 588.040532 333.36 \nL 588.040532 7.2 \n\" style=\"fill:none;stroke:#ffffff;stroke-linecap:square;stroke-width:0.8;\"/>\n     </g>\n     <g id=\"line2d_10\">\n      <g>\n       <use style=\"fill:#ffffff;stroke:#ffffff;stroke-width:0.8;\" x=\"588.040532\" xlink:href=\"#m6121a5a7ec\" y=\"333.36\"/>\n      </g>\n     </g>\n     <g id=\"text_5\">\n      <!-- 1000 -->\n      <g style=\"fill:#ffffff;\" transform=\"translate(575.315532 347.958438)scale(0.1 -0.1)\">\n       <defs>\n        <path d=\"M 794 531 \nL 1825 531 \nL 1825 4091 \nL 703 3866 \nL 703 4441 \nL 1819 4666 \nL 2450 4666 \nL 2450 531 \nL 3481 531 \nL 3481 0 \nL 794 0 \nL 794 531 \nz\n\" id=\"DejaVuSans-31\" transform=\"scale(0.015625)\"/>\n       </defs>\n       <use xlink:href=\"#DejaVuSans-31\"/>\n       <use x=\"63.623047\" xlink:href=\"#DejaVuSans-30\"/>\n       <use x=\"127.246094\" xlink:href=\"#DejaVuSans-30\"/>\n       <use x=\"190.869141\" xlink:href=\"#DejaVuSans-30\"/>\n      </g>\n     </g>\n    </g>\n    <g id=\"xtick_6\">\n     <g id=\"line2d_11\">\n      <path clip-path=\"url(#pe3b6c5115b)\" d=\"M 712.218066 333.36 \nL 712.218066 7.2 \n\" style=\"fill:none;stroke:#ffffff;stroke-linecap:square;stroke-width:0.8;\"/>\n     </g>\n     <g id=\"line2d_12\">\n      <g>\n       <use style=\"fill:#ffffff;stroke:#ffffff;stroke-width:0.8;\" x=\"712.218066\" xlink:href=\"#m6121a5a7ec\" y=\"333.36\"/>\n      </g>\n     </g>\n     <g id=\"text_6\">\n      <!-- 1250 -->\n      <g style=\"fill:#ffffff;\" transform=\"translate(699.493066 347.958438)scale(0.1 -0.1)\">\n       <use xlink:href=\"#DejaVuSans-31\"/>\n       <use x=\"63.623047\" xlink:href=\"#DejaVuSans-32\"/>\n       <use x=\"127.246094\" xlink:href=\"#DejaVuSans-35\"/>\n       <use x=\"190.869141\" xlink:href=\"#DejaVuSans-30\"/>\n      </g>\n     </g>\n    </g>\n    <g id=\"xtick_7\">\n     <g id=\"line2d_13\">\n      <path clip-path=\"url(#pe3b6c5115b)\" d=\"M 836.395599 333.36 \nL 836.395599 7.2 \n\" style=\"fill:none;stroke:#ffffff;stroke-linecap:square;stroke-width:0.8;\"/>\n     </g>\n     <g id=\"line2d_14\">\n      <g>\n       <use style=\"fill:#ffffff;stroke:#ffffff;stroke-width:0.8;\" x=\"836.395599\" xlink:href=\"#m6121a5a7ec\" y=\"333.36\"/>\n      </g>\n     </g>\n     <g id=\"text_7\">\n      <!-- 1500 -->\n      <g style=\"fill:#ffffff;\" transform=\"translate(823.670599 347.958438)scale(0.1 -0.1)\">\n       <use xlink:href=\"#DejaVuSans-31\"/>\n       <use x=\"63.623047\" xlink:href=\"#DejaVuSans-35\"/>\n       <use x=\"127.246094\" xlink:href=\"#DejaVuSans-30\"/>\n       <use x=\"190.869141\" xlink:href=\"#DejaVuSans-30\"/>\n      </g>\n     </g>\n    </g>\n    <g id=\"xtick_8\">\n     <g id=\"line2d_15\">\n      <path clip-path=\"url(#pe3b6c5115b)\" d=\"M 960.573133 333.36 \nL 960.573133 7.2 \n\" style=\"fill:none;stroke:#ffffff;stroke-linecap:square;stroke-width:0.8;\"/>\n     </g>\n     <g id=\"line2d_16\">\n      <g>\n       <use style=\"fill:#ffffff;stroke:#ffffff;stroke-width:0.8;\" x=\"960.573133\" xlink:href=\"#m6121a5a7ec\" y=\"333.36\"/>\n      </g>\n     </g>\n     <g id=\"text_8\">\n      <!-- 1750 -->\n      <g style=\"fill:#ffffff;\" transform=\"translate(947.848133 347.958438)scale(0.1 -0.1)\">\n       <use xlink:href=\"#DejaVuSans-31\"/>\n       <use x=\"63.623047\" xlink:href=\"#DejaVuSans-37\"/>\n       <use x=\"127.246094\" xlink:href=\"#DejaVuSans-35\"/>\n       <use x=\"190.869141\" xlink:href=\"#DejaVuSans-30\"/>\n      </g>\n     </g>\n    </g>\n    <g id=\"xtick_9\">\n     <g id=\"line2d_17\">\n      <path clip-path=\"url(#pe3b6c5115b)\" d=\"M 1084.750666 333.36 \nL 1084.750666 7.2 \n\" style=\"fill:none;stroke:#ffffff;stroke-linecap:square;stroke-width:0.8;\"/>\n     </g>\n     <g id=\"line2d_18\">\n      <g>\n       <use style=\"fill:#ffffff;stroke:#ffffff;stroke-width:0.8;\" x=\"1084.750666\" xlink:href=\"#m6121a5a7ec\" y=\"333.36\"/>\n      </g>\n     </g>\n     <g id=\"text_9\">\n      <!-- 2000 -->\n      <g style=\"fill:#ffffff;\" transform=\"translate(1072.025666 347.958438)scale(0.1 -0.1)\">\n       <use xlink:href=\"#DejaVuSans-32\"/>\n       <use x=\"63.623047\" xlink:href=\"#DejaVuSans-30\"/>\n       <use x=\"127.246094\" xlink:href=\"#DejaVuSans-30\"/>\n       <use x=\"190.869141\" xlink:href=\"#DejaVuSans-30\"/>\n      </g>\n     </g>\n    </g>\n    <g id=\"text_10\">\n     <!-- Total words -->\n     <g style=\"fill:#ffffff;\" transform=\"translate(570.442187 361.636562)scale(0.1 -0.1)\">\n      <defs>\n       <path d=\"M -19 4666 \nL 3928 4666 \nL 3928 4134 \nL 2272 4134 \nL 2272 0 \nL 1638 0 \nL 1638 4134 \nL -19 4134 \nL -19 4666 \nz\n\" id=\"DejaVuSans-54\" transform=\"scale(0.015625)\"/>\n       <path d=\"M 1959 3097 \nQ 1497 3097 1228 2736 \nQ 959 2375 959 1747 \nQ 959 1119 1226 758 \nQ 1494 397 1959 397 \nQ 2419 397 2687 759 \nQ 2956 1122 2956 1747 \nQ 2956 2369 2687 2733 \nQ 2419 3097 1959 3097 \nz\nM 1959 3584 \nQ 2709 3584 3137 3096 \nQ 3566 2609 3566 1747 \nQ 3566 888 3137 398 \nQ 2709 -91 1959 -91 \nQ 1206 -91 779 398 \nQ 353 888 353 1747 \nQ 353 2609 779 3096 \nQ 1206 3584 1959 3584 \nz\n\" id=\"DejaVuSans-6f\" transform=\"scale(0.015625)\"/>\n       <path d=\"M 1172 4494 \nL 1172 3500 \nL 2356 3500 \nL 2356 3053 \nL 1172 3053 \nL 1172 1153 \nQ 1172 725 1289 603 \nQ 1406 481 1766 481 \nL 2356 481 \nL 2356 0 \nL 1766 0 \nQ 1100 0 847 248 \nQ 594 497 594 1153 \nL 594 3053 \nL 172 3053 \nL 172 3500 \nL 594 3500 \nL 594 4494 \nL 1172 4494 \nz\n\" id=\"DejaVuSans-74\" transform=\"scale(0.015625)\"/>\n       <path d=\"M 2194 1759 \nQ 1497 1759 1228 1600 \nQ 959 1441 959 1056 \nQ 959 750 1161 570 \nQ 1363 391 1709 391 \nQ 2188 391 2477 730 \nQ 2766 1069 2766 1631 \nL 2766 1759 \nL 2194 1759 \nz\nM 3341 1997 \nL 3341 0 \nL 2766 0 \nL 2766 531 \nQ 2569 213 2275 61 \nQ 1981 -91 1556 -91 \nQ 1019 -91 701 211 \nQ 384 513 384 1019 \nQ 384 1609 779 1909 \nQ 1175 2209 1959 2209 \nL 2766 2209 \nL 2766 2266 \nQ 2766 2663 2505 2880 \nQ 2244 3097 1772 3097 \nQ 1472 3097 1187 3025 \nQ 903 2953 641 2809 \nL 641 3341 \nQ 956 3463 1253 3523 \nQ 1550 3584 1831 3584 \nQ 2591 3584 2966 3190 \nQ 3341 2797 3341 1997 \nz\n\" id=\"DejaVuSans-61\" transform=\"scale(0.015625)\"/>\n       <path d=\"M 603 4863 \nL 1178 4863 \nL 1178 0 \nL 603 0 \nL 603 4863 \nz\n\" id=\"DejaVuSans-6c\" transform=\"scale(0.015625)\"/>\n       <path id=\"DejaVuSans-20\" transform=\"scale(0.015625)\"/>\n       <path d=\"M 269 3500 \nL 844 3500 \nL 1563 769 \nL 2278 3500 \nL 2956 3500 \nL 3675 769 \nL 4391 3500 \nL 4966 3500 \nL 4050 0 \nL 3372 0 \nL 2619 2869 \nL 1863 0 \nL 1184 0 \nL 269 3500 \nz\n\" id=\"DejaVuSans-77\" transform=\"scale(0.015625)\"/>\n       <path d=\"M 2631 2963 \nQ 2534 3019 2420 3045 \nQ 2306 3072 2169 3072 \nQ 1681 3072 1420 2755 \nQ 1159 2438 1159 1844 \nL 1159 0 \nL 581 0 \nL 581 3500 \nL 1159 3500 \nL 1159 2956 \nQ 1341 3275 1631 3429 \nQ 1922 3584 2338 3584 \nQ 2397 3584 2469 3576 \nQ 2541 3569 2628 3553 \nL 2631 2963 \nz\n\" id=\"DejaVuSans-72\" transform=\"scale(0.015625)\"/>\n       <path d=\"M 2906 2969 \nL 2906 4863 \nL 3481 4863 \nL 3481 0 \nL 2906 0 \nL 2906 525 \nQ 2725 213 2448 61 \nQ 2172 -91 1784 -91 \nQ 1150 -91 751 415 \nQ 353 922 353 1747 \nQ 353 2572 751 3078 \nQ 1150 3584 1784 3584 \nQ 2172 3584 2448 3432 \nQ 2725 3281 2906 2969 \nz\nM 947 1747 \nQ 947 1113 1208 752 \nQ 1469 391 1925 391 \nQ 2381 391 2643 752 \nQ 2906 1113 2906 1747 \nQ 2906 2381 2643 2742 \nQ 2381 3103 1925 3103 \nQ 1469 3103 1208 2742 \nQ 947 2381 947 1747 \nz\n\" id=\"DejaVuSans-64\" transform=\"scale(0.015625)\"/>\n       <path d=\"M 2834 3397 \nL 2834 2853 \nQ 2591 2978 2328 3040 \nQ 2066 3103 1784 3103 \nQ 1356 3103 1142 2972 \nQ 928 2841 928 2578 \nQ 928 2378 1081 2264 \nQ 1234 2150 1697 2047 \nL 1894 2003 \nQ 2506 1872 2764 1633 \nQ 3022 1394 3022 966 \nQ 3022 478 2636 193 \nQ 2250 -91 1575 -91 \nQ 1294 -91 989 -36 \nQ 684 19 347 128 \nL 347 722 \nQ 666 556 975 473 \nQ 1284 391 1588 391 \nQ 1994 391 2212 530 \nQ 2431 669 2431 922 \nQ 2431 1156 2273 1281 \nQ 2116 1406 1581 1522 \nL 1381 1569 \nQ 847 1681 609 1914 \nQ 372 2147 372 2553 \nQ 372 3047 722 3315 \nQ 1072 3584 1716 3584 \nQ 2034 3584 2315 3537 \nQ 2597 3491 2834 3397 \nz\n\" id=\"DejaVuSans-73\" transform=\"scale(0.015625)\"/>\n      </defs>\n      <use xlink:href=\"#DejaVuSans-54\"/>\n      <use x=\"44.083984\" xlink:href=\"#DejaVuSans-6f\"/>\n      <use x=\"105.265625\" xlink:href=\"#DejaVuSans-74\"/>\n      <use x=\"144.474609\" xlink:href=\"#DejaVuSans-61\"/>\n      <use x=\"205.753906\" xlink:href=\"#DejaVuSans-6c\"/>\n      <use x=\"233.537109\" xlink:href=\"#DejaVuSans-20\"/>\n      <use x=\"265.324219\" xlink:href=\"#DejaVuSans-77\"/>\n      <use x=\"347.111328\" xlink:href=\"#DejaVuSans-6f\"/>\n      <use x=\"408.292969\" xlink:href=\"#DejaVuSans-72\"/>\n      <use x=\"447.65625\" xlink:href=\"#DejaVuSans-64\"/>\n      <use x=\"511.132812\" xlink:href=\"#DejaVuSans-73\"/>\n     </g>\n    </g>\n   </g>\n   <g id=\"matplotlib.axis_2\">\n    <g id=\"ytick_1\">\n     <g id=\"line2d_19\">\n      <path clip-path=\"url(#pe3b6c5115b)\" d=\"M 40.603125 333.36 \nL 1156.603125 333.36 \n\" style=\"fill:none;stroke:#ffffff;stroke-linecap:square;stroke-width:0.8;\"/>\n     </g>\n     <g id=\"line2d_20\">\n      <defs>\n       <path d=\"M 0 0 \nL -3.5 0 \n\" id=\"md3ce9eefe4\" style=\"stroke:#ffffff;stroke-width:0.8;\"/>\n      </defs>\n      <g>\n       <use style=\"fill:#ffffff;stroke:#ffffff;stroke-width:0.8;\" x=\"40.603125\" xlink:href=\"#md3ce9eefe4\" y=\"333.36\"/>\n      </g>\n     </g>\n     <g id=\"text_11\">\n      <!-- 0 -->\n      <g style=\"fill:#ffffff;\" transform=\"translate(27.240625 337.159219)scale(0.1 -0.1)\">\n       <use xlink:href=\"#DejaVuSans-30\"/>\n      </g>\n     </g>\n    </g>\n    <g id=\"ytick_2\">\n     <g id=\"line2d_21\">\n      <path clip-path=\"url(#pe3b6c5115b)\" d=\"M 40.603125 291.942857 \nL 1156.603125 291.942857 \n\" style=\"fill:none;stroke:#ffffff;stroke-linecap:square;stroke-width:0.8;\"/>\n     </g>\n     <g id=\"line2d_22\">\n      <g>\n       <use style=\"fill:#ffffff;stroke:#ffffff;stroke-width:0.8;\" x=\"40.603125\" xlink:href=\"#md3ce9eefe4\" y=\"291.942857\"/>\n      </g>\n     </g>\n     <g id=\"text_12\">\n      <!-- 10 -->\n      <g style=\"fill:#ffffff;\" transform=\"translate(20.878125 295.742076)scale(0.1 -0.1)\">\n       <use xlink:href=\"#DejaVuSans-31\"/>\n       <use x=\"63.623047\" xlink:href=\"#DejaVuSans-30\"/>\n      </g>\n     </g>\n    </g>\n    <g id=\"ytick_3\">\n     <g id=\"line2d_23\">\n      <path clip-path=\"url(#pe3b6c5115b)\" d=\"M 40.603125 250.525714 \nL 1156.603125 250.525714 \n\" style=\"fill:none;stroke:#ffffff;stroke-linecap:square;stroke-width:0.8;\"/>\n     </g>\n     <g id=\"line2d_24\">\n      <g>\n       <use style=\"fill:#ffffff;stroke:#ffffff;stroke-width:0.8;\" x=\"40.603125\" xlink:href=\"#md3ce9eefe4\" y=\"250.525714\"/>\n      </g>\n     </g>\n     <g id=\"text_13\">\n      <!-- 20 -->\n      <g style=\"fill:#ffffff;\" transform=\"translate(20.878125 254.324933)scale(0.1 -0.1)\">\n       <use xlink:href=\"#DejaVuSans-32\"/>\n       <use x=\"63.623047\" xlink:href=\"#DejaVuSans-30\"/>\n      </g>\n     </g>\n    </g>\n    <g id=\"ytick_4\">\n     <g id=\"line2d_25\">\n      <path clip-path=\"url(#pe3b6c5115b)\" d=\"M 40.603125 209.108571 \nL 1156.603125 209.108571 \n\" style=\"fill:none;stroke:#ffffff;stroke-linecap:square;stroke-width:0.8;\"/>\n     </g>\n     <g id=\"line2d_26\">\n      <g>\n       <use style=\"fill:#ffffff;stroke:#ffffff;stroke-width:0.8;\" x=\"40.603125\" xlink:href=\"#md3ce9eefe4\" y=\"209.108571\"/>\n      </g>\n     </g>\n     <g id=\"text_14\">\n      <!-- 30 -->\n      <g style=\"fill:#ffffff;\" transform=\"translate(20.878125 212.90779)scale(0.1 -0.1)\">\n       <defs>\n        <path d=\"M 2597 2516 \nQ 3050 2419 3304 2112 \nQ 3559 1806 3559 1356 \nQ 3559 666 3084 287 \nQ 2609 -91 1734 -91 \nQ 1441 -91 1130 -33 \nQ 819 25 488 141 \nL 488 750 \nQ 750 597 1062 519 \nQ 1375 441 1716 441 \nQ 2309 441 2620 675 \nQ 2931 909 2931 1356 \nQ 2931 1769 2642 2001 \nQ 2353 2234 1838 2234 \nL 1294 2234 \nL 1294 2753 \nL 1863 2753 \nQ 2328 2753 2575 2939 \nQ 2822 3125 2822 3475 \nQ 2822 3834 2567 4026 \nQ 2313 4219 1838 4219 \nQ 1578 4219 1281 4162 \nQ 984 4106 628 3988 \nL 628 4550 \nQ 988 4650 1302 4700 \nQ 1616 4750 1894 4750 \nQ 2613 4750 3031 4423 \nQ 3450 4097 3450 3541 \nQ 3450 3153 3228 2886 \nQ 3006 2619 2597 2516 \nz\n\" id=\"DejaVuSans-33\" transform=\"scale(0.015625)\"/>\n       </defs>\n       <use xlink:href=\"#DejaVuSans-33\"/>\n       <use x=\"63.623047\" xlink:href=\"#DejaVuSans-30\"/>\n      </g>\n     </g>\n    </g>\n    <g id=\"ytick_5\">\n     <g id=\"line2d_27\">\n      <path clip-path=\"url(#pe3b6c5115b)\" d=\"M 40.603125 167.691429 \nL 1156.603125 167.691429 \n\" style=\"fill:none;stroke:#ffffff;stroke-linecap:square;stroke-width:0.8;\"/>\n     </g>\n     <g id=\"line2d_28\">\n      <g>\n       <use style=\"fill:#ffffff;stroke:#ffffff;stroke-width:0.8;\" x=\"40.603125\" xlink:href=\"#md3ce9eefe4\" y=\"167.691429\"/>\n      </g>\n     </g>\n     <g id=\"text_15\">\n      <!-- 40 -->\n      <g style=\"fill:#ffffff;\" transform=\"translate(20.878125 171.490647)scale(0.1 -0.1)\">\n       <defs>\n        <path d=\"M 2419 4116 \nL 825 1625 \nL 2419 1625 \nL 2419 4116 \nz\nM 2253 4666 \nL 3047 4666 \nL 3047 1625 \nL 3713 1625 \nL 3713 1100 \nL 3047 1100 \nL 3047 0 \nL 2419 0 \nL 2419 1100 \nL 313 1100 \nL 313 1709 \nL 2253 4666 \nz\n\" id=\"DejaVuSans-34\" transform=\"scale(0.015625)\"/>\n       </defs>\n       <use xlink:href=\"#DejaVuSans-34\"/>\n       <use x=\"63.623047\" xlink:href=\"#DejaVuSans-30\"/>\n      </g>\n     </g>\n    </g>\n    <g id=\"ytick_6\">\n     <g id=\"line2d_29\">\n      <path clip-path=\"url(#pe3b6c5115b)\" d=\"M 40.603125 126.274286 \nL 1156.603125 126.274286 \n\" style=\"fill:none;stroke:#ffffff;stroke-linecap:square;stroke-width:0.8;\"/>\n     </g>\n     <g id=\"line2d_30\">\n      <g>\n       <use style=\"fill:#ffffff;stroke:#ffffff;stroke-width:0.8;\" x=\"40.603125\" xlink:href=\"#md3ce9eefe4\" y=\"126.274286\"/>\n      </g>\n     </g>\n     <g id=\"text_16\">\n      <!-- 50 -->\n      <g style=\"fill:#ffffff;\" transform=\"translate(20.878125 130.073504)scale(0.1 -0.1)\">\n       <use xlink:href=\"#DejaVuSans-35\"/>\n       <use x=\"63.623047\" xlink:href=\"#DejaVuSans-30\"/>\n      </g>\n     </g>\n    </g>\n    <g id=\"ytick_7\">\n     <g id=\"line2d_31\">\n      <path clip-path=\"url(#pe3b6c5115b)\" d=\"M 40.603125 84.857143 \nL 1156.603125 84.857143 \n\" style=\"fill:none;stroke:#ffffff;stroke-linecap:square;stroke-width:0.8;\"/>\n     </g>\n     <g id=\"line2d_32\">\n      <g>\n       <use style=\"fill:#ffffff;stroke:#ffffff;stroke-width:0.8;\" x=\"40.603125\" xlink:href=\"#md3ce9eefe4\" y=\"84.857143\"/>\n      </g>\n     </g>\n     <g id=\"text_17\">\n      <!-- 60 -->\n      <g style=\"fill:#ffffff;\" transform=\"translate(20.878125 88.656362)scale(0.1 -0.1)\">\n       <defs>\n        <path d=\"M 2113 2584 \nQ 1688 2584 1439 2293 \nQ 1191 2003 1191 1497 \nQ 1191 994 1439 701 \nQ 1688 409 2113 409 \nQ 2538 409 2786 701 \nQ 3034 994 3034 1497 \nQ 3034 2003 2786 2293 \nQ 2538 2584 2113 2584 \nz\nM 3366 4563 \nL 3366 3988 \nQ 3128 4100 2886 4159 \nQ 2644 4219 2406 4219 \nQ 1781 4219 1451 3797 \nQ 1122 3375 1075 2522 \nQ 1259 2794 1537 2939 \nQ 1816 3084 2150 3084 \nQ 2853 3084 3261 2657 \nQ 3669 2231 3669 1497 \nQ 3669 778 3244 343 \nQ 2819 -91 2113 -91 \nQ 1303 -91 875 529 \nQ 447 1150 447 2328 \nQ 447 3434 972 4092 \nQ 1497 4750 2381 4750 \nQ 2619 4750 2861 4703 \nQ 3103 4656 3366 4563 \nz\n\" id=\"DejaVuSans-36\" transform=\"scale(0.015625)\"/>\n       </defs>\n       <use xlink:href=\"#DejaVuSans-36\"/>\n       <use x=\"63.623047\" xlink:href=\"#DejaVuSans-30\"/>\n      </g>\n     </g>\n    </g>\n    <g id=\"ytick_8\">\n     <g id=\"line2d_33\">\n      <path clip-path=\"url(#pe3b6c5115b)\" d=\"M 40.603125 43.44 \nL 1156.603125 43.44 \n\" style=\"fill:none;stroke:#ffffff;stroke-linecap:square;stroke-width:0.8;\"/>\n     </g>\n     <g id=\"line2d_34\">\n      <g>\n       <use style=\"fill:#ffffff;stroke:#ffffff;stroke-width:0.8;\" x=\"40.603125\" xlink:href=\"#md3ce9eefe4\" y=\"43.44\"/>\n      </g>\n     </g>\n     <g id=\"text_18\">\n      <!-- 70 -->\n      <g style=\"fill:#ffffff;\" transform=\"translate(20.878125 47.239219)scale(0.1 -0.1)\">\n       <use xlink:href=\"#DejaVuSans-37\"/>\n       <use x=\"63.623047\" xlink:href=\"#DejaVuSans-30\"/>\n      </g>\n     </g>\n    </g>\n    <g id=\"text_19\">\n     <!-- Count -->\n     <g style=\"fill:#ffffff;\" transform=\"translate(14.798438 185.128437)rotate(-90)scale(0.1 -0.1)\">\n      <defs>\n       <path d=\"M 4122 4306 \nL 4122 3641 \nQ 3803 3938 3442 4084 \nQ 3081 4231 2675 4231 \nQ 1875 4231 1450 3742 \nQ 1025 3253 1025 2328 \nQ 1025 1406 1450 917 \nQ 1875 428 2675 428 \nQ 3081 428 3442 575 \nQ 3803 722 4122 1019 \nL 4122 359 \nQ 3791 134 3420 21 \nQ 3050 -91 2638 -91 \nQ 1578 -91 968 557 \nQ 359 1206 359 2328 \nQ 359 3453 968 4101 \nQ 1578 4750 2638 4750 \nQ 3056 4750 3426 4639 \nQ 3797 4528 4122 4306 \nz\n\" id=\"DejaVuSans-43\" transform=\"scale(0.015625)\"/>\n       <path d=\"M 544 1381 \nL 544 3500 \nL 1119 3500 \nL 1119 1403 \nQ 1119 906 1312 657 \nQ 1506 409 1894 409 \nQ 2359 409 2629 706 \nQ 2900 1003 2900 1516 \nL 2900 3500 \nL 3475 3500 \nL 3475 0 \nL 2900 0 \nL 2900 538 \nQ 2691 219 2414 64 \nQ 2138 -91 1772 -91 \nQ 1169 -91 856 284 \nQ 544 659 544 1381 \nz\nM 1991 3584 \nL 1991 3584 \nz\n\" id=\"DejaVuSans-75\" transform=\"scale(0.015625)\"/>\n       <path d=\"M 3513 2113 \nL 3513 0 \nL 2938 0 \nL 2938 2094 \nQ 2938 2591 2744 2837 \nQ 2550 3084 2163 3084 \nQ 1697 3084 1428 2787 \nQ 1159 2491 1159 1978 \nL 1159 0 \nL 581 0 \nL 581 3500 \nL 1159 3500 \nL 1159 2956 \nQ 1366 3272 1645 3428 \nQ 1925 3584 2291 3584 \nQ 2894 3584 3203 3211 \nQ 3513 2838 3513 2113 \nz\n\" id=\"DejaVuSans-6e\" transform=\"scale(0.015625)\"/>\n      </defs>\n      <use xlink:href=\"#DejaVuSans-43\"/>\n      <use x=\"69.824219\" xlink:href=\"#DejaVuSans-6f\"/>\n      <use x=\"131.005859\" xlink:href=\"#DejaVuSans-75\"/>\n      <use x=\"194.384766\" xlink:href=\"#DejaVuSans-6e\"/>\n      <use x=\"257.763672\" xlink:href=\"#DejaVuSans-74\"/>\n     </g>\n    </g>\n   </g>\n   <g id=\"patch_202\">\n    <path d=\"M 40.603125 333.36 \nL 40.603125 7.2 \n\" style=\"fill:none;stroke:#ffffff;stroke-linecap:square;stroke-linejoin:miter;stroke-width:0.8;\"/>\n   </g>\n   <g id=\"patch_203\">\n    <path d=\"M 1156.603125 333.36 \nL 1156.603125 7.2 \n\" style=\"fill:none;stroke:#ffffff;stroke-linecap:square;stroke-linejoin:miter;stroke-width:0.8;\"/>\n   </g>\n   <g id=\"patch_204\">\n    <path d=\"M 40.603125 333.36 \nL 1156.603125 333.36 \n\" style=\"fill:none;stroke:#ffffff;stroke-linecap:square;stroke-linejoin:miter;stroke-width:0.8;\"/>\n   </g>\n   <g id=\"patch_205\">\n    <path d=\"M 40.603125 7.2 \nL 1156.603125 7.2 \n\" style=\"fill:none;stroke:#ffffff;stroke-linecap:square;stroke-linejoin:miter;stroke-width:0.8;\"/>\n   </g>\n  </g>\n </g>\n <defs>\n  <clipPath id=\"pe3b6c5115b\">\n   <rect height=\"326.16\" width=\"1116\" x=\"40.603125\" y=\"7.2\"/>\n  </clipPath>\n </defs>\n</svg>\n",
      "image/png": "[encoded data removed]"
     },
     "metadata": {
      "needs_background": "dark"
     }
    }
   ],
   "metadata": {}
  },
  {
   "cell_type": "markdown",
   "source": [
    "### Removing patents with not enough text (less than 30 words)"
   ],
   "metadata": {}
  },
  {
   "cell_type": "code",
   "execution_count": 13,
   "source": [
    "seed = seed[seed['tokens'].apply(lambda x: len(x) > 30)]\n",
    "seed.reset_index(drop=True, inplace=True)"
   ],
   "outputs": [],
   "metadata": {}
  },
  {
   "cell_type": "code",
   "execution_count": 14,
   "source": [
    "import pickle\n",
    "\n",
    "with open(src_dir + \"/data/\" + seed_name + '/cleaned_text.pkl', 'wb') as outfile:\n",
    "    pickle.dump(seed, outfile, protocol=pickle.HIGHEST_PROTOCOL)"
   ],
   "outputs": [],
   "metadata": {}
  },
  {
   "cell_type": "code",
   "execution_count": null,
   "source": [],
   "outputs": [],
   "metadata": {}
  }
 ],
 "metadata": {
  "interpreter": {
   "hash": "aa5ec9471d3d13c3046f5d3b4629dac5b64613d5f87be8abc1997b9dd1518eac"
  },
  "kernelspec": {
   "name": "python3",
   "display_name": "Python 3.9.6 64-bit"
  },
  "language_info": {
   "name": "python",
   "version": "3.9.6",
   "mimetype": "text/x-python",
   "codemirror_mode": {
    "name": "ipython",
    "version": 3
   },
   "pygments_lexer": "ipython3",
   "nbconvert_exporter": "python",
   "file_extension": ".py"
  }
 },
 "nbformat": 4,
 "nbformat_minor": 4
}